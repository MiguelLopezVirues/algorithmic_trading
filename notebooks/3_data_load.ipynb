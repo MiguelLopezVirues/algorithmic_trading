{
 "cells": [
  {
   "cell_type": "code",
   "execution_count": 2,
   "metadata": {},
   "outputs": [],
   "source": [
    "import pandas as pd\n",
    "import sys\n",
    "sys.path.append(\"..\")\n",
    "\n",
    "from src.support.data_extraction import TickersFetcher\n",
    "from src.support.data_transformation import TickerExtender, TechnicalIndicators\n",
    "from src.support.data_load import MongoDBHandler\n",
    "\n",
    "from src.support.utils import load_tickers_to_include"
   ]
  },
  {
   "cell_type": "markdown",
   "metadata": {},
   "source": [
    "TO-DO:\n",
    "- [] Implement ETL for stock tickers\n",
    "- Implement ETL for macro indicators\n",
    "    - [Wait for this, as it is very subject to change] Different indicators might need different classes or functions.\n",
    "\n"
   ]
  },
  {
   "cell_type": "markdown",
   "metadata": {},
   "source": [
    "# 1. ETL for tickers"
   ]
  },
  {
   "cell_type": "code",
   "execution_count": 4,
   "metadata": {},
   "outputs": [
    {
     "data": {
      "text/plain": [
       "['MSFT',\n",
       " 'AAPL',\n",
       " 'GOOG',\n",
       " 'NVDA',\n",
       " 'AMZN',\n",
       " 'META',\n",
       " 'BRK-B',\n",
       " 'LLY',\n",
       " 'AVGO',\n",
       " 'V',\n",
       " 'JPM',\n",
       " 'NVO',\n",
       " 'MC.PA',\n",
       " 'ASML',\n",
       " 'RMS.PA',\n",
       " 'OR.PA',\n",
       " 'SAP',\n",
       " 'ACN',\n",
       " 'TTE',\n",
       " 'SIE.DE',\n",
       " 'IDEXY',\n",
       " 'CDI.PA',\n",
       " 'RELIANCE.NS',\n",
       " 'TCS.NS',\n",
       " 'HDB',\n",
       " 'BHARTIARTL.NS',\n",
       " 'IBN',\n",
       " 'SBIN.NS',\n",
       " 'LICI.NS',\n",
       " 'INFY',\n",
       " 'ITC.NS',\n",
       " 'HINDUNILVR.NS',\n",
       " 'LT.NS']"
      ]
     },
     "execution_count": 4,
     "metadata": {},
     "output_type": "execute_result"
    }
   ],
   "source": [
    "load_tickers_to_include()[\"TICKERS\"]"
   ]
  },
  {
   "cell_type": "code",
   "execution_count": null,
   "metadata": {},
   "outputs": [],
   "source": []
  }
 ],
 "metadata": {
  "kernelspec": {
   "display_name": "algorithmic_trading",
   "language": "python",
   "name": "algorithmic_trading"
  },
  "language_info": {
   "codemirror_mode": {
    "name": "ipython",
    "version": 3
   },
   "file_extension": ".py",
   "mimetype": "text/x-python",
   "name": "python",
   "nbconvert_exporter": "python",
   "pygments_lexer": "ipython3",
   "version": "3.10.12"
  }
 },
 "nbformat": 4,
 "nbformat_minor": 2
}
