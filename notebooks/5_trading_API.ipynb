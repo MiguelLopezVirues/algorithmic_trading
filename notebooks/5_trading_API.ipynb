{
 "cells": [
  {
   "cell_type": "code",
   "execution_count": null,
   "metadata": {},
   "outputs": [
    {
     "name": "stdout",
     "output_type": "stream",
     "text": [
      "The autoreload extension is already loaded. To reload it, use:\n",
      "  %reload_ext autoreload\n"
     ]
    }
   ],
   "source": [
    "%load_ext autoreload\n",
    "%autoreload 2\n",
    "import pandas as pd\n",
    "import requests\n",
    "from dotenv import load_dotenv\n",
    "import os\n",
    "from typing import Optional, List, Dict, Union\n",
    "from datetime import datetime, timedelta, timezone\n",
    "from bson.objectid import ObjectId\n",
    "\n",
    "load_dotenv()\n",
    "API_KEY = os.environ.get(\"ALPACA_KEY\")\n",
    "ALPACA_SECRET = os.environ.get(\"ALPACA_SECRET\")\n",
    "ALPACA_AUTH = os.environ.get(\"ALPACA_AUTH\")\n",
    "\n",
    "headers = {\n",
    "    \"accept\": \"application/json\",\n",
    "    \"content-type\": \"application/json\",\n",
    "    \"authorization\": ALPACA_AUTH\n",
    "}"
   ]
  },
  {
   "cell_type": "code",
   "execution_count": 471,
   "metadata": {},
   "outputs": [],
   "source": [
    "clients_account_id = {\"client_1\": \"dcfbefb1-cbaa-4e60-9cef-9db801b8eb13\",\n",
    "                      \"client_2\": \"edafa6db-b501-4d69-95c8-b92793a3680c\",\n",
    "                      \"client_3\": \"b4363824-8773-4f6f-96d3-e24c1e80e208\"}"
   ]
  },
  {
   "cell_type": "code",
   "execution_count": 398,
   "metadata": {},
   "outputs": [],
   "source": [
    "def get_account_trading_details(account_id):\n",
    "    url = f\"https://broker-api.sandbox.alpaca.markets/v1/trading/accounts/{account_id}/account\"\n",
    "\n",
    "    response = requests.get(url, headers=headers)\n",
    "\n",
    "    print(response.json())\n",
    "\n",
    "    return response.json()"
   ]
  },
  {
   "cell_type": "markdown",
   "metadata": {},
   "source": [
    "Make INCOMING (flowing into the wallet) simulated bank transaction for the client into his account wallet. \n",
    "1. Get the client-bank relationship_id."
   ]
  },
  {
   "cell_type": "code",
   "execution_count": 399,
   "metadata": {},
   "outputs": [
    {
     "name": "stdout",
     "output_type": "stream",
     "text": [
      "[{'id': 'd69ab9ad-a76f-472c-ab2f-ce9f33c240f2', 'account_id': 'dcfbefb1-cbaa-4e60-9cef-9db801b8eb13', 'created_at': '2025-01-14T19:37:28.811463Z', 'updated_at': '2025-01-14T19:39:49.308484Z', 'status': 'APPROVED', 'account_owner_name': 'Clever Wilson', 'bank_account_type': 'CHECKING', 'bank_account_number': '32131231abc', 'bank_routing_number': '123103716', 'nickname': 'Bank of America Checking', 'processor_token': None}]\n",
      "The relationship_id is <built-in function id>\n"
     ]
    }
   ],
   "source": [
    "account_id = \"dcfbefb1-cbaa-4e60-9cef-9db801b8eb13\"\n",
    "\n",
    "url = f\"https://broker-api.sandbox.alpaca.markets/v1/accounts/{account_id}/ach_relationships\"\n",
    "\n",
    "response = requests.get(url, headers=headers)\n",
    "\n",
    "print(response.json())\n",
    "relationship_id = response.json()[0][\"id\"]\n",
    "print(f\"The relationship_id is {id}\")"
   ]
  },
  {
   "cell_type": "code",
   "execution_count": 400,
   "metadata": {},
   "outputs": [
    {
     "name": "stdout",
     "output_type": "stream",
     "text": [
      "The relationship_id for client 'dcfbefb1-cbaa-4e60-9cef-9db801b8eb13' is 'd69ab9ad-a76f-472c-ab2f-ce9f33c240f2'.\n"
     ]
    }
   ],
   "source": [
    "account_id = \"dcfbefb1-cbaa-4e60-9cef-9db801b8eb13\"\n",
    "\n",
    "def get_account_relationship_id(account_id: str):\n",
    "    url = f\"https://broker-api.sandbox.alpaca.markets/v1/accounts/{account_id}/ach_relationships\"\n",
    "\n",
    "    response = requests.get(url, headers=headers)\n",
    "\n",
    "    relationship_id = response.json()[0][\"id\"]\n",
    "    return relationship_id\n",
    "\n",
    "\n",
    "relationship_id = get_account_relationship_id(clients_account_id[\"client_1\"])\n",
    "\n",
    "print(f\"The relationship_id for client '{clients_account_id['client_1']}' is '{relationship_id}'.\")"
   ]
  },
  {
   "cell_type": "markdown",
   "metadata": {},
   "source": [
    "2. Make the transaction (max. 1 per day)"
   ]
  },
  {
   "cell_type": "code",
   "execution_count": 401,
   "metadata": {},
   "outputs": [
    {
     "name": "stdout",
     "output_type": "stream",
     "text": [
      "{'id': '92c73d76-edde-4361-891a-499a69bd4d27', 'relationship_id': 'd69ab9ad-a76f-472c-ab2f-ce9f33c240f2', 'account_id': 'dcfbefb1-cbaa-4e60-9cef-9db801b8eb13', 'type': 'ach', 'status': 'QUEUED', 'currency': 'USD', 'amount': '10', 'instant_amount': '0', 'direction': 'INCOMING', 'created_at': '2025-01-24T02:32:14.571703656-05:00', 'updated_at': '2025-01-24T02:32:14.571703656-05:00', 'expires_at': '2025-01-31T02:32:14.571049556-05:00', 'reason': None, 'hold_until': None, 'requested_amount': '10', 'fee': '0', 'fee_payment_method': 'user'}\n"
     ]
    }
   ],
   "source": [
    "url = f\"https://broker-api.sandbox.alpaca.markets/v1/accounts/{account_id}/transfers\"\n",
    "\n",
    "payload = {\n",
    "    \"transfer_type\": \"ach\",\n",
    "    \"direction\": \"INCOMING\",\n",
    "    \"timing\": \"immediate\",\n",
    "    \"relationship_id\": f\"{relationship_id}\",\n",
    "    \"amount\": \"10\"\n",
    "}\n",
    "headers = {\n",
    "    \"accept\": \"application/json\",\n",
    "    \"content-type\": \"application/json\",\n",
    "    \"authorization\": ALPACA_AUTH\n",
    "}\n",
    "\n",
    "response = requests.post(url, json=payload, headers=headers)\n",
    "\n",
    "print(response.json())\n",
    "\n"
   ]
  },
  {
   "cell_type": "markdown",
   "metadata": {},
   "source": []
  },
  {
   "cell_type": "code",
   "execution_count": 472,
   "metadata": {},
   "outputs": [
    {
     "name": "stdout",
     "output_type": "stream",
     "text": [
      "{'id': '40641a46-ff00-4cb2-8a85-c4e9e0403e6c', 'relationship_id': '2f761e69-604e-4d27-b1db-6f5e7c37a5d4', 'account_id': 'b4363824-8773-4f6f-96d3-e24c1e80e208', 'type': 'ach', 'status': 'QUEUED', 'currency': 'USD', 'amount': '50000', 'instant_amount': '0', 'direction': 'INCOMING', 'created_at': '2025-01-24T03:44:25.870488725-05:00', 'updated_at': '2025-01-24T03:44:25.870488725-05:00', 'expires_at': '2025-01-31T03:44:25.869969465-05:00', 'reason': None, 'hold_until': None, 'requested_amount': '50000', 'fee': '0', 'fee_payment_method': 'user'}\n"
     ]
    },
    {
     "data": {
      "text/plain": [
       "{'id': '40641a46-ff00-4cb2-8a85-c4e9e0403e6c',\n",
       " 'relationship_id': '2f761e69-604e-4d27-b1db-6f5e7c37a5d4',\n",
       " 'account_id': 'b4363824-8773-4f6f-96d3-e24c1e80e208',\n",
       " 'type': 'ach',\n",
       " 'status': 'QUEUED',\n",
       " 'currency': 'USD',\n",
       " 'amount': '50000',\n",
       " 'instant_amount': '0',\n",
       " 'direction': 'INCOMING',\n",
       " 'created_at': '2025-01-24T03:44:25.870488725-05:00',\n",
       " 'updated_at': '2025-01-24T03:44:25.870488725-05:00',\n",
       " 'expires_at': '2025-01-31T03:44:25.869969465-05:00',\n",
       " 'reason': None,\n",
       " 'hold_until': None,\n",
       " 'requested_amount': '50000',\n",
       " 'fee': '0',\n",
       " 'fee_payment_method': 'user'}"
      ]
     },
     "execution_count": 472,
     "metadata": {},
     "output_type": "execute_result"
    }
   ],
   "source": [
    "def make_funding_transaction(account_id: str, relationship_id, amount):\n",
    "    url = f\"https://broker-api.sandbox.alpaca.markets/v1/accounts/{account_id}/transfers\"\n",
    "\n",
    "    payload = {\n",
    "        \"transfer_type\": \"ach\",\n",
    "        \"direction\": \"INCOMING\",\n",
    "        \"timing\": \"immediate\",\n",
    "        \"relationship_id\": f\"{relationship_id}\",\n",
    "        \"amount\": str(amount)\n",
    "    }\n",
    "\n",
    "    response = requests.post(url, json=payload, headers=headers)\n",
    "\n",
    "    print(response.json())\n",
    "\n",
    "    return response.json()\n",
    "\n",
    "make_funding_transaction(clients_account_id['client_3'], \"2f761e69-604e-4d27-b1db-6f5e7c37a5d4\", 50000)"
   ]
  },
  {
   "cell_type": "code",
   "execution_count": 403,
   "metadata": {},
   "outputs": [],
   "source": [
    "def get_open_positions_client(account_id: str, symbol_id: Optional[str] = None):\n",
    "    url = f\"https://broker-api.sandbox.alpaca.markets/v1/trading/accounts/{account_id}/positions\"\n",
    "\n",
    "    if symbol_id:\n",
    "        url += f\"/{symbol_id}\"\n",
    "\n",
    "    response = requests.get(url, headers=headers)\n",
    "\n",
    "    print(response.json())\n",
    "\n",
    "    return response.json()"
   ]
  },
  {
   "cell_type": "code",
   "execution_count": 404,
   "metadata": {},
   "outputs": [],
   "source": [
    "def close_all_open_positions_client(account_id):\n",
    "    url = f\"https://broker-api.sandbox.alpaca.markets/v1/trading/accounts/{account_id}/positions\"\n",
    "\n",
    "    response = requests.delete(url, headers=headers)\n",
    "\n",
    "    print(response.json())\n",
    "\n",
    "    return response.json()"
   ]
  },
  {
   "cell_type": "code",
   "execution_count": 405,
   "metadata": {},
   "outputs": [],
   "source": [
    "def close_symbol_position_client(account_id: str, symbol: str, magnitude: float, mode: str=\"percentage\"):\n",
    "    url = f\"https://broker-api.sandbox.alpaca.markets/v1/trading/accounts/{account_id}/positions/{symbol}\"\n",
    "\n",
    "    if mode == \"percentage\":\n",
    "        url += f\"?percentage={magnitude}\"\n",
    "    elif mode == \"qty\":\n",
    "        url += f\"?qty={magnitude}\"\n",
    "    else:\n",
    "        raise ValueError(\"The mode especified is incorrect. It should be either 'percentage' or 'qty'\")\n",
    "\n",
    "    response = requests.delete(url, headers=headers)\n",
    "\n",
    "    print(response.json())\n",
    "\n",
    "    return response.json()"
   ]
  },
  {
   "cell_type": "markdown",
   "metadata": {},
   "source": []
  },
  {
   "cell_type": "code",
   "execution_count": 406,
   "metadata": {},
   "outputs": [],
   "source": [
    "def list_open_positions_by_client_id(account_id):\n",
    "    url = f\"https://broker-api.sandbox.alpaca.markets/v1/trading/accounts/{account_id}/positions\"\n",
    "\n",
    "    response = requests.get(url, headers=headers)\n",
    "\n",
    "    print(response.json())\n",
    "\n",
    "    return response.json()"
   ]
  },
  {
   "cell_type": "code",
   "execution_count": 407,
   "metadata": {},
   "outputs": [],
   "source": [
    "def get_order_by_id(account_id, order_id):\n",
    "    url = f\"https://broker-api.sandbox.alpaca.markets/v1/trading/accounts/{account_id}/orders/{order_id}\"\n",
    "\n",
    "    response = requests.get(url, headers=headers)\n",
    "\n",
    "    print(response.json())\n",
    "\n",
    "    return response.json()"
   ]
  },
  {
   "cell_type": "code",
   "execution_count": 408,
   "metadata": {},
   "outputs": [
    {
     "name": "stdout",
     "output_type": "stream",
     "text": [
      "{'code': 40010001, 'message': 'invalid account id'}\n"
     ]
    }
   ],
   "source": [
    "def get_list_of_orders(\n",
    "    account_id: str,\n",
    "    status: Optional[str] = \"all\",\n",
    "    limit: Optional[int] = None,\n",
    "    after: Optional[Union[str, datetime]] = None,\n",
    "    until: Optional[Union[str, datetime]] = None,\n",
    "    direction: Optional[str] = None,\n",
    "    nested: Optional[bool] = None,\n",
    "    symbols: Optional[str] = None,\n",
    "    qty_below: Optional[Union[str, float]] = None,\n",
    "    qty_above: Optional[Union[str, float]] = None,\n",
    ") -> Dict:\n",
    "    \"\"\"\n",
    "    Retrieve a list of orders for a specific account with optional filters.\n",
    "\n",
    "    Args:\n",
    "        account_id (str): The ID of the account for which to retrieve orders.\n",
    "        status (str, optional): Order status to be queried. Can be 'open', 'closed', or 'all'. Defaults to 'open'.\n",
    "        limit (int, optional): The maximum number of orders in the response. Defaults to 50, max is 500.\n",
    "        after (Union[str, datetime], optional): A timestamp in ISO 8601 format or a datetime object. \n",
    "            The response will include only orders submitted after this timestamp (exclusive).\n",
    "        until (Union[str, datetime], optional): A timestamp in ISO 8601 format or a datetime object. \n",
    "            The response will include only orders submitted until this timestamp (exclusive).\n",
    "        direction (str, optional): The chronological order of the response based on submission time. \n",
    "            Can be 'asc' or 'desc'. Defaults to 'desc'.\n",
    "        nested (bool, optional): If True, the result will roll up multi-leg orders under the 'legs' field of the primary order.\n",
    "        symbols (str, optional): A comma-separated list of symbols to filter by (e.g., 'AAPL,TSLA').\n",
    "        qty_below (Union[str, float], optional): Filter orders with a quantity below this value.\n",
    "        qty_above (Union[str, float], optional): Filter orders with a quantity above this value.\n",
    "\n",
    "    Returns:\n",
    "        dict: A JSON response containing the list of orders matching the specified filters.\n",
    "    \"\"\"\n",
    "    \n",
    "    # Function implementation here\n",
    "    pass\n",
    "    # Base URL for the Alpaca Broker API\n",
    "    url = f\"https://broker-api.sandbox.alpaca.markets/v1/trading/accounts/{account_id}/orders?\"\n",
    "\n",
    "    # Add status if provided\n",
    "    if status:\n",
    "        url += f\"&status={status}\"\n",
    "\n",
    "    # Add limit if provided\n",
    "    if limit:\n",
    "        url += f\"&limit={limit}\"\n",
    "\n",
    "    # Add after timestamp if provided\n",
    "    if after:\n",
    "        url += f\"&after={after}\"\n",
    "\n",
    "    # Add until timestamp if provided\n",
    "    if until:\n",
    "        url += f\"&until={until}\"\n",
    "\n",
    "    # Add direction if provided\n",
    "    if direction:\n",
    "        url += f\"&direction={direction}\"\n",
    "\n",
    "    # Add nested flag if provided\n",
    "    if nested:\n",
    "        url += f\"&nested={nested}\"\n",
    "\n",
    "    # Add symbols if provided (comma-separated list)\n",
    "    if symbols:\n",
    "        url += f\"&symbols={symbols}\"\n",
    "\n",
    "    # Add qty_below if provided\n",
    "    if qty_below:\n",
    "        url += f\"&qty_below={qty_below}\"\n",
    "\n",
    "    # Add qty_above if provided\n",
    "    if qty_above:\n",
    "        url += f\"&qty_above={qty_above}\"\n",
    "\n",
    "\n",
    "    response = requests.get(url, headers=headers)\n",
    "\n",
    "    return response.json()\n",
    "\n",
    "orders = get_list_of_orders(\n",
    "    account_id=\"your_account_id\",\n",
    "    status=\"open\",\n",
    "    limit=100,\n",
    "    after=\"2021-01-01T18:38:00\",\n",
    "    until=\"2021-03-01T18:38:00\",\n",
    "    direction=\"desc\",\n",
    "    nested=True,\n",
    "    symbols=\"AAPL,TSLA\",\n",
    "    qty_below=\"80\",\n",
    "    qty_above=\"100\"\n",
    ")\n",
    "print(orders)"
   ]
  },
  {
   "cell_type": "code",
   "execution_count": 409,
   "metadata": {},
   "outputs": [],
   "source": [
    "def cancel_all_open_orders(account_id):\n",
    "    url = f\"https://broker-api.sandbox.alpaca.markets/v1/trading/accounts/{account_id}/orders\"\n",
    "\n",
    "    response = requests.delete(url, headers=headers)\n",
    "\n",
    "    print(response.json())"
   ]
  },
  {
   "cell_type": "code",
   "execution_count": 410,
   "metadata": {},
   "outputs": [],
   "source": [
    "def cancel_open_order(account_id, order_id):\n",
    "    url = f\"https://broker-api.sandbox.alpaca.markets/v1/trading/accounts/{account_id}/orders/{order_id}\"\n",
    "\n",
    "    response = requests.delete(url, headers=headers)\n",
    "\n",
    "    if response.status_code == 204:\n",
    "        print(f\"Order '{order_id}' cancelled succesfully.\")\n",
    "    else:\n",
    "        print(\"Request error.\")\n"
   ]
  },
  {
   "cell_type": "code",
   "execution_count": 411,
   "metadata": {},
   "outputs": [],
   "source": [
    "def create_order_for_client(\n",
    "    account_id: str,\n",
    "    symbol: str,\n",
    "    qty: Optional[Union[str, float]] = None,\n",
    "    notional: Optional[Union[str, float]] = None,\n",
    "    side: str = \"buy\",\n",
    "    type: str = \"market\",\n",
    "    time_in_force: str = \"day\",\n",
    "    limit_price: Optional[Union[str, float]] = None,\n",
    "    stop_price: Optional[Union[str, float]] = None,\n",
    "    trail_price: Optional[Union[str, float]] = None,\n",
    "    trail_percent: Optional[Union[str, float]] = None,\n",
    "    extended_hours: bool = False,\n",
    "    client_order_id: Optional[str] = None,\n",
    "    order_class: str = \"simple\",\n",
    "    tags: Optional[List[str]] = None,\n",
    "    take_profit: Optional[Dict] = None,\n",
    "    stop_loss: Optional[Dict] = None,\n",
    "    commission: Optional[float] = None,\n",
    "    commission_type: str = \"notional\",\n",
    "    source: Optional[str] = None,\n",
    "    instructions: Optional[str] = None,\n",
    "    subtag: Optional[str] = None,\n",
    "    swap_fee_bps: Optional[Union[str, float]] = None,\n",
    "    position_intent: Optional[str] = None,\n",
    ") -> Dict:\n",
    "    \"\"\"\n",
    "    Create an order for a client's account.\n",
    "\n",
    "    Args:\n",
    "        account_id (str): The ID of the account for which to create the order.\n",
    "        symbol (str): Symbol or asset ID to identify the asset to trade.\n",
    "        qty (str, optional): Number of shares to trade. Can be fractional for market and day orders.\n",
    "        notional (str, optional): Dollar amount to trade. Cannot be used with qty.\n",
    "        side (str, optional): Represents the side of the transaction. Defaults to \"buy\".\n",
    "        type (str, optional): The order type. Defaults to \"market\". Equity assets have the following options: limit, stop, stop_limit, trailing_stop.\n",
    "        time_in_force (str, optional): The time the order will last without being fulfilled until cancellation. Defaults to \"day\".\n",
    "        limit_price (str, optional): Required if type is 'limit' or 'stop_limit'.\n",
    "        stop_price (str, optional): Required if type is 'stop' or 'stop_limit'.\n",
    "        trail_price (str, optional): Required if type is 'trailing_stop' and trail_percent is not provided.\n",
    "        trail_percent (str, optional): Required if type is 'trailing_stop' and trail_price is not provided.\n",
    "        extended_hours (bool, optional): If true, order is eligible to execute in pre/post-market. Defaults to False.\n",
    "        client_order_id (str, optional): A unique identifier for the order. Automatically generated if not provided.\n",
    "        order_class (str, optional): The order class. Defaults to \"simple\".\n",
    "        tags (list, optional): List of order tags (max 4).\n",
    "        take_profit (dict, optional): Take profit order details.\n",
    "        stop_loss (dict, optional): Stop loss order details.\n",
    "        commission (float, optional): The commission to collect from the user.\n",
    "        commission_type (str, optional): How to interpret the commission value. Defaults to \"notional\".\n",
    "        source (str, optional): Source of the order.\n",
    "        instructions (str, optional): Additional instructions for the order.\n",
    "        subtag (str, optional): Subtag for the order.\n",
    "        swap_fee_bps (str, optional): Swap fee in basis points.\n",
    "        position_intent (str, optional): Represents the desired position strategy.\n",
    "\n",
    "    Returns:\n",
    "        dict: A JSON response containing the details of the created order.\n",
    "    \"\"\"\n",
    "    url = f\"https://broker-api.sandbox.alpaca.markets/v1/trading/accounts/{account_id}/orders\"\n",
    "\n",
    "    payload = {\n",
    "        \"symbol\": symbol,\n",
    "        \"qty\": qty,\n",
    "        \"notional\": notional,\n",
    "        \"side\": side,\n",
    "        \"type\": type,\n",
    "        \"time_in_force\": time_in_force,\n",
    "        \"limit_price\": limit_price,\n",
    "        \"stop_price\": stop_price,\n",
    "        \"trail_price\": trail_price,\n",
    "        \"trail_percent\": trail_percent,\n",
    "        \"extended_hours\": extended_hours,\n",
    "        \"client_order_id\": client_order_id,\n",
    "        \"order_class\": order_class,\n",
    "        \"tags\": tags,\n",
    "        \"take_profit\": take_profit,\n",
    "        \"stop_loss\": stop_loss,\n",
    "        \"commission\": commission,\n",
    "        \"commission_type\": commission_type,\n",
    "        \"source\": source,\n",
    "        \"instructions\": instructions,\n",
    "        \"subtag\": subtag,\n",
    "        \"swap_fee_bps\": swap_fee_bps,\n",
    "        \"position_intent\": position_intent,\n",
    "    }\n",
    "\n",
    "    # Remove None values from payload\n",
    "    payload = {k: v for k, v in payload.items() if v is not None}\n",
    "\n",
    "    response = requests.post(url, json=payload, headers=headers)\n",
    "\n",
    "    if response.status_code == 200:\n",
    "        print(f\"Succesfully placed order {response.json()['id']} for {response.json()['position_intent']} of the symbol {response.json()['symbol']}. See details in response.\")\n",
    "\n",
    "    return response.json()\n",
    "\n",
    "\n",
    "# order_response = create_order_for_client(\n",
    "#     account_id=\"client_account_id\",\n",
    "#     symbol=\"AAPL\",\n",
    "#     qty=\"4.122\",\n",
    "#     side=\"buy\",\n",
    "#     type=\"market\",\n",
    "#     time_in_force=\"day\",\n",
    "#     commission=1.0,\n",
    "#     commission_type=\"notional\",\n",
    "#     take_profit =  { \"limit_price\": \"3.14\" },\n",
    "#     stop_loss =  {\n",
    "#         \"limit_price\": \"3\",\n",
    "#         \"stop_price\": \"3\"\n",
    "#     }\n",
    "# )\n",
    "# print(order_response)"
   ]
  },
  {
   "cell_type": "markdown",
   "metadata": {},
   "source": [
    "# Make trades"
   ]
  },
  {
   "cell_type": "markdown",
   "metadata": {},
   "source": [
    "Define client:"
   ]
  },
  {
   "cell_type": "code",
   "execution_count": 412,
   "metadata": {},
   "outputs": [],
   "source": [
    "client_id = clients_account_id[\"client_2\"]"
   ]
  },
  {
   "cell_type": "markdown",
   "metadata": {},
   "source": [
    "Invest 100 dolars in Microsoft stocks. We need to trade with \"notional\" argument of `create_order_for_client()`."
   ]
  },
  {
   "cell_type": "code",
   "execution_count": 413,
   "metadata": {},
   "outputs": [
    {
     "name": "stdout",
     "output_type": "stream",
     "text": [
      "Succesfully placed order 52477caf-d80a-4846-b5ee-ce7337637962 for buy_to_open of the symbol MSFT. See details in response.\n"
     ]
    },
    {
     "data": {
      "text/plain": [
       "{'id': '52477caf-d80a-4846-b5ee-ce7337637962',\n",
       " 'client_order_id': '83d9b301-95e8-4b99-a5f7-be820de79e17',\n",
       " 'created_at': '2025-01-24T07:32:20.963836376Z',\n",
       " 'updated_at': '2025-01-24T07:32:20.966440226Z',\n",
       " 'submitted_at': '2025-01-24T07:32:20.963836376Z',\n",
       " 'filled_at': None,\n",
       " 'expired_at': None,\n",
       " 'canceled_at': None,\n",
       " 'failed_at': None,\n",
       " 'replaced_at': None,\n",
       " 'replaced_by': None,\n",
       " 'replaces': None,\n",
       " 'asset_id': 'b6d1aa75-5c9c-4353-a305-9e2caa1925ab',\n",
       " 'symbol': 'MSFT',\n",
       " 'asset_class': 'us_equity',\n",
       " 'notional': '100',\n",
       " 'qty': None,\n",
       " 'filled_qty': '0',\n",
       " 'filled_avg_price': None,\n",
       " 'order_class': 'simple',\n",
       " 'order_type': 'market',\n",
       " 'type': 'market',\n",
       " 'side': 'buy',\n",
       " 'position_intent': 'buy_to_open',\n",
       " 'time_in_force': 'day',\n",
       " 'limit_price': None,\n",
       " 'stop_price': None,\n",
       " 'status': 'accepted',\n",
       " 'extended_hours': False,\n",
       " 'legs': None,\n",
       " 'trail_percent': None,\n",
       " 'trail_price': None,\n",
       " 'hwm': None,\n",
       " 'commission': '0',\n",
       " 'commission_type': 'notional',\n",
       " 'subtag': None,\n",
       " 'source': None,\n",
       " 'expires_at': '2025-01-24T21:00:00Z'}"
      ]
     },
     "execution_count": 413,
     "metadata": {},
     "output_type": "execute_result"
    }
   ],
   "source": [
    "order_created_response = create_order_for_client(account_id=clients_account_id[\"client_1\"], symbol=\"MSFT\", notional=\"100\", side=\"buy\",type=\"market\")\n",
    "order_created_response"
   ]
  },
  {
   "cell_type": "code",
   "execution_count": null,
   "metadata": {},
   "outputs": [],
   "source": []
  },
  {
   "cell_type": "markdown",
   "metadata": {},
   "source": [
    "Check the open order"
   ]
  },
  {
   "cell_type": "code",
   "execution_count": 414,
   "metadata": {},
   "outputs": [
    {
     "data": {
      "text/plain": [
       "'edafa6db-b501-4d69-95c8-b92793a3680c'"
      ]
     },
     "execution_count": 414,
     "metadata": {},
     "output_type": "execute_result"
    }
   ],
   "source": [
    "client_id"
   ]
  },
  {
   "cell_type": "code",
   "execution_count": 415,
   "metadata": {},
   "outputs": [
    {
     "name": "stdout",
     "output_type": "stream",
     "text": [
      "{'id': 'e4d31b70-6ed8-4f61-8c2c-79d7ba769d94', 'client_order_id': '5282aab9-5bc7-4f30-b787-ea6f75f452fb', 'created_at': '2025-01-23T14:51:00.48035Z', 'updated_at': '2025-01-23T14:51:00.579559Z', 'submitted_at': '2025-01-23T14:51:00.48035Z', 'filled_at': '2025-01-23T14:51:00.485818Z', 'expired_at': None, 'canceled_at': None, 'failed_at': None, 'replaced_at': None, 'replaced_by': None, 'replaces': None, 'asset_id': 'b0b6dd9d-8b9b-48a9-ba46-b9d54906e415', 'symbol': 'AAPL', 'asset_class': 'us_equity', 'notional': '300', 'qty': None, 'filled_qty': '1.333357037', 'filled_avg_price': '224.996', 'order_class': 'simple', 'order_type': 'market', 'type': 'market', 'side': 'buy', 'position_intent': 'buy_to_open', 'time_in_force': 'day', 'limit_price': None, 'stop_price': None, 'status': 'filled', 'extended_hours': False, 'legs': None, 'trail_percent': None, 'trail_price': None, 'hwm': None, 'commission': '0', 'commission_type': 'notional', 'subtag': None, 'source': 'correspondent', 'expires_at': '2025-01-23T21:00:00Z'}\n"
     ]
    },
    {
     "data": {
      "text/plain": [
       "{'id': 'e4d31b70-6ed8-4f61-8c2c-79d7ba769d94',\n",
       " 'client_order_id': '5282aab9-5bc7-4f30-b787-ea6f75f452fb',\n",
       " 'created_at': '2025-01-23T14:51:00.48035Z',\n",
       " 'updated_at': '2025-01-23T14:51:00.579559Z',\n",
       " 'submitted_at': '2025-01-23T14:51:00.48035Z',\n",
       " 'filled_at': '2025-01-23T14:51:00.485818Z',\n",
       " 'expired_at': None,\n",
       " 'canceled_at': None,\n",
       " 'failed_at': None,\n",
       " 'replaced_at': None,\n",
       " 'replaced_by': None,\n",
       " 'replaces': None,\n",
       " 'asset_id': 'b0b6dd9d-8b9b-48a9-ba46-b9d54906e415',\n",
       " 'symbol': 'AAPL',\n",
       " 'asset_class': 'us_equity',\n",
       " 'notional': '300',\n",
       " 'qty': None,\n",
       " 'filled_qty': '1.333357037',\n",
       " 'filled_avg_price': '224.996',\n",
       " 'order_class': 'simple',\n",
       " 'order_type': 'market',\n",
       " 'type': 'market',\n",
       " 'side': 'buy',\n",
       " 'position_intent': 'buy_to_open',\n",
       " 'time_in_force': 'day',\n",
       " 'limit_price': None,\n",
       " 'stop_price': None,\n",
       " 'status': 'filled',\n",
       " 'extended_hours': False,\n",
       " 'legs': None,\n",
       " 'trail_percent': None,\n",
       " 'trail_price': None,\n",
       " 'hwm': None,\n",
       " 'commission': '0',\n",
       " 'commission_type': 'notional',\n",
       " 'subtag': None,\n",
       " 'source': 'correspondent',\n",
       " 'expires_at': '2025-01-23T21:00:00Z'}"
      ]
     },
     "execution_count": 415,
     "metadata": {},
     "output_type": "execute_result"
    }
   ],
   "source": [
    "get_order_by_id(\"dcfbefb1-cbaa-4e60-9cef-9db801b8eb13\", \"e4d31b70-6ed8-4f61-8c2c-79d7ba769d94\")"
   ]
  },
  {
   "cell_type": "markdown",
   "metadata": {},
   "source": [
    "Query all orders, closed or open, for client:"
   ]
  },
  {
   "cell_type": "code",
   "execution_count": 416,
   "metadata": {},
   "outputs": [
    {
     "data": {
      "text/plain": [
       "[{'id': 'd5fab616-00c0-46aa-bb05-99aaad45f8fa',\n",
       "  'client_order_id': 'bd80db97-d5e5-4244-890c-81e2ef3a0061',\n",
       "  'created_at': '2025-01-23T11:08:14.266973Z',\n",
       "  'updated_at': '2025-01-23T13:46:46.184757Z',\n",
       "  'submitted_at': '2025-01-23T11:08:14.266973Z',\n",
       "  'filled_at': None,\n",
       "  'expired_at': None,\n",
       "  'canceled_at': '2025-01-23T13:46:46.184756Z',\n",
       "  'failed_at': None,\n",
       "  'replaced_at': None,\n",
       "  'replaced_by': None,\n",
       "  'replaces': None,\n",
       "  'asset_id': 'b6d1aa75-5c9c-4353-a305-9e2caa1925ab',\n",
       "  'symbol': 'MSFT',\n",
       "  'asset_class': 'us_equity',\n",
       "  'notional': '100',\n",
       "  'qty': None,\n",
       "  'filled_qty': '0',\n",
       "  'filled_avg_price': None,\n",
       "  'order_class': 'simple',\n",
       "  'order_type': 'market',\n",
       "  'type': 'market',\n",
       "  'side': 'buy',\n",
       "  'position_intent': 'buy_to_open',\n",
       "  'time_in_force': 'day',\n",
       "  'limit_price': None,\n",
       "  'stop_price': None,\n",
       "  'status': 'canceled',\n",
       "  'extended_hours': False,\n",
       "  'legs': None,\n",
       "  'trail_percent': None,\n",
       "  'trail_price': None,\n",
       "  'hwm': None,\n",
       "  'commission': '0',\n",
       "  'commission_type': 'notional',\n",
       "  'subtag': None,\n",
       "  'source': 'correspondent',\n",
       "  'expires_at': '2025-01-23T21:00:00Z'},\n",
       " {'id': '7563e9e7-49f5-4a78-bd0c-214b05c165de',\n",
       "  'client_order_id': '0e52963d-aac6-4353-85fd-81d3f178665c',\n",
       "  'created_at': '2025-01-23T10:09:46.072278Z',\n",
       "  'updated_at': '2025-01-23T10:09:52.594762Z',\n",
       "  'submitted_at': '2025-01-23T10:09:46.072278Z',\n",
       "  'filled_at': None,\n",
       "  'expired_at': None,\n",
       "  'canceled_at': '2025-01-23T10:09:52.594762Z',\n",
       "  'failed_at': None,\n",
       "  'replaced_at': None,\n",
       "  'replaced_by': None,\n",
       "  'replaces': None,\n",
       "  'asset_id': 'b6d1aa75-5c9c-4353-a305-9e2caa1925ab',\n",
       "  'symbol': 'MSFT',\n",
       "  'asset_class': 'us_equity',\n",
       "  'notional': '100',\n",
       "  'qty': None,\n",
       "  'filled_qty': '0',\n",
       "  'filled_avg_price': None,\n",
       "  'order_class': 'simple',\n",
       "  'order_type': 'market',\n",
       "  'type': 'market',\n",
       "  'side': 'buy',\n",
       "  'position_intent': 'buy_to_open',\n",
       "  'time_in_force': 'day',\n",
       "  'limit_price': None,\n",
       "  'stop_price': None,\n",
       "  'status': 'canceled',\n",
       "  'extended_hours': False,\n",
       "  'legs': None,\n",
       "  'trail_percent': None,\n",
       "  'trail_price': None,\n",
       "  'hwm': None,\n",
       "  'commission': '0',\n",
       "  'commission_type': 'notional',\n",
       "  'subtag': None,\n",
       "  'source': 'correspondent',\n",
       "  'expires_at': '2025-01-23T21:00:00Z'},\n",
       " {'id': '36c21bc4-bc5c-491b-8bea-e870021e6a84',\n",
       "  'client_order_id': 'e78e4330-06b3-4524-bd46-80dd3db6c010',\n",
       "  'created_at': '2025-01-23T10:09:44.559506Z',\n",
       "  'updated_at': '2025-01-23T10:09:52.594682Z',\n",
       "  'submitted_at': '2025-01-23T10:09:44.559506Z',\n",
       "  'filled_at': None,\n",
       "  'expired_at': None,\n",
       "  'canceled_at': '2025-01-23T10:09:52.594681Z',\n",
       "  'failed_at': None,\n",
       "  'replaced_at': None,\n",
       "  'replaced_by': None,\n",
       "  'replaces': None,\n",
       "  'asset_id': 'b6d1aa75-5c9c-4353-a305-9e2caa1925ab',\n",
       "  'symbol': 'MSFT',\n",
       "  'asset_class': 'us_equity',\n",
       "  'notional': '100',\n",
       "  'qty': None,\n",
       "  'filled_qty': '0',\n",
       "  'filled_avg_price': None,\n",
       "  'order_class': 'simple',\n",
       "  'order_type': 'market',\n",
       "  'type': 'market',\n",
       "  'side': 'buy',\n",
       "  'position_intent': 'buy_to_open',\n",
       "  'time_in_force': 'day',\n",
       "  'limit_price': None,\n",
       "  'stop_price': None,\n",
       "  'status': 'canceled',\n",
       "  'extended_hours': False,\n",
       "  'legs': None,\n",
       "  'trail_percent': None,\n",
       "  'trail_price': None,\n",
       "  'hwm': None,\n",
       "  'commission': '0',\n",
       "  'commission_type': 'notional',\n",
       "  'subtag': None,\n",
       "  'source': 'correspondent',\n",
       "  'expires_at': '2025-01-23T21:00:00Z'},\n",
       " {'id': 'f9cf7705-6aa0-4244-adc2-c76626330181',\n",
       "  'client_order_id': 'e4dc11e6-33e9-4022-86ee-3f66e7a3e659',\n",
       "  'created_at': '2025-01-23T10:08:13.581592Z',\n",
       "  'updated_at': '2025-01-23T10:09:31.239998Z',\n",
       "  'submitted_at': '2025-01-23T10:08:13.581592Z',\n",
       "  'filled_at': None,\n",
       "  'expired_at': None,\n",
       "  'canceled_at': '2025-01-23T10:09:31.239996Z',\n",
       "  'failed_at': None,\n",
       "  'replaced_at': None,\n",
       "  'replaced_by': None,\n",
       "  'replaces': None,\n",
       "  'asset_id': 'b6d1aa75-5c9c-4353-a305-9e2caa1925ab',\n",
       "  'symbol': 'MSFT',\n",
       "  'asset_class': 'us_equity',\n",
       "  'notional': '100',\n",
       "  'qty': None,\n",
       "  'filled_qty': '0',\n",
       "  'filled_avg_price': None,\n",
       "  'order_class': 'simple',\n",
       "  'order_type': 'market',\n",
       "  'type': 'market',\n",
       "  'side': 'buy',\n",
       "  'position_intent': 'buy_to_open',\n",
       "  'time_in_force': 'day',\n",
       "  'limit_price': None,\n",
       "  'stop_price': None,\n",
       "  'status': 'canceled',\n",
       "  'extended_hours': False,\n",
       "  'legs': None,\n",
       "  'trail_percent': None,\n",
       "  'trail_price': None,\n",
       "  'hwm': None,\n",
       "  'commission': '0',\n",
       "  'commission_type': 'notional',\n",
       "  'subtag': None,\n",
       "  'source': 'correspondent',\n",
       "  'expires_at': '2025-01-23T21:00:00Z'},\n",
       " {'id': '4399da20-9efd-47f7-96b5-7aa6cf33b03e',\n",
       "  'client_order_id': '277b3cb2-84c1-4603-8b0c-5f9ece8be892',\n",
       "  'created_at': '2025-01-23T10:07:50.571814Z',\n",
       "  'updated_at': '2025-01-23T10:09:31.239852Z',\n",
       "  'submitted_at': '2025-01-23T10:07:50.571814Z',\n",
       "  'filled_at': None,\n",
       "  'expired_at': None,\n",
       "  'canceled_at': '2025-01-23T10:09:31.239851Z',\n",
       "  'failed_at': None,\n",
       "  'replaced_at': None,\n",
       "  'replaced_by': None,\n",
       "  'replaces': None,\n",
       "  'asset_id': 'b6d1aa75-5c9c-4353-a305-9e2caa1925ab',\n",
       "  'symbol': 'MSFT',\n",
       "  'asset_class': 'us_equity',\n",
       "  'notional': '100',\n",
       "  'qty': None,\n",
       "  'filled_qty': '0',\n",
       "  'filled_avg_price': None,\n",
       "  'order_class': 'simple',\n",
       "  'order_type': 'market',\n",
       "  'type': 'market',\n",
       "  'side': 'buy',\n",
       "  'position_intent': 'buy_to_open',\n",
       "  'time_in_force': 'day',\n",
       "  'limit_price': None,\n",
       "  'stop_price': None,\n",
       "  'status': 'canceled',\n",
       "  'extended_hours': False,\n",
       "  'legs': None,\n",
       "  'trail_percent': None,\n",
       "  'trail_price': None,\n",
       "  'hwm': None,\n",
       "  'commission': '0',\n",
       "  'commission_type': 'notional',\n",
       "  'subtag': None,\n",
       "  'source': 'correspondent',\n",
       "  'expires_at': '2025-01-23T21:00:00Z'},\n",
       " {'id': 'aa538dad-69d0-413b-84e3-569f2266dacd',\n",
       "  'client_order_id': '40db3ee2-9706-47e4-b769-773e788b1c71',\n",
       "  'created_at': '2025-01-23T10:02:10.35508Z',\n",
       "  'updated_at': '2025-01-23T10:09:31.239948Z',\n",
       "  'submitted_at': '2025-01-23T10:02:10.35508Z',\n",
       "  'filled_at': None,\n",
       "  'expired_at': None,\n",
       "  'canceled_at': '2025-01-23T10:09:31.239947Z',\n",
       "  'failed_at': None,\n",
       "  'replaced_at': None,\n",
       "  'replaced_by': None,\n",
       "  'replaces': None,\n",
       "  'asset_id': 'b6d1aa75-5c9c-4353-a305-9e2caa1925ab',\n",
       "  'symbol': 'MSFT',\n",
       "  'asset_class': 'us_equity',\n",
       "  'notional': '100',\n",
       "  'qty': None,\n",
       "  'filled_qty': '0',\n",
       "  'filled_avg_price': None,\n",
       "  'order_class': 'simple',\n",
       "  'order_type': 'market',\n",
       "  'type': 'market',\n",
       "  'side': 'buy',\n",
       "  'position_intent': 'buy_to_open',\n",
       "  'time_in_force': 'day',\n",
       "  'limit_price': None,\n",
       "  'stop_price': None,\n",
       "  'status': 'canceled',\n",
       "  'extended_hours': False,\n",
       "  'legs': None,\n",
       "  'trail_percent': None,\n",
       "  'trail_price': None,\n",
       "  'hwm': None,\n",
       "  'commission': '0',\n",
       "  'commission_type': 'notional',\n",
       "  'subtag': None,\n",
       "  'source': 'correspondent',\n",
       "  'expires_at': '2025-01-23T21:00:00Z'},\n",
       " {'id': '61ce5c7d-03fe-4eae-8fad-e9ee510f0fd0',\n",
       "  'client_order_id': 'd76a660f-4406-4fd2-9097-ec57455a33ee',\n",
       "  'created_at': '2025-01-23T10:02:09.580389Z',\n",
       "  'updated_at': '2025-01-23T10:09:31.23992Z',\n",
       "  'submitted_at': '2025-01-23T10:02:09.580389Z',\n",
       "  'filled_at': None,\n",
       "  'expired_at': None,\n",
       "  'canceled_at': '2025-01-23T10:09:31.239914Z',\n",
       "  'failed_at': None,\n",
       "  'replaced_at': None,\n",
       "  'replaced_by': None,\n",
       "  'replaces': None,\n",
       "  'asset_id': 'b6d1aa75-5c9c-4353-a305-9e2caa1925ab',\n",
       "  'symbol': 'MSFT',\n",
       "  'asset_class': 'us_equity',\n",
       "  'notional': '100',\n",
       "  'qty': None,\n",
       "  'filled_qty': '0',\n",
       "  'filled_avg_price': None,\n",
       "  'order_class': 'simple',\n",
       "  'order_type': 'market',\n",
       "  'type': 'market',\n",
       "  'side': 'buy',\n",
       "  'position_intent': 'buy_to_open',\n",
       "  'time_in_force': 'day',\n",
       "  'limit_price': None,\n",
       "  'stop_price': None,\n",
       "  'status': 'canceled',\n",
       "  'extended_hours': False,\n",
       "  'legs': None,\n",
       "  'trail_percent': None,\n",
       "  'trail_price': None,\n",
       "  'hwm': None,\n",
       "  'commission': '0',\n",
       "  'commission_type': 'notional',\n",
       "  'subtag': None,\n",
       "  'source': 'correspondent',\n",
       "  'expires_at': '2025-01-23T21:00:00Z'},\n",
       " {'id': 'af40f743-595c-409b-a18f-542395d50319',\n",
       "  'client_order_id': 'aeadf062-bb24-48f1-b62b-7d673549bcde',\n",
       "  'created_at': '2025-01-23T10:02:08.506985Z',\n",
       "  'updated_at': '2025-01-23T10:09:31.239974Z',\n",
       "  'submitted_at': '2025-01-23T10:02:08.506985Z',\n",
       "  'filled_at': None,\n",
       "  'expired_at': None,\n",
       "  'canceled_at': '2025-01-23T10:09:31.239973Z',\n",
       "  'failed_at': None,\n",
       "  'replaced_at': None,\n",
       "  'replaced_by': None,\n",
       "  'replaces': None,\n",
       "  'asset_id': 'b6d1aa75-5c9c-4353-a305-9e2caa1925ab',\n",
       "  'symbol': 'MSFT',\n",
       "  'asset_class': 'us_equity',\n",
       "  'notional': '100',\n",
       "  'qty': None,\n",
       "  'filled_qty': '0',\n",
       "  'filled_avg_price': None,\n",
       "  'order_class': 'simple',\n",
       "  'order_type': 'market',\n",
       "  'type': 'market',\n",
       "  'side': 'buy',\n",
       "  'position_intent': 'buy_to_open',\n",
       "  'time_in_force': 'day',\n",
       "  'limit_price': None,\n",
       "  'stop_price': None,\n",
       "  'status': 'canceled',\n",
       "  'extended_hours': False,\n",
       "  'legs': None,\n",
       "  'trail_percent': None,\n",
       "  'trail_price': None,\n",
       "  'hwm': None,\n",
       "  'commission': '0',\n",
       "  'commission_type': 'notional',\n",
       "  'subtag': None,\n",
       "  'source': 'correspondent',\n",
       "  'expires_at': '2025-01-23T21:00:00Z'},\n",
       " {'id': 'e42cd4e2-690d-4200-a249-0d8057e642a7',\n",
       "  'client_order_id': 'e0c8362f-264a-41c9-94b1-d5f6409aae4a',\n",
       "  'created_at': '2025-01-23T09:53:42.944991Z',\n",
       "  'updated_at': '2025-01-23T09:54:08.487287Z',\n",
       "  'submitted_at': '2025-01-23T09:53:42.944991Z',\n",
       "  'filled_at': None,\n",
       "  'expired_at': None,\n",
       "  'canceled_at': '2025-01-23T09:54:08.487287Z',\n",
       "  'failed_at': None,\n",
       "  'replaced_at': None,\n",
       "  'replaced_by': None,\n",
       "  'replaces': None,\n",
       "  'asset_id': 'b6d1aa75-5c9c-4353-a305-9e2caa1925ab',\n",
       "  'symbol': 'MSFT',\n",
       "  'asset_class': 'us_equity',\n",
       "  'notional': '100',\n",
       "  'qty': None,\n",
       "  'filled_qty': '0',\n",
       "  'filled_avg_price': None,\n",
       "  'order_class': 'simple',\n",
       "  'order_type': 'market',\n",
       "  'type': 'market',\n",
       "  'side': 'buy',\n",
       "  'position_intent': 'buy_to_open',\n",
       "  'time_in_force': 'day',\n",
       "  'limit_price': None,\n",
       "  'stop_price': None,\n",
       "  'status': 'canceled',\n",
       "  'extended_hours': False,\n",
       "  'legs': None,\n",
       "  'trail_percent': None,\n",
       "  'trail_price': None,\n",
       "  'hwm': None,\n",
       "  'commission': '0',\n",
       "  'commission_type': 'notional',\n",
       "  'subtag': None,\n",
       "  'source': 'correspondent',\n",
       "  'expires_at': '2025-01-23T21:00:00Z'},\n",
       " {'id': '7878b883-cb1b-4d86-9afb-23e5db24e332',\n",
       "  'client_order_id': 'ff8e90cc-53e4-45a8-b75a-01b877979db2',\n",
       "  'created_at': '2025-01-23T09:53:40.638866Z',\n",
       "  'updated_at': '2025-01-23T09:54:08.487224Z',\n",
       "  'submitted_at': '2025-01-23T09:53:40.638866Z',\n",
       "  'filled_at': None,\n",
       "  'expired_at': None,\n",
       "  'canceled_at': '2025-01-23T09:54:08.487224Z',\n",
       "  'failed_at': None,\n",
       "  'replaced_at': None,\n",
       "  'replaced_by': None,\n",
       "  'replaces': None,\n",
       "  'asset_id': 'b6d1aa75-5c9c-4353-a305-9e2caa1925ab',\n",
       "  'symbol': 'MSFT',\n",
       "  'asset_class': 'us_equity',\n",
       "  'notional': '100',\n",
       "  'qty': None,\n",
       "  'filled_qty': '0',\n",
       "  'filled_avg_price': None,\n",
       "  'order_class': 'simple',\n",
       "  'order_type': 'market',\n",
       "  'type': 'market',\n",
       "  'side': 'buy',\n",
       "  'position_intent': 'buy_to_open',\n",
       "  'time_in_force': 'day',\n",
       "  'limit_price': None,\n",
       "  'stop_price': None,\n",
       "  'status': 'canceled',\n",
       "  'extended_hours': False,\n",
       "  'legs': None,\n",
       "  'trail_percent': None,\n",
       "  'trail_price': None,\n",
       "  'hwm': None,\n",
       "  'commission': '0',\n",
       "  'commission_type': 'notional',\n",
       "  'subtag': None,\n",
       "  'source': 'correspondent',\n",
       "  'expires_at': '2025-01-23T21:00:00Z'},\n",
       " {'id': '5bd4e635-d009-4e59-beaf-50e8e7dd4308',\n",
       "  'client_order_id': 'aaba1c9e-3b6c-443b-b0a7-f11941d09e90',\n",
       "  'created_at': '2025-01-23T09:43:17.49862Z',\n",
       "  'updated_at': '2025-01-23T09:44:23.019001Z',\n",
       "  'submitted_at': '2025-01-23T09:43:17.49862Z',\n",
       "  'filled_at': None,\n",
       "  'expired_at': None,\n",
       "  'canceled_at': '2025-01-23T09:44:23.019Z',\n",
       "  'failed_at': None,\n",
       "  'replaced_at': None,\n",
       "  'replaced_by': None,\n",
       "  'replaces': None,\n",
       "  'asset_id': 'b6d1aa75-5c9c-4353-a305-9e2caa1925ab',\n",
       "  'symbol': 'MSFT',\n",
       "  'asset_class': 'us_equity',\n",
       "  'notional': '100',\n",
       "  'qty': None,\n",
       "  'filled_qty': '0',\n",
       "  'filled_avg_price': None,\n",
       "  'order_class': 'simple',\n",
       "  'order_type': 'market',\n",
       "  'type': 'market',\n",
       "  'side': 'buy',\n",
       "  'position_intent': 'buy_to_open',\n",
       "  'time_in_force': 'day',\n",
       "  'limit_price': None,\n",
       "  'stop_price': None,\n",
       "  'status': 'canceled',\n",
       "  'extended_hours': False,\n",
       "  'legs': None,\n",
       "  'trail_percent': None,\n",
       "  'trail_price': None,\n",
       "  'hwm': None,\n",
       "  'commission': '0',\n",
       "  'commission_type': 'notional',\n",
       "  'subtag': None,\n",
       "  'source': 'correspondent',\n",
       "  'expires_at': '2025-01-23T21:00:00Z'},\n",
       " {'id': 'a884f32c-fda1-4eb1-b236-e2aee64dadac',\n",
       "  'client_order_id': '5a295615-5171-4d57-9ea9-9e367e513020',\n",
       "  'created_at': '2025-01-23T09:28:22.295939Z',\n",
       "  'updated_at': '2025-01-23T09:52:49.70658Z',\n",
       "  'submitted_at': '2025-01-23T09:28:22.295939Z',\n",
       "  'filled_at': None,\n",
       "  'expired_at': None,\n",
       "  'canceled_at': '2025-01-23T09:52:49.706579Z',\n",
       "  'failed_at': None,\n",
       "  'replaced_at': None,\n",
       "  'replaced_by': None,\n",
       "  'replaces': None,\n",
       "  'asset_id': 'b6d1aa75-5c9c-4353-a305-9e2caa1925ab',\n",
       "  'symbol': 'MSFT',\n",
       "  'asset_class': 'us_equity',\n",
       "  'notional': '100',\n",
       "  'qty': None,\n",
       "  'filled_qty': '0',\n",
       "  'filled_avg_price': None,\n",
       "  'order_class': 'simple',\n",
       "  'order_type': 'market',\n",
       "  'type': 'market',\n",
       "  'side': 'buy',\n",
       "  'position_intent': 'buy_to_open',\n",
       "  'time_in_force': 'day',\n",
       "  'limit_price': None,\n",
       "  'stop_price': None,\n",
       "  'status': 'canceled',\n",
       "  'extended_hours': False,\n",
       "  'legs': None,\n",
       "  'trail_percent': None,\n",
       "  'trail_price': None,\n",
       "  'hwm': None,\n",
       "  'commission': '0',\n",
       "  'commission_type': 'notional',\n",
       "  'subtag': None,\n",
       "  'source': 'correspondent',\n",
       "  'expires_at': '2025-01-23T21:00:00Z'},\n",
       " {'id': 'f6b99a4c-ac44-478d-89bb-fa2ec24263d9',\n",
       "  'client_order_id': '1d4d2182-c7f8-4d78-9b44-bcc046fcaa1c',\n",
       "  'created_at': '2025-01-23T09:23:12.167185Z',\n",
       "  'updated_at': '2025-01-23T09:52:49.706659Z',\n",
       "  'submitted_at': '2025-01-23T09:23:12.167185Z',\n",
       "  'filled_at': None,\n",
       "  'expired_at': None,\n",
       "  'canceled_at': '2025-01-23T09:52:49.706659Z',\n",
       "  'failed_at': None,\n",
       "  'replaced_at': None,\n",
       "  'replaced_by': None,\n",
       "  'replaces': None,\n",
       "  'asset_id': 'b6d1aa75-5c9c-4353-a305-9e2caa1925ab',\n",
       "  'symbol': 'MSFT',\n",
       "  'asset_class': 'us_equity',\n",
       "  'notional': '100',\n",
       "  'qty': None,\n",
       "  'filled_qty': '0',\n",
       "  'filled_avg_price': None,\n",
       "  'order_class': 'simple',\n",
       "  'order_type': 'market',\n",
       "  'type': 'market',\n",
       "  'side': 'buy',\n",
       "  'position_intent': 'buy_to_open',\n",
       "  'time_in_force': 'day',\n",
       "  'limit_price': None,\n",
       "  'stop_price': None,\n",
       "  'status': 'canceled',\n",
       "  'extended_hours': False,\n",
       "  'legs': None,\n",
       "  'trail_percent': None,\n",
       "  'trail_price': None,\n",
       "  'hwm': None,\n",
       "  'commission': '0',\n",
       "  'commission_type': 'notional',\n",
       "  'subtag': None,\n",
       "  'source': 'correspondent',\n",
       "  'expires_at': '2025-01-23T21:00:00Z'},\n",
       " {'id': 'b5e0f11e-9cba-48f1-a627-f86b4e958a7f',\n",
       "  'client_order_id': '7b6b64f3-53c3-49bf-bc3a-961ebfe0d01f',\n",
       "  'created_at': '2025-01-14T19:36:09.659665Z',\n",
       "  'updated_at': '2025-01-14T19:36:09.685505Z',\n",
       "  'submitted_at': '2025-01-14T19:36:09.666094Z',\n",
       "  'filled_at': '2025-01-14T19:36:09.683641Z',\n",
       "  'expired_at': None,\n",
       "  'canceled_at': None,\n",
       "  'failed_at': None,\n",
       "  'replaced_at': None,\n",
       "  'replaced_by': None,\n",
       "  'replaces': None,\n",
       "  'asset_id': 'b0b6dd9d-8b9b-48a9-ba46-b9d54906e415',\n",
       "  'symbol': 'AAPL',\n",
       "  'asset_class': 'us_equity',\n",
       "  'notional': None,\n",
       "  'qty': '1',\n",
       "  'filled_qty': '1',\n",
       "  'filled_avg_price': '234.59',\n",
       "  'order_class': '',\n",
       "  'order_type': 'market',\n",
       "  'type': 'market',\n",
       "  'side': 'buy',\n",
       "  'position_intent': 'buy_to_open',\n",
       "  'time_in_force': 'day',\n",
       "  'limit_price': None,\n",
       "  'stop_price': None,\n",
       "  'status': 'filled',\n",
       "  'extended_hours': False,\n",
       "  'legs': None,\n",
       "  'trail_percent': None,\n",
       "  'trail_price': None,\n",
       "  'hwm': None,\n",
       "  'commission': '0',\n",
       "  'subtag': None,\n",
       "  'source': 'broker_dashboard',\n",
       "  'expires_at': '2025-01-14T21:00:00Z'}]"
      ]
     },
     "execution_count": 416,
     "metadata": {},
     "output_type": "execute_result"
    }
   ],
   "source": [
    "get_list_of_orders(client_id, status=\"all\")"
   ]
  },
  {
   "cell_type": "markdown",
   "metadata": {},
   "source": [
    "Query open orders:"
   ]
  },
  {
   "cell_type": "code",
   "execution_count": 28,
   "metadata": {},
   "outputs": [
    {
     "data": {
      "text/plain": [
       "[{'id': 'f9cf7705-6aa0-4244-adc2-c76626330181',\n",
       "  'client_order_id': 'e4dc11e6-33e9-4022-86ee-3f66e7a3e659',\n",
       "  'created_at': '2025-01-23T10:08:13.581592056Z',\n",
       "  'updated_at': '2025-01-23T10:08:13.583182506Z',\n",
       "  'submitted_at': '2025-01-23T10:08:13.581592056Z',\n",
       "  'filled_at': None,\n",
       "  'expired_at': None,\n",
       "  'canceled_at': None,\n",
       "  'failed_at': None,\n",
       "  'replaced_at': None,\n",
       "  'replaced_by': None,\n",
       "  'replaces': None,\n",
       "  'asset_id': 'b6d1aa75-5c9c-4353-a305-9e2caa1925ab',\n",
       "  'symbol': 'MSFT',\n",
       "  'asset_class': 'us_equity',\n",
       "  'notional': '100',\n",
       "  'qty': None,\n",
       "  'filled_qty': '0',\n",
       "  'filled_avg_price': None,\n",
       "  'order_class': 'simple',\n",
       "  'order_type': 'market',\n",
       "  'type': 'market',\n",
       "  'side': 'buy',\n",
       "  'position_intent': 'buy_to_open',\n",
       "  'time_in_force': 'day',\n",
       "  'limit_price': None,\n",
       "  'stop_price': None,\n",
       "  'status': 'accepted',\n",
       "  'extended_hours': False,\n",
       "  'legs': None,\n",
       "  'trail_percent': None,\n",
       "  'trail_price': None,\n",
       "  'hwm': None,\n",
       "  'commission': '0',\n",
       "  'commission_type': 'notional',\n",
       "  'subtag': None,\n",
       "  'source': None,\n",
       "  'expires_at': '2025-01-23T21:00:00Z'},\n",
       " {'id': '4399da20-9efd-47f7-96b5-7aa6cf33b03e',\n",
       "  'client_order_id': '277b3cb2-84c1-4603-8b0c-5f9ece8be892',\n",
       "  'created_at': '2025-01-23T10:07:50.571814Z',\n",
       "  'updated_at': '2025-01-23T10:07:50.572664Z',\n",
       "  'submitted_at': '2025-01-23T10:07:50.571814Z',\n",
       "  'filled_at': None,\n",
       "  'expired_at': None,\n",
       "  'canceled_at': None,\n",
       "  'failed_at': None,\n",
       "  'replaced_at': None,\n",
       "  'replaced_by': None,\n",
       "  'replaces': None,\n",
       "  'asset_id': 'b6d1aa75-5c9c-4353-a305-9e2caa1925ab',\n",
       "  'symbol': 'MSFT',\n",
       "  'asset_class': 'us_equity',\n",
       "  'notional': '100',\n",
       "  'qty': None,\n",
       "  'filled_qty': '0',\n",
       "  'filled_avg_price': None,\n",
       "  'order_class': 'simple',\n",
       "  'order_type': 'market',\n",
       "  'type': 'market',\n",
       "  'side': 'buy',\n",
       "  'position_intent': 'buy_to_open',\n",
       "  'time_in_force': 'day',\n",
       "  'limit_price': None,\n",
       "  'stop_price': None,\n",
       "  'status': 'accepted',\n",
       "  'extended_hours': False,\n",
       "  'legs': None,\n",
       "  'trail_percent': None,\n",
       "  'trail_price': None,\n",
       "  'hwm': None,\n",
       "  'commission': '0',\n",
       "  'commission_type': 'notional',\n",
       "  'subtag': None,\n",
       "  'source': 'correspondent',\n",
       "  'expires_at': '2025-01-23T21:00:00Z'},\n",
       " {'id': 'aa538dad-69d0-413b-84e3-569f2266dacd',\n",
       "  'client_order_id': '40db3ee2-9706-47e4-b769-773e788b1c71',\n",
       "  'created_at': '2025-01-23T10:02:10.35508Z',\n",
       "  'updated_at': '2025-01-23T10:02:10.355887Z',\n",
       "  'submitted_at': '2025-01-23T10:02:10.35508Z',\n",
       "  'filled_at': None,\n",
       "  'expired_at': None,\n",
       "  'canceled_at': None,\n",
       "  'failed_at': None,\n",
       "  'replaced_at': None,\n",
       "  'replaced_by': None,\n",
       "  'replaces': None,\n",
       "  'asset_id': 'b6d1aa75-5c9c-4353-a305-9e2caa1925ab',\n",
       "  'symbol': 'MSFT',\n",
       "  'asset_class': 'us_equity',\n",
       "  'notional': '100',\n",
       "  'qty': None,\n",
       "  'filled_qty': '0',\n",
       "  'filled_avg_price': None,\n",
       "  'order_class': 'simple',\n",
       "  'order_type': 'market',\n",
       "  'type': 'market',\n",
       "  'side': 'buy',\n",
       "  'position_intent': 'buy_to_open',\n",
       "  'time_in_force': 'day',\n",
       "  'limit_price': None,\n",
       "  'stop_price': None,\n",
       "  'status': 'accepted',\n",
       "  'extended_hours': False,\n",
       "  'legs': None,\n",
       "  'trail_percent': None,\n",
       "  'trail_price': None,\n",
       "  'hwm': None,\n",
       "  'commission': '0',\n",
       "  'commission_type': 'notional',\n",
       "  'subtag': None,\n",
       "  'source': 'correspondent',\n",
       "  'expires_at': '2025-01-23T21:00:00Z'},\n",
       " {'id': '61ce5c7d-03fe-4eae-8fad-e9ee510f0fd0',\n",
       "  'client_order_id': 'd76a660f-4406-4fd2-9097-ec57455a33ee',\n",
       "  'created_at': '2025-01-23T10:02:09.580389Z',\n",
       "  'updated_at': '2025-01-23T10:02:09.581183Z',\n",
       "  'submitted_at': '2025-01-23T10:02:09.580389Z',\n",
       "  'filled_at': None,\n",
       "  'expired_at': None,\n",
       "  'canceled_at': None,\n",
       "  'failed_at': None,\n",
       "  'replaced_at': None,\n",
       "  'replaced_by': None,\n",
       "  'replaces': None,\n",
       "  'asset_id': 'b6d1aa75-5c9c-4353-a305-9e2caa1925ab',\n",
       "  'symbol': 'MSFT',\n",
       "  'asset_class': 'us_equity',\n",
       "  'notional': '100',\n",
       "  'qty': None,\n",
       "  'filled_qty': '0',\n",
       "  'filled_avg_price': None,\n",
       "  'order_class': 'simple',\n",
       "  'order_type': 'market',\n",
       "  'type': 'market',\n",
       "  'side': 'buy',\n",
       "  'position_intent': 'buy_to_open',\n",
       "  'time_in_force': 'day',\n",
       "  'limit_price': None,\n",
       "  'stop_price': None,\n",
       "  'status': 'accepted',\n",
       "  'extended_hours': False,\n",
       "  'legs': None,\n",
       "  'trail_percent': None,\n",
       "  'trail_price': None,\n",
       "  'hwm': None,\n",
       "  'commission': '0',\n",
       "  'commission_type': 'notional',\n",
       "  'subtag': None,\n",
       "  'source': 'correspondent',\n",
       "  'expires_at': '2025-01-23T21:00:00Z'},\n",
       " {'id': 'af40f743-595c-409b-a18f-542395d50319',\n",
       "  'client_order_id': 'aeadf062-bb24-48f1-b62b-7d673549bcde',\n",
       "  'created_at': '2025-01-23T10:02:08.506985Z',\n",
       "  'updated_at': '2025-01-23T10:02:08.508309Z',\n",
       "  'submitted_at': '2025-01-23T10:02:08.506985Z',\n",
       "  'filled_at': None,\n",
       "  'expired_at': None,\n",
       "  'canceled_at': None,\n",
       "  'failed_at': None,\n",
       "  'replaced_at': None,\n",
       "  'replaced_by': None,\n",
       "  'replaces': None,\n",
       "  'asset_id': 'b6d1aa75-5c9c-4353-a305-9e2caa1925ab',\n",
       "  'symbol': 'MSFT',\n",
       "  'asset_class': 'us_equity',\n",
       "  'notional': '100',\n",
       "  'qty': None,\n",
       "  'filled_qty': '0',\n",
       "  'filled_avg_price': None,\n",
       "  'order_class': 'simple',\n",
       "  'order_type': 'market',\n",
       "  'type': 'market',\n",
       "  'side': 'buy',\n",
       "  'position_intent': 'buy_to_open',\n",
       "  'time_in_force': 'day',\n",
       "  'limit_price': None,\n",
       "  'stop_price': None,\n",
       "  'status': 'accepted',\n",
       "  'extended_hours': False,\n",
       "  'legs': None,\n",
       "  'trail_percent': None,\n",
       "  'trail_price': None,\n",
       "  'hwm': None,\n",
       "  'commission': '0',\n",
       "  'commission_type': 'notional',\n",
       "  'subtag': None,\n",
       "  'source': 'correspondent',\n",
       "  'expires_at': '2025-01-23T21:00:00Z'}]"
      ]
     },
     "execution_count": 28,
     "metadata": {},
     "output_type": "execute_result"
    }
   ],
   "source": [
    "get_list_of_orders(client_id, status=\"open\")"
   ]
  },
  {
   "cell_type": "markdown",
   "metadata": {},
   "source": [
    "Cancel open order by id:"
   ]
  },
  {
   "cell_type": "code",
   "execution_count": 47,
   "metadata": {},
   "outputs": [
    {
     "name": "stdout",
     "output_type": "stream",
     "text": [
      "Order '5bd4e635-d009-4e59-beaf-50e8e7dd4308' cancelled succesfully.\n"
     ]
    }
   ],
   "source": [
    "cancel_open_order(client_id, order_created_response[\"id\"])"
   ]
  },
  {
   "cell_type": "markdown",
   "metadata": {},
   "source": [
    "Cancel all open orders:"
   ]
  },
  {
   "cell_type": "code",
   "execution_count": 31,
   "metadata": {},
   "outputs": [],
   "source": [
    "def cancel_all_open_orders(account_id):\n",
    "    url = f\"https://broker-api.sandbox.alpaca.markets/v1/trading/accounts/{account_id}/orders\"\n",
    "\n",
    "    response = requests.delete(url, headers=headers)\n",
    "\n",
    "    if response.status_code == 207:\n",
    "        succesful_cancellations = [order[\"id\"] for order in response.json() if order[\"status\"] == 200]\n",
    "        unsuccesful_cancellations = [order[\"id\"] for order in response.json() if order[\"status\"] != 200]\n",
    "\n",
    "        print(f\"The following orders were cancelled: {', '.join(succesful_cancellations)}.\")\n",
    "\n",
    "        print(f\"\\nUnsuccesful cancellations: {', '.join(unsuccesful_cancellations)}.\")\n",
    "\n",
    "        return response.json()"
   ]
  },
  {
   "cell_type": "markdown",
   "metadata": {},
   "source": [
    "Close an open position by id:"
   ]
  },
  {
   "cell_type": "markdown",
   "metadata": {},
   "source": [
    "Open a position and close it after 7 days.\n",
    "1. Open order. Register date.\n",
    "2. Add to \"positions_to_close\" table.\n",
    "3. Everyday, check \"positions_to_close\" table to check if there are any positions to close today. \n",
    "4. Issue position close order.\n",
    "5. (Bonus) Monitor fullfilled price at market open and decide wether a limit price should be issued."
   ]
  },
  {
   "cell_type": "markdown",
   "metadata": {},
   "source": [
    "Monitor orders and positions. For the specific case of opening and closing positions everyday at closed market:\n",
    "1. Have a table with order_id, order_date, close_date, status, intent_price, notional_amount, fulfilled_date, position_id, fulfilled_price, currency.\n",
    "2. Place order. Register order_id, order_date, intent_price (that day's close price if market, or limit_price), notional_amount, status == pending.\n",
    "3. Every day, check_status of non-definitive status (pending) orders and if open, then update to open and update fulfilled_date and fulfilled_price.\n",
    "4. Every day, check planned_close_date == today() and status==open and close orders.\n",
    "5. Start locally, but this table should be uploaded to MongoDB.\n",
    " "
   ]
  },
  {
   "cell_type": "code",
   "execution_count": 3,
   "metadata": {},
   "outputs": [],
   "source": [
    "import sys\n",
    "sys.path.append(\"..\")\n",
    "\n",
    "db_user = os.environ.get(\"MONGO_DB_USER\")\n",
    "db_pass = os.environ.get(\"MONGO_DB_PASS\")\n",
    "db_host = os.environ.get(\"MONGO_HOST\")\n",
    "database = os.environ.get(\"MONGO_DB_NAME\")\n",
    "mongodb_options = os.environ.get(\"MONGO_OPTIONS\")\n",
    "\n",
    "from src.support.data_load import MongoDBHandler"
   ]
  },
  {
   "cell_type": "code",
   "execution_count": 309,
   "metadata": {},
   "outputs": [
    {
     "name": "stdout",
     "output_type": "stream",
     "text": [
      "Pinged your deployment. You successfully connected to MongoDB!\n"
     ]
    }
   ],
   "source": [
    "db_handle = MongoDBHandler(db_user=db_user, db_pass=db_pass, host=db_host, options=mongodb_options)\n",
    "\n",
    "db_handle.connect_to_database(database)"
   ]
  },
  {
   "cell_type": "code",
   "execution_count": 473,
   "metadata": {},
   "outputs": [],
   "source": [
    "collection = db_handle.check_create_collection(\"trades\")"
   ]
  },
  {
   "cell_type": "markdown",
   "metadata": {},
   "source": [
    "### Encontrar información en MongoDB"
   ]
  },
  {
   "cell_type": "markdown",
   "metadata": {},
   "source": [
    "De la colección, encontrar todo"
   ]
  },
  {
   "cell_type": "code",
   "execution_count": 474,
   "metadata": {},
   "outputs": [
    {
     "name": "stdout",
     "output_type": "stream",
     "text": [
      "Hay 0 órdenes en la colección:\n",
      "[]\n"
     ]
    }
   ],
   "source": [
    "collection.find()\n",
    "\n",
    "# para convertir el cursor en información valiosa para nosotros podemos convertirlo a lista, como vemos a continuación\n",
    "resultado_find_list = list(collection.find())\n",
    "print(f\"Hay {len(resultado_find_list)} órdenes en la colección:\")\n",
    "print(resultado_find_list[:2])"
   ]
  },
  {
   "cell_type": "markdown",
   "metadata": {},
   "source": [
    "Meter información de una orden"
   ]
  },
  {
   "cell_type": "code",
   "execution_count": 475,
   "metadata": {},
   "outputs": [
    {
     "ename": "SyntaxError",
     "evalue": "invalid syntax (2352007805.py, line 6)",
     "output_type": "error",
     "traceback": [
      "\u001b[0;36m  Cell \u001b[0;32mIn[475], line 6\u001b[0;36m\u001b[0m\n\u001b[0;31m    \"alpaca_account_id\": \"account_12345\",\u001b[0m\n\u001b[0m                       ^\u001b[0m\n\u001b[0;31mSyntaxError\u001b[0m\u001b[0;31m:\u001b[0m invalid syntax\n"
     ]
    }
   ],
   "source": [
    "# order_id, order_date, planned_close_date, status, intent_price, notional_amount, fulfilled_date, position_id, fulfilled_price, currency.\n",
    "\n",
    "mock_order = [{\"content\": {\n",
    "    \"alpaca_order_id\": \"order_12345\",\n",
    "    \"order_date\": \"2025-01-18T20:00:00tz...\",\n",
    "    \"alpaca_account_id\": \"account_12345\",\n",
    "    \"planned_close_date\": \"2025-01-25T20:00:00tz...\",\n",
    "    \"status\": \"PENDING\",\n",
    "    \"intent_price\": \"10\",\n",
    "    \"notional_amount\": \"100\",\n",
    "    \"fulfilled_date\": None,\n",
    "    \"position_id\": None,\n",
    "    \"fulfilled_price\": None,\n",
    "    \"currency\": \"USD\"\n",
    "}}]"
   ]
  },
  {
   "cell_type": "code",
   "execution_count": 18,
   "metadata": {},
   "outputs": [],
   "source": [
    "db_handle.insert_documents(collection_name=\"trades\", documents=mock_order)"
   ]
  },
  {
   "cell_type": "markdown",
   "metadata": {},
   "source": [
    "## Gestionar órdenes de la estrategia"
   ]
  },
  {
   "cell_type": "markdown",
   "metadata": {},
   "source": [
    "1. **Crear orden**: Crearla en alpaca y registrarla en mongoDB.\n",
    "2. **Actualizar estado de órdenes**: Comprobar estado en Alpaca y si es distinto actualizar en MongoDB.\n",
    "3. **Cerrar órdenes**: Comprobar en MongoDB, cerrarlas en Alpaca, comprobar que el cierre ha sido exitoso y actualizar en MongoDB. Hacer la función de comprobación y cierre flexible y atómica en cuanto a input para poder reutilizarla a modo de demo sin que sea diario por la noche. "
   ]
  },
  {
   "cell_type": "code",
   "execution_count": 38,
   "metadata": {},
   "outputs": [
    {
     "data": {
      "text/plain": [
       "{'id': 'd5fab616-00c0-46aa-bb05-99aaad45f8fa',\n",
       " 'client_order_id': 'bd80db97-d5e5-4244-890c-81e2ef3a0061',\n",
       " 'created_at': '2025-01-23T11:08:14.266973241Z',\n",
       " 'updated_at': '2025-01-23T11:08:14.268501271Z',\n",
       " 'submitted_at': '2025-01-23T11:08:14.266973241Z',\n",
       " 'filled_at': None,\n",
       " 'expired_at': None,\n",
       " 'canceled_at': None,\n",
       " 'failed_at': None,\n",
       " 'replaced_at': None,\n",
       " 'replaced_by': None,\n",
       " 'replaces': None,\n",
       " 'asset_id': 'b6d1aa75-5c9c-4353-a305-9e2caa1925ab',\n",
       " 'symbol': 'MSFT',\n",
       " 'asset_class': 'us_equity',\n",
       " 'notional': '100',\n",
       " 'qty': None,\n",
       " 'filled_qty': '0',\n",
       " 'filled_avg_price': None,\n",
       " 'order_class': 'simple',\n",
       " 'order_type': 'market',\n",
       " 'type': 'market',\n",
       " 'side': 'buy',\n",
       " 'position_intent': 'buy_to_open',\n",
       " 'time_in_force': 'day',\n",
       " 'limit_price': None,\n",
       " 'stop_price': None,\n",
       " 'status': 'accepted',\n",
       " 'extended_hours': False,\n",
       " 'legs': None,\n",
       " 'trail_percent': None,\n",
       " 'trail_price': None,\n",
       " 'hwm': None,\n",
       " 'commission': '0',\n",
       " 'commission_type': 'notional',\n",
       " 'subtag': None,\n",
       " 'source': None,\n",
       " 'expires_at': '2025-01-23T21:00:00Z'}"
      ]
     },
     "execution_count": 38,
     "metadata": {},
     "output_type": "execute_result"
    }
   ],
   "source": [
    "order_created_response"
   ]
  },
  {
   "cell_type": "markdown",
   "metadata": {},
   "source": [
    "1 - Crear y registrar orden"
   ]
  },
  {
   "cell_type": "code",
   "execution_count": null,
   "metadata": {},
   "outputs": [
    {
     "name": "stdout",
     "output_type": "stream",
     "text": [
      "2025-01-23\n"
     ]
    }
   ],
   "source": [
    "from dateutil import parser\n",
    "\n",
    "# Example string\n",
    "date_string = '2025-01-23T12:10:06.272064904Z'\n",
    "\n",
    "# Parse the string\n",
    "parsed_date = parser.isoparse(date_string)\n",
    "print(parsed_date)"
   ]
  },
  {
   "cell_type": "code",
   "execution_count": null,
   "metadata": {},
   "outputs": [],
   "source": []
  },
  {
   "cell_type": "code",
   "execution_count": 476,
   "metadata": {},
   "outputs": [],
   "source": [
    "def create_and_register_order(account_id: str,\n",
    "                                symbol: str,\n",
    "                                notional_amount: Union[str, float],\n",
    "                                intent_open_price: float,\n",
    "                                position_intent: str,\n",
    "                                closure_date: datetime,\n",
    "                                # **argumentos_adicionales\n",
    "                                ):\n",
    "    \n",
    "    order_response = create_order_for_client(account_id=account_id, symbol=symbol, notional=notional_amount, position_intent=position_intent) #, **argumentos_adicionales) # Could need additional parameters\n",
    "\n",
    "    if order_response.get(\"id\",None) == None:\n",
    "        print(f\"Order could not be placed due to {order_response.get('message', '_missing message_')}:\")\n",
    "        print(order_response)\n",
    "\n",
    "    order_mongodb_record = [{\"content\": {\n",
    "        \"alpaca_order_id_open\": order_response[\"id\"],\n",
    "        \"alpaca_order_id_close\": None,\n",
    "        \"alpaca_account_id\": account_id,\n",
    "        \"asset_id\": order_response[\"asset_id\"],\n",
    "        \"order_creation_date\": parser.isoparse(order_response[\"created_at\"]),\n",
    "        \"planned_close_date\": closure_date,\n",
    "        \"symbol\": symbol,\n",
    "        \"position_intent\": position_intent,\n",
    "        \"status_open\": \"PENDING\",\n",
    "        \"status_close\": None,\n",
    "        \"intent_open_price\": intent_open_price,\n",
    "        \"notional_amount\": notional_amount,\n",
    "        \"qty\": None,\n",
    "        \"fulfilled_open_date\": None,\n",
    "        \"fulfilled_open_price\": None,\n",
    "        \"fulfilled_close_date\": None,\n",
    "        \"fulfilled_close_price\": None,\n",
    "        \"pct_profit_trade\": None,\n",
    "        \"currency\": \"USD\"\n",
    "    }}]\n",
    "\n",
    "    insertion_result = db_handle.insert_documents(collection_name=\"trades\", documents=order_mongodb_record)\n",
    "\n",
    "    if insertion_result.inserted_ids:\n",
    "        print(\"Document inserted successfully with _id:\", insertion_result.inserted_ids)\n",
    "    else:\n",
    "        print(\"Insertion failed.\")\n",
    "    \n",
    "    return insertion_result.inserted_ids, order_mongodb_record[0]"
   ]
  },
  {
   "cell_type": "code",
   "execution_count": 418,
   "metadata": {},
   "outputs": [
    {
     "data": {
      "text/plain": [
       "{'client_1': 'dcfbefb1-cbaa-4e60-9cef-9db801b8eb13',\n",
       " 'client_2': 'edafa6db-b501-4d69-95c8-b92793a3680c'}"
      ]
     },
     "execution_count": 418,
     "metadata": {},
     "output_type": "execute_result"
    }
   ],
   "source": [
    "clients_account_id"
   ]
  },
  {
   "cell_type": "markdown",
   "metadata": {},
   "source": [
    "- NOTA IMPORTANTE: habría que ajustar bien la asignación de fecha-hora de cierre. Lo ideal para este caso es cuando el precio no se mueva. Tener función de comprobación del cierre de mercado (a lo mejor es un detalle de next steps.)"
   ]
  },
  {
   "cell_type": "code",
   "execution_count": null,
   "metadata": {},
   "outputs": [
    {
     "data": {
      "text/plain": [
       "datetime.date(2025, 1, 31)"
      ]
     },
     "execution_count": 419,
     "metadata": {},
     "output_type": "execute_result"
    }
   ],
   "source": [
    "closure_date=(datetime.today() + timedelta(days=7)).replace(tzinfo=timezone.utc)\n",
    "closure_date.date()"
   ]
  },
  {
   "cell_type": "code",
   "execution_count": 420,
   "metadata": {},
   "outputs": [
    {
     "name": "stdout",
     "output_type": "stream",
     "text": [
      "Succesfully placed order 16749d17-7745-4722-8fd7-7c3f3c3887b9 for buy_to_open of the symbol AAPL. See details in response.\n",
      "Document inserted successfully with _id: [ObjectId('67934355a36f4282e4172341')]\n"
     ]
    }
   ],
   "source": [
    "inserted_id, order_mongodb_record = create_and_register_order(clients_account_id[\"client_1\"], \n",
    "                                                              symbol=\"AAPL\", \n",
    "                                                              notional_amount=\"300\", \n",
    "                                                              intent_open_price=\"223.83\",\n",
    "                                                              position_intent=\"buy_to_open\",\n",
    "                                                              closure_date=closure_date)"
   ]
  },
  {
   "cell_type": "markdown",
   "metadata": {},
   "source": [
    "1.1 - Consultar orden por id de Alpaca"
   ]
  },
  {
   "cell_type": "code",
   "execution_count": 423,
   "metadata": {},
   "outputs": [
    {
     "data": {
      "text/plain": [
       "{'_id': ObjectId('67934355a36f4282e4172341'),\n",
       " 'content': {'alpaca_order_id_open': '16749d17-7745-4722-8fd7-7c3f3c3887b9',\n",
       "  'alpaca_order_id_close': None,\n",
       "  'alpaca_account_id': 'dcfbefb1-cbaa-4e60-9cef-9db801b8eb13',\n",
       "  'asset_id': 'b0b6dd9d-8b9b-48a9-ba46-b9d54906e415',\n",
       "  'order_creation_date': datetime.datetime(2025, 1, 24, 7, 37, 56, 946000),\n",
       "  'planned_close_date': datetime.datetime(2025, 1, 31, 8, 37, 55, 82000),\n",
       "  'symbol': 'AAPL',\n",
       "  'position_intent': 'buy_to_open',\n",
       "  'status_open': 'PENDING',\n",
       "  'status_close': None,\n",
       "  'intent_open_price': '223.83',\n",
       "  'notional_amount': '300',\n",
       "  'qty': None,\n",
       "  'fulfilled_open_date': None,\n",
       "  'fulfilled_open_price': None,\n",
       "  'fulfilled_close_date': None,\n",
       "  'fulfilled_close_price': None,\n",
       "  'pct_profit_trade': None,\n",
       "  'currency': 'USD'}}"
      ]
     },
     "execution_count": 423,
     "metadata": {},
     "output_type": "execute_result"
    }
   ],
   "source": [
    "# These 2 are quivalent:\n",
    "# first mode\n",
    "collection.find_one({'content.alpaca_order_id_open': order_mongodb_record[\"content\"][\"alpaca_order_id_open\"]})\n",
    "\n",
    "# explicit mode\n",
    "collection.find_one({'content.alpaca_order_id_open': {\"$eq\":order_mongodb_record[\"content\"][\"alpaca_order_id_open\"]}})\n",
    "\n",
    "# # By MongoDB objectID it would be\n",
    "# list(collection.find({'_id':ObjectId(inserted_id)}))"
   ]
  },
  {
   "cell_type": "markdown",
   "metadata": {},
   "source": [
    "2 - Actualizar estado de la orden\n"
   ]
  },
  {
   "cell_type": "code",
   "execution_count": 424,
   "metadata": {},
   "outputs": [],
   "source": [
    "def update_order_field(direction:str, # this specifices which alpaca_order_id to use for update\n",
    "                       alpaca_order_id: str, field_to_update: str, new_field_value: str):\n",
    "    # update status\n",
    "    db_handle.db[\"trades\"].update_one(\n",
    "        {f'content.alpaca_order_id_{direction}': alpaca_order_id}, # Filter\n",
    "        {\"$set\": {f'content.{field_to_update}': new_field_value}}  # Update\n",
    "    )"
   ]
  },
  {
   "cell_type": "markdown",
   "metadata": {},
   "source": [
    "\n",
    "2.1 - Chequear orden en mongo: Lista de órdenes en PENDING"
   ]
  },
  {
   "cell_type": "code",
   "execution_count": 438,
   "metadata": {},
   "outputs": [
    {
     "data": {
      "text/plain": [
       "[]"
      ]
     },
     "execution_count": 438,
     "metadata": {},
     "output_type": "execute_result"
    }
   ],
   "source": [
    "pending_orders = list(collection.find({'content.status_open':'PENDING'}))\n",
    "pending_orders"
   ]
  },
  {
   "cell_type": "markdown",
   "metadata": {},
   "source": [
    "2.2 - Actualizar ordenes pending por id"
   ]
  },
  {
   "cell_type": "code",
   "execution_count": 426,
   "metadata": {},
   "outputs": [],
   "source": [
    "def refresh_pending_status_open(account_id, alpaca_order_id):\n",
    "\n",
    "    # get order info from alpaca\n",
    "    order_in_alpaca = get_order_by_id(account_id, alpaca_order_id)\n",
    "    \n",
    "    # update status field\n",
    "    update_order_field(order_in_alpaca[\"id\"], \"status_open\", order_in_alpaca[\"status\"])\n",
    "\n",
    "    # if filled, update price, date and quantity\n",
    "    if order_in_alpaca[\"status\"] == \"filled\":\n",
    "        # update filled_price\n",
    "        update_order_field(direction=\"open\", \n",
    "                            alpaca_order_id=order_in_alpaca[\"id\"], \n",
    "                            field_to_update=\"fulfilled_open_price\", \n",
    "                            new_field_value=order_in_alpaca[\"filled_avg_price\"])\n",
    "        # update filled_date\n",
    "        update_order_field(direction=\"open\", \n",
    "                            alpaca_order_id=order_in_alpaca[\"id\"], \n",
    "                            field_to_update=\"fulfilled_open_date\", \n",
    "                            new_field_value=order_in_alpaca[\"filled_at\"])\n",
    "        # update qty\n",
    "        update_order_field(direction=\"open\", \n",
    "                            alpaca_order_id=order_in_alpaca[\"id\"], \n",
    "                            field_to_update=\"qty\", \n",
    "                            new_field_value=order_in_alpaca[\"filled_qty\"])"
   ]
  },
  {
   "cell_type": "code",
   "execution_count": 427,
   "metadata": {},
   "outputs": [],
   "source": [
    "def refresh_pending_status(direction:str ,account_id, alpaca_order_id):\n",
    "\n",
    "    # get order info from alpaca\n",
    "    order_in_alpaca = get_order_by_id(account_id, alpaca_order_id)\n",
    "    \n",
    "    # update status field\n",
    "    update_order_field(direction=direction,\n",
    "                       alpaca_order_id=order_in_alpaca[\"id\"], \n",
    "                       field_to_update=f\"status_{direction}\", \n",
    "                       new_field_value=order_in_alpaca[\"status\"])\n",
    "\n",
    "    # if filled, update price, date and quantity\n",
    "    if order_in_alpaca[\"status\"] == \"filled\":\n",
    "        # update filled_price\n",
    "        update_order_field(direction = direction, \n",
    "                            alpaca_order_id = order_in_alpaca[\"id\"], \n",
    "                            field_to_update = f\"fulfilled_{direction}_price\", \n",
    "                            new_field_value = order_in_alpaca[\"filled_avg_price\"])\n",
    "        # update filled_date\n",
    "        update_order_field(direction = direction, \n",
    "                            alpaca_order_id = order_in_alpaca[\"id\"], \n",
    "                            field_to_update = f\"fulfilled_{direction}_date\", \n",
    "                            new_field_value = order_in_alpaca[\"filled_at\"])\n",
    "        \n",
    "        if direction == \"open\":\n",
    "            # update qty\n",
    "            update_order_field(direction = direction, \n",
    "                                alpaca_order_id = order_in_alpaca[\"id\"], \n",
    "                                field_to_update =\"qty\", \n",
    "                                new_field_value = order_in_alpaca[\"filled_qty\"])\n",
    "        else: # close\n",
    "            # update pct_profit\n",
    "            filled_open_price = float(db_handle.db[\"trades\"].find_one({f'content.alpaca_order_id_close': alpaca_order_id})[\"content\"][\"fulfilled_open_price\"])\n",
    "            filled_closed_price = float(order_in_alpaca[\"filled_avg_price\"])\n",
    "            pct_profit_trade = filled_closed_price / filled_open_price - 1\n",
    "            \n",
    "            update_order_field(direction = direction, \n",
    "                                alpaca_order_id = order_in_alpaca[\"id\"], \n",
    "                                field_to_update = \"pct_profit_trade\", \n",
    "                                new_field_value = pct_profit_trade)"
   ]
  },
  {
   "cell_type": "markdown",
   "metadata": {},
   "source": [
    "2.3 Pasar ids de funciones pending a la función de actualizar status pending"
   ]
  },
  {
   "cell_type": "code",
   "execution_count": 428,
   "metadata": {},
   "outputs": [],
   "source": [
    "def refresh_pending_statuses_open(account_id):\n",
    "    \n",
    "    pending_orders_mongodb = list(collection.find({'content.status_open':'PENDING'}))\n",
    "\n",
    "    for order in pending_orders_mongodb:\n",
    "        order = order[\"content\"]\n",
    "        refresh_pending_status_open(account_id, order[\"alpaca_order_id_open\"])"
   ]
  },
  {
   "cell_type": "code",
   "execution_count": 429,
   "metadata": {},
   "outputs": [],
   "source": [
    "def refresh_statuses(direction:str, account_id):\n",
    "    \n",
    "    pending_orders_mongodb = list(collection.find({\"$or\": \n",
    "                                                   [{f'content.status_{direction}':'PENDING'},\n",
    "                                                    {f'content.status_{direction}':'accepted'}]}))\n",
    "\n",
    "    for order in pending_orders_mongodb:\n",
    "        order = order[\"content\"]\n",
    "        refresh_pending_status(direction=direction, account_id=account_id, alpaca_order_id=order[f\"alpaca_order_id_{direction}\"])"
   ]
  },
  {
   "cell_type": "markdown",
   "metadata": {},
   "source": [
    "Comprobando:"
   ]
  },
  {
   "cell_type": "code",
   "execution_count": 430,
   "metadata": {},
   "outputs": [
    {
     "name": "stdout",
     "output_type": "stream",
     "text": [
      "{'id': '16749d17-7745-4722-8fd7-7c3f3c3887b9', 'client_order_id': 'fd224e2b-2ee5-488e-b1ee-22a35fb33915', 'created_at': '2025-01-24T07:37:56.94690364Z', 'updated_at': '2025-01-24T07:37:56.94831444Z', 'submitted_at': '2025-01-24T07:37:56.94690364Z', 'filled_at': None, 'expired_at': None, 'canceled_at': None, 'failed_at': None, 'replaced_at': None, 'replaced_by': None, 'replaces': None, 'asset_id': 'b0b6dd9d-8b9b-48a9-ba46-b9d54906e415', 'symbol': 'AAPL', 'asset_class': 'us_equity', 'notional': '300', 'qty': None, 'filled_qty': '0', 'filled_avg_price': None, 'order_class': 'simple', 'order_type': 'market', 'type': 'market', 'side': 'buy', 'position_intent': 'buy_to_open', 'time_in_force': 'day', 'limit_price': None, 'stop_price': None, 'status': 'accepted', 'extended_hours': False, 'legs': None, 'trail_percent': None, 'trail_price': None, 'hwm': None, 'commission': '0', 'commission_type': 'notional', 'subtag': None, 'source': None, 'expires_at': '2025-01-24T21:00:00Z'}\n"
     ]
    }
   ],
   "source": [
    "refresh_pending_statuses(direction=\"open\", account_id=clients_account_id[\"client_1\"])"
   ]
  },
  {
   "cell_type": "code",
   "execution_count": 431,
   "metadata": {},
   "outputs": [],
   "source": [
    "# refresh_pending_statuses_open(clients_account_id[\"client_1\"])"
   ]
  },
  {
   "cell_type": "markdown",
   "metadata": {},
   "source": [
    "3. **Cerrar órdenes**: Comprobar en MongoDB, cerrarlas en Alpaca, comprobar que el cierre ha sido exitoso y actualizar en MongoDB. Hacer la función de comprobación y cierre flexible y atómica en cuanto a input para poder reutilizarla a modo de demo sin que sea diario por la noche. "
   ]
  },
  {
   "cell_type": "markdown",
   "metadata": {},
   "source": [
    "1 - Comprobar en Mongo qué órdenes o posiciones se deben cerrar (habría que ajustar bien la asignación de fecha-hora de cierre)"
   ]
  },
  {
   "cell_type": "code",
   "execution_count": 432,
   "metadata": {},
   "outputs": [],
   "source": [
    "closing_datetime = datetime(2025, 1, 30)\n",
    "# Comprobar qué órdenes coinciden ya han pasado esa fecha y siguen abiertas\n",
    "def check_open_due_orders(closing_datetime: datetime):\n",
    "    due_order_list_mongodb = list(db_handle.db[\"trades\"].find(\n",
    "                {\"$and\":\n",
    "                [{'content.planned_close_date': {\"$gte\": closing_datetime}}, # After closing time filter\n",
    "                {'content.status_open': 'filled'}\n",
    "                ]}))\n",
    "    \n",
    "    due_order_list_mongodb = [due_order[\"content\"] for due_order in due_order_list_mongodb]\n",
    "    \n",
    "    return due_order_list_mongodb\n",
    "\n",
    "def check_open_due_orders_today():\n",
    "    due_order_list_mongodb = check_open_due_orders(closing_datetime = datetime.today())\n",
    "\n",
    "    return due_order_list_mongodb"
   ]
  },
  {
   "cell_type": "markdown",
   "metadata": {},
   "source": [
    "2.1 - Update status closed in database and close qty of position equal to quantity of closing order"
   ]
  },
  {
   "cell_type": "code",
   "execution_count": 479,
   "metadata": {},
   "outputs": [
    {
     "data": {
      "text/plain": [
       "datetime.date(2025, 1, 24)"
      ]
     },
     "execution_count": 479,
     "metadata": {},
     "output_type": "execute_result"
    }
   ],
   "source": [
    "datetime.today().date()"
   ]
  },
  {
   "cell_type": "code",
   "execution_count": 462,
   "metadata": {},
   "outputs": [],
   "source": [
    "mongodb_order_dict = db_handle.db[\"trades\"].find_one({\"content.alpaca_order_id_open\": \"23e7ec13-df1a-4690-b49b-f4ad7ba2b1df\"})\n",
    "mongodb_order_dict = mongodb_order_dict[\"content\"]"
   ]
  },
  {
   "cell_type": "code",
   "execution_count": 463,
   "metadata": {},
   "outputs": [],
   "source": [
    "# response_close = close_symbol_position_client(account_id=mongodb_order_dict[\"alpaca_account_id\"],\n",
    "#                                  symbol=mongodb_order_dict[\"symbol\"], \n",
    "#                                  magnitude=mongodb_order_dict[\"qty\"], \n",
    "#                                  mode = \"qty\")"
   ]
  },
  {
   "cell_type": "code",
   "execution_count": 469,
   "metadata": {},
   "outputs": [
    {
     "name": "stdout",
     "output_type": "stream",
     "text": [
      "{'id': '1bba1637-3e98-4846-9090-ef556ac6e571', 'client_order_id': '13e948c8-6f89-410f-a845-bfced31ef990', 'created_at': '2025-01-24T07:56:30.687347177Z', 'updated_at': '2025-01-24T07:56:30.687772617Z', 'submitted_at': '2025-01-24T07:56:30.687347177Z', 'filled_at': None, 'expired_at': None, 'canceled_at': None, 'failed_at': None, 'replaced_at': None, 'replaced_by': None, 'replaces': None, 'asset_id': 'b0b6dd9d-8b9b-48a9-ba46-b9d54906e415', 'symbol': 'AAPL', 'asset_class': 'us_equity', 'notional': None, 'qty': '1.338473069', 'filled_qty': '0', 'filled_avg_price': None, 'order_class': '', 'order_type': 'market', 'type': 'market', 'side': 'sell', 'position_intent': 'sell_to_close', 'time_in_force': 'day', 'limit_price': None, 'stop_price': None, 'status': 'accepted', 'extended_hours': False, 'legs': None, 'trail_percent': None, 'trail_price': None, 'hwm': None, 'subtag': None, 'source': None, 'expires_at': '2025-01-24T21:00:00Z'}\n"
     ]
    },
    {
     "data": {
      "text/plain": [
       "{'id': '1bba1637-3e98-4846-9090-ef556ac6e571',\n",
       " 'client_order_id': '13e948c8-6f89-410f-a845-bfced31ef990',\n",
       " 'created_at': '2025-01-24T07:56:30.687347177Z',\n",
       " 'updated_at': '2025-01-24T07:56:30.687772617Z',\n",
       " 'submitted_at': '2025-01-24T07:56:30.687347177Z',\n",
       " 'filled_at': None,\n",
       " 'expired_at': None,\n",
       " 'canceled_at': None,\n",
       " 'failed_at': None,\n",
       " 'replaced_at': None,\n",
       " 'replaced_by': None,\n",
       " 'replaces': None,\n",
       " 'asset_id': 'b0b6dd9d-8b9b-48a9-ba46-b9d54906e415',\n",
       " 'symbol': 'AAPL',\n",
       " 'asset_class': 'us_equity',\n",
       " 'notional': None,\n",
       " 'qty': '1.338473069',\n",
       " 'filled_qty': '0',\n",
       " 'filled_avg_price': None,\n",
       " 'order_class': '',\n",
       " 'order_type': 'market',\n",
       " 'type': 'market',\n",
       " 'side': 'sell',\n",
       " 'position_intent': 'sell_to_close',\n",
       " 'time_in_force': 'day',\n",
       " 'limit_price': None,\n",
       " 'stop_price': None,\n",
       " 'status': 'accepted',\n",
       " 'extended_hours': False,\n",
       " 'legs': None,\n",
       " 'trail_percent': None,\n",
       " 'trail_price': None,\n",
       " 'hwm': None,\n",
       " 'subtag': None,\n",
       " 'source': None,\n",
       " 'expires_at': '2025-01-24T21:00:00Z'}"
      ]
     },
     "execution_count": 469,
     "metadata": {},
     "output_type": "execute_result"
    }
   ],
   "source": [
    "get_order_by_id(mongodb_order_dict[\"alpaca_account_id\"],\"1bba1637-3e98-4846-9090-ef556ac6e571\")"
   ]
  },
  {
   "cell_type": "code",
   "execution_count": 465,
   "metadata": {},
   "outputs": [],
   "source": [
    "def close_due_order_position(mongodb_order_dict: dict):\n",
    "    # close qty amount in corresponding asset position\n",
    "    response_close = close_symbol_position_client(account_id=mongodb_order_dict[\"alpaca_account_id\"],\n",
    "                                 symbol=mongodb_order_dict[\"symbol\"], \n",
    "                                 magnitude=mongodb_order_dict[\"qty\"], \n",
    "                                 mode = \"qty\")\n",
    "    \n",
    "    # initialize close order status\n",
    "    update_order_field(direction=\"open\", # IMPORTANT: direction=\"open\" to use alpaca_order_id_open\n",
    "                       alpaca_order_id = mongodb_order_dict[\"alpaca_order_id_open\"],\n",
    "                        field_to_update = \"status_close\", \n",
    "                        new_field_value = \"PENDING\")\n",
    "    \n",
    "    # update alpaca_order_id_close\n",
    "    update_order_field(direction=\"open\", # IMPORTANT: direction=\"open\" to use alpaca_order_id_open\n",
    "                       alpaca_order_id = mongodb_order_dict[\"alpaca_order_id_open\"],\n",
    "                        field_to_update = \"alpaca_order_id_close\", \n",
    "                        new_field_value = response_close[\"id\"])\n",
    "    \n",
    "    return response_close\n",
    "\n",
    "def cancel_open_order_mongodb(account_id, alpaca_order_id):    \n",
    "    cancel_open_order(account_id = account_id,\n",
    "                      order_id = alpaca_order_id)\n",
    "    \n",
    "    # initialize close order status\n",
    "    update_order_field(direction=\"open\", # IMPORTANT: direction=\"open\" to use alpaca_order_id_open\n",
    "                       alpaca_order_id = alpaca_order_id,\n",
    "                        field_to_update = \"status_open\", \n",
    "                        new_field_value = \"cancelled\")\n",
    "    \n",
    "\n",
    "    \n",
    "    "
   ]
  },
  {
   "cell_type": "code",
   "execution_count": 466,
   "metadata": {},
   "outputs": [
    {
     "name": "stdout",
     "output_type": "stream",
     "text": [
      "Order '52477caf-d80a-4846-b5ee-ce7337637962' cancelled succesfully.\n"
     ]
    }
   ],
   "source": [
    "cancel_open_order_mongodb(\"dcfbefb1-cbaa-4e60-9cef-9db801b8eb13\", \"52477caf-d80a-4846-b5ee-ce7337637962\")"
   ]
  },
  {
   "cell_type": "code",
   "execution_count": 468,
   "metadata": {},
   "outputs": [
    {
     "name": "stdout",
     "output_type": "stream",
     "text": [
      "{'id': '1bba1637-3e98-4846-9090-ef556ac6e571', 'client_order_id': '13e948c8-6f89-410f-a845-bfced31ef990', 'created_at': '2025-01-24T07:56:30.687347177Z', 'updated_at': '2025-01-24T07:56:30.687772617Z', 'submitted_at': '2025-01-24T07:56:30.687347177Z', 'filled_at': None, 'expired_at': None, 'canceled_at': None, 'failed_at': None, 'replaced_at': None, 'replaced_by': None, 'replaces': None, 'asset_id': 'b0b6dd9d-8b9b-48a9-ba46-b9d54906e415', 'symbol': 'AAPL', 'asset_class': 'us_equity', 'notional': None, 'qty': '1.338473069', 'filled_qty': '0', 'filled_avg_price': None, 'order_class': '', 'order_type': 'market', 'type': 'market', 'side': 'sell', 'position_intent': 'sell_to_close', 'time_in_force': 'day', 'limit_price': None, 'stop_price': None, 'status': 'accepted', 'extended_hours': False, 'legs': None, 'trail_percent': None, 'trail_price': None, 'hwm': None, 'subtag': None, 'source': None, 'expires_at': '2025-01-24T21:00:00Z'}\n"
     ]
    }
   ],
   "source": []
  },
  {
   "cell_type": "markdown",
   "metadata": {},
   "source": [
    "2.2 - Close order"
   ]
  },
  {
   "cell_type": "code",
   "execution_count": 467,
   "metadata": {},
   "outputs": [
    {
     "name": "stdout",
     "output_type": "stream",
     "text": [
      "{'id': '1bba1637-3e98-4846-9090-ef556ac6e571', 'client_order_id': '13e948c8-6f89-410f-a845-bfced31ef990', 'created_at': '2025-01-24T07:56:30.687347177Z', 'updated_at': '2025-01-24T07:56:30.687772617Z', 'submitted_at': '2025-01-24T07:56:30.687347177Z', 'filled_at': None, 'expired_at': None, 'canceled_at': None, 'failed_at': None, 'replaced_at': None, 'replaced_by': None, 'replaces': None, 'asset_id': 'b0b6dd9d-8b9b-48a9-ba46-b9d54906e415', 'symbol': 'AAPL', 'asset_class': 'us_equity', 'notional': None, 'qty': '1.338473069', 'filled_qty': '0', 'filled_avg_price': None, 'order_class': '', 'order_type': 'market', 'type': 'market', 'side': 'sell', 'position_intent': 'sell_to_close', 'time_in_force': 'day', 'limit_price': None, 'stop_price': None, 'status': 'accepted', 'extended_hours': False, 'legs': None, 'trail_percent': None, 'trail_price': None, 'hwm': None, 'subtag': None, 'source': None, 'expires_at': '2025-01-24T21:00:00Z'}\n"
     ]
    }
   ],
   "source": [
    "response_close = close_due_order_position(mongodb_order_dict)"
   ]
  },
  {
   "cell_type": "markdown",
   "metadata": {},
   "source": [
    "2.3 - Refresh the state to the database"
   ]
  },
  {
   "cell_type": "code",
   "execution_count": null,
   "metadata": {},
   "outputs": [],
   "source": [
    "refresh_statuses(direction=\"close\", account_id=clients_account_id[\"client_1\"])"
   ]
  },
  {
   "cell_type": "markdown",
   "metadata": {},
   "source": [
    "## Workflow"
   ]
  },
  {
   "cell_type": "code",
   "execution_count": null,
   "metadata": {},
   "outputs": [],
   "source": []
  },
  {
   "cell_type": "code",
   "execution_count": null,
   "metadata": {},
   "outputs": [],
   "source": []
  }
 ],
 "metadata": {
  "kernelspec": {
   "display_name": "algorithmic_trading",
   "language": "python",
   "name": "algorithmic_trading"
  },
  "language_info": {
   "codemirror_mode": {
    "name": "ipython",
    "version": 3
   },
   "file_extension": ".py",
   "mimetype": "text/x-python",
   "name": "python",
   "nbconvert_exporter": "python",
   "pygments_lexer": "ipython3",
   "version": "3.10.12"
  }
 },
 "nbformat": 4,
 "nbformat_minor": 2
}
