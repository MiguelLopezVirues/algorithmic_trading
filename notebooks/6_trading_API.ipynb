{
 "cells": [
  {
   "cell_type": "markdown",
   "metadata": {},
   "source": [
    "# Trading API"
   ]
  },
  {
   "cell_type": "markdown",
   "metadata": {},
   "source": [
    "#### 0. Imports"
   ]
  },
  {
   "cell_type": "code",
   "execution_count": 51,
   "metadata": {},
   "outputs": [
    {
     "name": "stdout",
     "output_type": "stream",
     "text": [
      "The autoreload extension is already loaded. To reload it, use:\n",
      "  %reload_ext autoreload\n"
     ]
    }
   ],
   "source": [
    "%load_ext autoreload\n",
    "%autoreload 2\n",
    "import pandas as pd\n",
    "import requests\n",
    "from dotenv import load_dotenv\n",
    "import os\n",
    "from typing import Optional, List, Dict, Union\n",
    "from datetime import datetime, timedelta, timezone\n",
    "from bson.objectid import ObjectId\n",
    "import numpy as np\n",
    "\n",
    "load_dotenv()\n",
    "API_KEY = os.environ.get(\"ALPACA_KEY\")\n",
    "ALPACA_SECRET = os.environ.get(\"ALPACA_SECRET\")\n",
    "ALPACA_AUTH = os.environ.get(\"ALPACA_AUTH\")\n",
    "\n",
    "headers = {\n",
    "    \"accept\": \"application/json\",\n",
    "    \"content-type\": \"application/json\",\n",
    "    \"authorization\": ALPACA_AUTH\n",
    "}"
   ]
  },
  {
   "cell_type": "markdown",
   "metadata": {},
   "source": [
    "# 1. Introduction to this notebook"
   ]
  },
  {
   "cell_type": "markdown",
   "metadata": {},
   "source": [
    "This notebook as a working file to develop the functions that interact with Alpaca's API and MongoDB to set up and monitor trades"
   ]
  },
  {
   "cell_type": "markdown",
   "metadata": {},
   "source": [
    "# 2. Trading workflow"
   ]
  },
  {
   "cell_type": "code",
   "execution_count": 120,
   "metadata": {},
   "outputs": [],
   "source": [
    "clients_account_id = {\"client_1\": \"b5284860-b133-458b-8140-8fb5e59d8439\"}"
   ]
  },
  {
   "cell_type": "code",
   "execution_count": 121,
   "metadata": {},
   "outputs": [],
   "source": [
    "def get_account_trading_details(account_id):\n",
    "    url = f\"https://broker-api.sandbox.alpaca.markets/v1/trading/accounts/{account_id}/account\"\n",
    "\n",
    "    response = requests.get(url, headers=headers)\n",
    "\n",
    "    print(response.json())\n",
    "\n",
    "    return response.json()"
   ]
  },
  {
   "cell_type": "markdown",
   "metadata": {},
   "source": [
    "Make INCOMING (flowing into the wallet) simulated bank transaction for the client into his account wallet. \n",
    "1. Get the client-bank relationship_id."
   ]
  },
  {
   "cell_type": "code",
   "execution_count": 122,
   "metadata": {},
   "outputs": [
    {
     "name": "stdout",
     "output_type": "stream",
     "text": [
      "[{'id': 'f4a5cd49-7fae-4389-91ae-3ef55d3e144b', 'account_id': 'b5284860-b133-458b-8140-8fb5e59d8439', 'created_at': '2025-02-07T14:11:38.385935Z', 'updated_at': '2025-02-07T14:18:51.678877Z', 'status': 'APPROVED', 'account_owner_name': 'Vibrant Nightingale', 'bank_account_type': 'CHECKING', 'bank_account_number': '32131231abc', 'bank_routing_number': '123103716', 'nickname': 'Bank of America Checking', 'processor_token': None}]\n",
      "The relationship_id is f4a5cd49-7fae-4389-91ae-3ef55d3e144b\n"
     ]
    }
   ],
   "source": [
    "account_id = clients_account_id[\"client_1\"]\n",
    "\n",
    "url = f\"https://broker-api.sandbox.alpaca.markets/v1/accounts/{account_id}/ach_relationships\"\n",
    "\n",
    "response = requests.get(url, headers=headers)\n",
    "\n",
    "print(response.json())\n",
    "relationship_id = response.json()[0][\"id\"]\n",
    "print(f\"The relationship_id is {relationship_id}\")"
   ]
  },
  {
   "cell_type": "code",
   "execution_count": 123,
   "metadata": {},
   "outputs": [
    {
     "data": {
      "text/plain": [
       "'b5284860-b133-458b-8140-8fb5e59d8439'"
      ]
     },
     "execution_count": 123,
     "metadata": {},
     "output_type": "execute_result"
    }
   ],
   "source": [
    "clients_account_id[\"client_1\"]"
   ]
  },
  {
   "cell_type": "code",
   "execution_count": 124,
   "metadata": {},
   "outputs": [
    {
     "name": "stdout",
     "output_type": "stream",
     "text": [
      "The relationship_id for client 'b5284860-b133-458b-8140-8fb5e59d8439' is 'f4a5cd49-7fae-4389-91ae-3ef55d3e144b'.\n"
     ]
    }
   ],
   "source": [
    "account_id = clients_account_id[\"client_1\"]\n",
    "\n",
    "def get_account_relationship_id(account_id: str):\n",
    "    url = f\"https://broker-api.sandbox.alpaca.markets/v1/accounts/{account_id}/ach_relationships\"\n",
    "\n",
    "    response = requests.get(url, headers=headers)\n",
    "\n",
    "    relationship_id = response.json()[0][\"id\"]\n",
    "    return relationship_id\n",
    "\n",
    "\n",
    "relationship_id = get_account_relationship_id(clients_account_id[\"client_1\"])\n",
    "\n",
    "print(f\"The relationship_id for client '{clients_account_id['client_1']}' is '{relationship_id}'.\")"
   ]
  },
  {
   "cell_type": "markdown",
   "metadata": {},
   "source": [
    "2. Make the transaction (max. 1 per day)"
   ]
  },
  {
   "cell_type": "code",
   "execution_count": 57,
   "metadata": {},
   "outputs": [
    {
     "name": "stdout",
     "output_type": "stream",
     "text": [
      "{'id': 'a2cfac0f-23ff-4a7d-8915-bd7505752d80', 'relationship_id': 'f4a5cd49-7fae-4389-91ae-3ef55d3e144b', 'account_id': 'b5284860-b133-458b-8140-8fb5e59d8439', 'type': 'ach', 'status': 'QUEUED', 'currency': 'USD', 'amount': '10', 'instant_amount': '0', 'direction': 'INCOMING', 'created_at': '2025-02-07T11:20:00.072828645-05:00', 'updated_at': '2025-02-07T11:20:00.072828645-05:00', 'expires_at': '2025-02-14T11:20:00.072214555-05:00', 'reason': None, 'hold_until': None, 'requested_amount': '10', 'fee': '0', 'fee_payment_method': 'user'}\n"
     ]
    }
   ],
   "source": [
    "url = f\"https://broker-api.sandbox.alpaca.markets/v1/accounts/{account_id}/transfers\"\n",
    "\n",
    "payload = {\n",
    "    \"transfer_type\": \"ach\",\n",
    "    \"direction\": \"INCOMING\",\n",
    "    \"timing\": \"immediate\",\n",
    "    \"relationship_id\": f\"{relationship_id}\",\n",
    "    \"amount\": \"10\"\n",
    "}\n",
    "headers = {\n",
    "    \"accept\": \"application/json\",\n",
    "    \"content-type\": \"application/json\",\n",
    "    \"authorization\": ALPACA_AUTH\n",
    "}\n",
    "\n",
    "response = requests.post(url, json=payload, headers=headers)\n",
    "\n",
    "print(response.json())\n",
    "\n"
   ]
  },
  {
   "cell_type": "markdown",
   "metadata": {},
   "source": []
  },
  {
   "cell_type": "code",
   "execution_count": 125,
   "metadata": {},
   "outputs": [
    {
     "name": "stdout",
     "output_type": "stream",
     "text": [
      "{'code': 40010001, 'message': 'maximum total daily transfer allowed is $50000'}\n"
     ]
    },
    {
     "data": {
      "text/plain": [
       "{'code': 40010001, 'message': 'maximum total daily transfer allowed is $50000'}"
      ]
     },
     "execution_count": 125,
     "metadata": {},
     "output_type": "execute_result"
    }
   ],
   "source": [
    "def make_funding_transaction(account_id: str, relationship_id, amount):\n",
    "    url = f\"https://broker-api.sandbox.alpaca.markets/v1/accounts/{account_id}/transfers\"\n",
    "\n",
    "    payload = {\n",
    "        \"transfer_type\": \"ach\",\n",
    "        \"direction\": \"INCOMING\",\n",
    "        \"timing\": \"immediate\",\n",
    "        \"relationship_id\": f\"{relationship_id}\",\n",
    "        \"amount\": str(amount)\n",
    "    }\n",
    "\n",
    "    response = requests.post(url, json=payload, headers=headers)\n",
    "\n",
    "    print(response.json())\n",
    "\n",
    "    return response.json()\n",
    "\n",
    "make_funding_transaction(clients_account_id['client_1'], relationship_id, 50000)"
   ]
  },
  {
   "cell_type": "code",
   "execution_count": 59,
   "metadata": {},
   "outputs": [],
   "source": [
    "def get_open_positions_client(account_id: str, symbol_id: Optional[str] = None):\n",
    "    url = f\"https://broker-api.sandbox.alpaca.markets/v1/trading/accounts/{account_id}/positions\"\n",
    "\n",
    "    if symbol_id:\n",
    "        url += f\"/{symbol_id}\"\n",
    "\n",
    "    response = requests.get(url, headers=headers)\n",
    "\n",
    "    print(response.json())\n",
    "\n",
    "    return response.json()"
   ]
  },
  {
   "cell_type": "code",
   "execution_count": 60,
   "metadata": {},
   "outputs": [],
   "source": [
    "def close_all_open_positions_client(account_id):\n",
    "    url = f\"https://broker-api.sandbox.alpaca.markets/v1/trading/accounts/{account_id}/positions\"\n",
    "\n",
    "    response = requests.delete(url, headers=headers)\n",
    "\n",
    "    print(response.json())\n",
    "\n",
    "    return response.json()"
   ]
  },
  {
   "cell_type": "code",
   "execution_count": 61,
   "metadata": {},
   "outputs": [],
   "source": [
    "def close_symbol_position_client(account_id: str, symbol: str, magnitude: float, mode: str=\"percentage\"):\n",
    "    url = f\"https://broker-api.sandbox.alpaca.markets/v1/trading/accounts/{account_id}/positions/{symbol}\"\n",
    "\n",
    "    if mode == \"percentage\":\n",
    "        url += f\"?percentage={magnitude}\"\n",
    "    elif mode == \"qty\":\n",
    "        url += f\"?qty={magnitude}\"\n",
    "    else:\n",
    "        raise ValueError(\"The mode especified is incorrect. It should be either 'percentage' or 'qty'\")\n",
    "\n",
    "    response = requests.delete(url, headers=headers)\n",
    "\n",
    "    print(response.json())\n",
    "\n",
    "    return response.json()"
   ]
  },
  {
   "cell_type": "markdown",
   "metadata": {},
   "source": []
  },
  {
   "cell_type": "code",
   "execution_count": 62,
   "metadata": {},
   "outputs": [],
   "source": [
    "def list_open_positions_by_client_id(account_id):\n",
    "    url = f\"https://broker-api.sandbox.alpaca.markets/v1/trading/accounts/{account_id}/positions\"\n",
    "\n",
    "    response = requests.get(url, headers=headers)\n",
    "\n",
    "    print(response.json())\n",
    "\n",
    "    return response.json()"
   ]
  },
  {
   "cell_type": "code",
   "execution_count": 63,
   "metadata": {},
   "outputs": [],
   "source": [
    "def get_order_by_id(account_id, order_id):\n",
    "    url = f\"https://broker-api.sandbox.alpaca.markets/v1/trading/accounts/{account_id}/orders/{order_id}\"\n",
    "\n",
    "    response = requests.get(url, headers=headers)\n",
    "\n",
    "    print(response.json())\n",
    "\n",
    "    return response.json()"
   ]
  },
  {
   "cell_type": "code",
   "execution_count": 64,
   "metadata": {},
   "outputs": [
    {
     "name": "stdout",
     "output_type": "stream",
     "text": [
      "{'code': 40010001, 'message': 'invalid account id'}\n"
     ]
    }
   ],
   "source": [
    "def get_list_of_orders(\n",
    "    account_id: str,\n",
    "    status: Optional[str] = \"all\",\n",
    "    limit: Optional[int] = None,\n",
    "    after: Optional[Union[str, datetime]] = None,\n",
    "    until: Optional[Union[str, datetime]] = None,\n",
    "    direction: Optional[str] = None,\n",
    "    nested: Optional[bool] = None,\n",
    "    symbols: Optional[str] = None,\n",
    "    qty_below: Optional[Union[str, float]] = None,\n",
    "    qty_above: Optional[Union[str, float]] = None,\n",
    ") -> Dict:\n",
    "    \"\"\"\n",
    "    Retrieve a list of orders for a specific account with optional filters.\n",
    "\n",
    "    Args:\n",
    "        account_id (str): The ID of the account for which to retrieve orders.\n",
    "        status (str, optional): Order status to be queried. Can be 'open', 'closed', or 'all'. Defaults to 'open'.\n",
    "        limit (int, optional): The maximum number of orders in the response. Defaults to 50, max is 500.\n",
    "        after (Union[str, datetime], optional): A timestamp in ISO 8601 format or a datetime object. \n",
    "            The response will include only orders submitted after this timestamp (exclusive).\n",
    "        until (Union[str, datetime], optional): A timestamp in ISO 8601 format or a datetime object. \n",
    "            The response will include only orders submitted until this timestamp (exclusive).\n",
    "        direction (str, optional): The chronological order of the response based on submission time. \n",
    "            Can be 'asc' or 'desc'. Defaults to 'desc'.\n",
    "        nested (bool, optional): If True, the result will roll up multi-leg orders under the 'legs' field of the primary order.\n",
    "        symbols (str, optional): A comma-separated list of symbols to filter by (e.g., 'AAPL,TSLA').\n",
    "        qty_below (Union[str, float], optional): Filter orders with a quantity below this value.\n",
    "        qty_above (Union[str, float], optional): Filter orders with a quantity above this value.\n",
    "\n",
    "    Returns:\n",
    "        dict: A JSON response containing the list of orders matching the specified filters.\n",
    "    \"\"\"\n",
    "    \n",
    "    # Function implementation here\n",
    "    pass\n",
    "    # Base URL for the Alpaca Broker API\n",
    "    url = f\"https://broker-api.sandbox.alpaca.markets/v1/trading/accounts/{account_id}/orders?\"\n",
    "\n",
    "    # Add status if provided\n",
    "    if status:\n",
    "        url += f\"&status={status}\"\n",
    "\n",
    "    # Add limit if provided\n",
    "    if limit:\n",
    "        url += f\"&limit={limit}\"\n",
    "\n",
    "    # Add after timestamp if provided\n",
    "    if after:\n",
    "        url += f\"&after={after}\"\n",
    "\n",
    "    # Add until timestamp if provided\n",
    "    if until:\n",
    "        url += f\"&until={until}\"\n",
    "\n",
    "    # Add direction if provided\n",
    "    if direction:\n",
    "        url += f\"&direction={direction}\"\n",
    "\n",
    "    # Add nested flag if provided\n",
    "    if nested:\n",
    "        url += f\"&nested={nested}\"\n",
    "\n",
    "    # Add symbols if provided (comma-separated list)\n",
    "    if symbols:\n",
    "        url += f\"&symbols={symbols}\"\n",
    "\n",
    "    # Add qty_below if provided\n",
    "    if qty_below:\n",
    "        url += f\"&qty_below={qty_below}\"\n",
    "\n",
    "    # Add qty_above if provided\n",
    "    if qty_above:\n",
    "        url += f\"&qty_above={qty_above}\"\n",
    "\n",
    "\n",
    "    response = requests.get(url, headers=headers)\n",
    "\n",
    "    return response.json()\n",
    "\n",
    "orders = get_list_of_orders(\n",
    "    account_id=\"your_account_id\",\n",
    "    status=\"open\",\n",
    "    limit=100,\n",
    "    after=\"2021-01-01T18:38:00\",\n",
    "    until=\"2021-03-01T18:38:00\",\n",
    "    direction=\"desc\",\n",
    "    nested=True,\n",
    "    symbols=\"AAPL,TSLA\",\n",
    "    qty_below=\"80\",\n",
    "    qty_above=\"100\"\n",
    ")\n",
    "print(orders)"
   ]
  },
  {
   "cell_type": "code",
   "execution_count": 65,
   "metadata": {},
   "outputs": [],
   "source": [
    "def cancel_all_open_orders(account_id):\n",
    "    url = f\"https://broker-api.sandbox.alpaca.markets/v1/trading/accounts/{account_id}/orders\"\n",
    "\n",
    "    response = requests.delete(url, headers=headers)\n",
    "\n",
    "    print(response.json())"
   ]
  },
  {
   "cell_type": "code",
   "execution_count": 66,
   "metadata": {},
   "outputs": [],
   "source": [
    "def cancel_open_order(account_id, order_id):\n",
    "    url = f\"https://broker-api.sandbox.alpaca.markets/v1/trading/accounts/{account_id}/orders/{order_id}\"\n",
    "\n",
    "    response = requests.delete(url, headers=headers)\n",
    "\n",
    "    if response.status_code == 204:\n",
    "        print(f\"Order '{order_id}' cancelled succesfully.\")\n",
    "    else:\n",
    "        print(\"Request error.\")\n"
   ]
  },
  {
   "cell_type": "code",
   "execution_count": 67,
   "metadata": {},
   "outputs": [],
   "source": [
    "def create_order_for_client(\n",
    "    account_id: str,\n",
    "    symbol: str,\n",
    "    qty: Optional[Union[str, float]] = None,\n",
    "    notional: Optional[Union[str, float]] = None,\n",
    "    side: str = \"buy\",\n",
    "    type: str = \"market\",\n",
    "    time_in_force: str = \"day\",\n",
    "    limit_price: Optional[Union[str, float]] = None,\n",
    "    stop_price: Optional[Union[str, float]] = None,\n",
    "    trail_price: Optional[Union[str, float]] = None,\n",
    "    trail_percent: Optional[Union[str, float]] = None,\n",
    "    extended_hours: bool = False,\n",
    "    client_order_id: Optional[str] = None,\n",
    "    order_class: str = \"simple\",\n",
    "    tags: Optional[List[str]] = None,\n",
    "    take_profit: Optional[Dict] = None,\n",
    "    stop_loss: Optional[Dict] = None,\n",
    "    commission: Optional[float] = None,\n",
    "    commission_type: str = \"notional\",\n",
    "    source: Optional[str] = None,\n",
    "    instructions: Optional[str] = None,\n",
    "    subtag: Optional[str] = None,\n",
    "    swap_fee_bps: Optional[Union[str, float]] = None,\n",
    "    position_intent: Optional[str] = None,\n",
    ") -> Dict:\n",
    "    \"\"\"\n",
    "    Create an order for a client's account.\n",
    "\n",
    "    Args:\n",
    "        account_id (str): The ID of the account for which to create the order.\n",
    "        symbol (str): Symbol or asset ID to identify the asset to trade.\n",
    "        qty (str, optional): Number of shares to trade. Can be fractional for market and day orders.\n",
    "        notional (str, optional): Dollar amount to trade. Cannot be used with qty.\n",
    "        side (str, optional): Represents the side of the transaction. Defaults to \"buy\".\n",
    "        type (str, optional): The order type. Defaults to \"market\". Equity assets have the following options: limit, stop, stop_limit, trailing_stop.\n",
    "        time_in_force (str, optional): The time the order will last without being fulfilled until cancellation. Defaults to \"day\".\n",
    "        limit_price (str, optional): Required if type is 'limit' or 'stop_limit'.\n",
    "        stop_price (str, optional): Required if type is 'stop' or 'stop_limit'.\n",
    "        trail_price (str, optional): Required if type is 'trailing_stop' and trail_percent is not provided.\n",
    "        trail_percent (str, optional): Required if type is 'trailing_stop' and trail_price is not provided.\n",
    "        extended_hours (bool, optional): If true, order is eligible to execute in pre/post-market. Defaults to False.\n",
    "        client_order_id (str, optional): A unique identifier for the order. Automatically generated if not provided.\n",
    "        order_class (str, optional): The order class. Defaults to \"simple\".\n",
    "        tags (list, optional): List of order tags (max 4).\n",
    "        take_profit (dict, optional): Take profit order details.\n",
    "        stop_loss (dict, optional): Stop loss order details.\n",
    "        commission (float, optional): The commission to collect from the user.\n",
    "        commission_type (str, optional): How to interpret the commission value. Defaults to \"notional\".\n",
    "        source (str, optional): Source of the order.\n",
    "        instructions (str, optional): Additional instructions for the order.\n",
    "        subtag (str, optional): Subtag for the order.\n",
    "        swap_fee_bps (str, optional): Swap fee in basis points.\n",
    "        position_intent (str, optional): Represents the desired position strategy.\n",
    "\n",
    "    Returns:\n",
    "        dict: A JSON response containing the details of the created order.\n",
    "    \"\"\"\n",
    "    url = f\"https://broker-api.sandbox.alpaca.markets/v1/trading/accounts/{account_id}/orders\"\n",
    "\n",
    "\n",
    "    payload = {\n",
    "        \"symbol\": symbol,\n",
    "        \"qty\": qty,\n",
    "        \"notional\": notional,\n",
    "        \"side\": side,\n",
    "        \"type\": type,\n",
    "        \"time_in_force\": time_in_force,\n",
    "        \"limit_price\": limit_price,\n",
    "        \"stop_price\": stop_price,\n",
    "        \"trail_price\": trail_price,\n",
    "        \"trail_percent\": trail_percent,\n",
    "        \"extended_hours\": extended_hours,\n",
    "        \"client_order_id\": client_order_id,\n",
    "        \"order_class\": order_class,\n",
    "        \"tags\": tags,\n",
    "        \"take_profit\": take_profit,\n",
    "        \"stop_loss\": stop_loss,\n",
    "        \"commission\": commission,\n",
    "        \"commission_type\": commission_type,\n",
    "        \"source\": source,\n",
    "        \"instructions\": instructions,\n",
    "        \"subtag\": subtag,\n",
    "        \"swap_fee_bps\": swap_fee_bps,\n",
    "        \"position_intent\": position_intent,\n",
    "    }\n",
    "\n",
    "    # Remove None values from payload\n",
    "    payload = {k: v for k, v in payload.items() if v is not None}\n",
    "\n",
    "    response = requests.post(url, json=payload, headers=headers)\n",
    "\n",
    "    if response.status_code == 200:\n",
    "        print(f\"Succesfully placed order {response.json()['id']} for {response.json()['position_intent']} of the symbol {response.json()['symbol']}. See details in response.\")\n",
    "\n",
    "    return response.json()\n",
    "\n",
    "\n",
    "# order_response = create_order_for_client(\n",
    "#     account_id=\"client_account_id\",\n",
    "#     symbol=\"AAPL\",\n",
    "#     qty=\"4.122\",\n",
    "#     side=\"buy\",\n",
    "#     type=\"market\",\n",
    "#     time_in_force=\"day\",\n",
    "#     commission=1.0,\n",
    "#     commission_type=\"notional\",\n",
    "#     take_profit =  { \"limit_price\": \"3.14\" },\n",
    "#     stop_loss =  {\n",
    "#         \"limit_price\": \"3\",\n",
    "#         \"stop_price\": \"3\"\n",
    "#     }\n",
    "# )\n",
    "# print(order_response)"
   ]
  },
  {
   "cell_type": "markdown",
   "metadata": {},
   "source": [
    "# Make trades"
   ]
  },
  {
   "cell_type": "markdown",
   "metadata": {},
   "source": [
    "Invest 100 dolars in Microsoft stocks. We need to trade with \"notional\" argument of `create_order_for_client()`."
   ]
  },
  {
   "cell_type": "code",
   "execution_count": 68,
   "metadata": {},
   "outputs": [
    {
     "name": "stdout",
     "output_type": "stream",
     "text": [
      "Succesfully placed order 5af6850d-5fdb-4bfb-8455-7a1700e81c78 for buy_to_open of the symbol MSFT. See details in response.\n"
     ]
    },
    {
     "data": {
      "text/plain": [
       "{'id': '5af6850d-5fdb-4bfb-8455-7a1700e81c78',\n",
       " 'client_order_id': '631fe556-2e1d-458f-858a-72cb3bf84e4c',\n",
       " 'created_at': '2025-02-07T16:20:01.636996446Z',\n",
       " 'updated_at': '2025-02-07T16:20:01.638425316Z',\n",
       " 'submitted_at': '2025-02-07T16:20:01.636996446Z',\n",
       " 'filled_at': None,\n",
       " 'expired_at': None,\n",
       " 'canceled_at': None,\n",
       " 'failed_at': None,\n",
       " 'replaced_at': None,\n",
       " 'replaced_by': None,\n",
       " 'replaces': None,\n",
       " 'asset_id': 'b6d1aa75-5c9c-4353-a305-9e2caa1925ab',\n",
       " 'symbol': 'MSFT',\n",
       " 'asset_class': 'us_equity',\n",
       " 'notional': '100',\n",
       " 'qty': None,\n",
       " 'filled_qty': '0',\n",
       " 'filled_avg_price': None,\n",
       " 'order_class': 'simple',\n",
       " 'order_type': 'market',\n",
       " 'type': 'market',\n",
       " 'side': 'buy',\n",
       " 'position_intent': 'buy_to_open',\n",
       " 'time_in_force': 'day',\n",
       " 'limit_price': None,\n",
       " 'stop_price': None,\n",
       " 'status': 'pending_new',\n",
       " 'extended_hours': False,\n",
       " 'legs': None,\n",
       " 'trail_percent': None,\n",
       " 'trail_price': None,\n",
       " 'hwm': None,\n",
       " 'commission': '0',\n",
       " 'commission_type': 'notional',\n",
       " 'subtag': None,\n",
       " 'source': None,\n",
       " 'expires_at': '2025-02-07T21:00:00Z'}"
      ]
     },
     "execution_count": 68,
     "metadata": {},
     "output_type": "execute_result"
    }
   ],
   "source": [
    "order_created_response = create_order_for_client(account_id=clients_account_id[\"client_1\"], symbol=\"MSFT\", notional=\"100\", side=\"buy\",type=\"market\")\n",
    "order_created_response"
   ]
  },
  {
   "cell_type": "code",
   "execution_count": 69,
   "metadata": {},
   "outputs": [
    {
     "data": {
      "text/plain": [
       "[{'id': '5af6850d-5fdb-4bfb-8455-7a1700e81c78',\n",
       "  'client_order_id': '631fe556-2e1d-458f-858a-72cb3bf84e4c',\n",
       "  'created_at': '2025-02-07T16:20:01.636996446Z',\n",
       "  'updated_at': '2025-02-07T16:20:01.645085066Z',\n",
       "  'submitted_at': '2025-02-07T16:20:01.636996446Z',\n",
       "  'filled_at': '2025-02-07T16:20:01.644232458Z',\n",
       "  'expired_at': None,\n",
       "  'canceled_at': None,\n",
       "  'failed_at': None,\n",
       "  'replaced_at': None,\n",
       "  'replaced_by': None,\n",
       "  'replaces': None,\n",
       "  'asset_id': 'b6d1aa75-5c9c-4353-a305-9e2caa1925ab',\n",
       "  'symbol': 'MSFT',\n",
       "  'asset_class': 'us_equity',\n",
       "  'notional': '100',\n",
       "  'qty': None,\n",
       "  'filled_qty': '0.242780909',\n",
       "  'filled_avg_price': '411.894',\n",
       "  'order_class': 'simple',\n",
       "  'order_type': 'market',\n",
       "  'type': 'market',\n",
       "  'side': 'buy',\n",
       "  'position_intent': 'buy_to_open',\n",
       "  'time_in_force': 'day',\n",
       "  'limit_price': None,\n",
       "  'stop_price': None,\n",
       "  'status': 'filled',\n",
       "  'extended_hours': False,\n",
       "  'legs': None,\n",
       "  'trail_percent': None,\n",
       "  'trail_price': None,\n",
       "  'hwm': None,\n",
       "  'commission': '0',\n",
       "  'commission_type': 'notional',\n",
       "  'subtag': None,\n",
       "  'source': None,\n",
       "  'expires_at': '2025-02-07T21:00:00Z'},\n",
       " {'id': 'e8a57a0f-22ca-413b-8d16-826626f08d90',\n",
       "  'client_order_id': '689b8cd3-9d32-4eca-9e35-e6cc0bab75bd',\n",
       "  'created_at': '2025-02-07T15:31:01.004236312Z',\n",
       "  'updated_at': '2025-02-07T15:31:01.012130562Z',\n",
       "  'submitted_at': '2025-02-07T15:31:01.004236312Z',\n",
       "  'filled_at': '2025-02-07T15:31:01.011332181Z',\n",
       "  'expired_at': None,\n",
       "  'canceled_at': None,\n",
       "  'failed_at': None,\n",
       "  'replaced_at': None,\n",
       "  'replaced_by': None,\n",
       "  'replaces': None,\n",
       "  'asset_id': 'b6d1aa75-5c9c-4353-a305-9e2caa1925ab',\n",
       "  'symbol': 'MSFT',\n",
       "  'asset_class': 'us_equity',\n",
       "  'notional': '100',\n",
       "  'qty': None,\n",
       "  'filled_qty': '0.242257451',\n",
       "  'filled_avg_price': '412.784',\n",
       "  'order_class': 'simple',\n",
       "  'order_type': 'market',\n",
       "  'type': 'market',\n",
       "  'side': 'buy',\n",
       "  'position_intent': 'buy_to_open',\n",
       "  'time_in_force': 'day',\n",
       "  'limit_price': None,\n",
       "  'stop_price': None,\n",
       "  'status': 'filled',\n",
       "  'extended_hours': False,\n",
       "  'legs': None,\n",
       "  'trail_percent': None,\n",
       "  'trail_price': None,\n",
       "  'hwm': None,\n",
       "  'commission': '0',\n",
       "  'commission_type': 'notional',\n",
       "  'subtag': None,\n",
       "  'source': None,\n",
       "  'expires_at': '2025-02-07T21:00:00Z'},\n",
       " {'id': 'fb4bbc8a-f0a9-484f-8fed-dd88687116f3',\n",
       "  'client_order_id': '6225ca87-d8b9-4a5d-82b2-ad8bb534b952',\n",
       "  'created_at': '2025-02-07T14:40:28.479929Z',\n",
       "  'updated_at': '2025-02-07T14:40:28.486373Z',\n",
       "  'submitted_at': '2025-02-07T14:40:28.479929Z',\n",
       "  'filled_at': '2025-02-07T14:40:28.485585Z',\n",
       "  'expired_at': None,\n",
       "  'canceled_at': None,\n",
       "  'failed_at': None,\n",
       "  'replaced_at': None,\n",
       "  'replaced_by': None,\n",
       "  'replaces': None,\n",
       "  'asset_id': 'b6d1aa75-5c9c-4353-a305-9e2caa1925ab',\n",
       "  'symbol': 'MSFT',\n",
       "  'asset_class': 'us_equity',\n",
       "  'notional': '100',\n",
       "  'qty': None,\n",
       "  'filled_qty': '0.239089165',\n",
       "  'filled_avg_price': '418.254',\n",
       "  'order_class': 'simple',\n",
       "  'order_type': 'market',\n",
       "  'type': 'market',\n",
       "  'side': 'buy',\n",
       "  'position_intent': 'buy_to_open',\n",
       "  'time_in_force': 'day',\n",
       "  'limit_price': None,\n",
       "  'stop_price': None,\n",
       "  'status': 'filled',\n",
       "  'extended_hours': False,\n",
       "  'legs': None,\n",
       "  'trail_percent': None,\n",
       "  'trail_price': None,\n",
       "  'hwm': None,\n",
       "  'commission': '0',\n",
       "  'commission_type': 'notional',\n",
       "  'subtag': None,\n",
       "  'source': 'correspondent',\n",
       "  'expires_at': '2025-02-07T21:00:00Z'},\n",
       " {'id': '37f6068f-6e45-458e-81b6-128043a7e5a0',\n",
       "  'client_order_id': 'fa18de4f-ecd2-4038-bedf-580bb363a218',\n",
       "  'created_at': '2025-02-07T14:38:56.455503Z',\n",
       "  'updated_at': '2025-02-07T14:38:56.462637Z',\n",
       "  'submitted_at': '2025-02-07T14:38:56.455503Z',\n",
       "  'filled_at': '2025-02-07T14:38:56.461786Z',\n",
       "  'expired_at': None,\n",
       "  'canceled_at': None,\n",
       "  'failed_at': None,\n",
       "  'replaced_at': None,\n",
       "  'replaced_by': None,\n",
       "  'replaces': None,\n",
       "  'asset_id': 'b6d1aa75-5c9c-4353-a305-9e2caa1925ab',\n",
       "  'symbol': 'MSFT',\n",
       "  'asset_class': 'us_equity',\n",
       "  'notional': '100',\n",
       "  'qty': None,\n",
       "  'filled_qty': '0.238958903',\n",
       "  'filled_avg_price': '418.482',\n",
       "  'order_class': 'simple',\n",
       "  'order_type': 'market',\n",
       "  'type': 'market',\n",
       "  'side': 'buy',\n",
       "  'position_intent': 'buy_to_open',\n",
       "  'time_in_force': 'day',\n",
       "  'limit_price': None,\n",
       "  'stop_price': None,\n",
       "  'status': 'filled',\n",
       "  'extended_hours': False,\n",
       "  'legs': None,\n",
       "  'trail_percent': None,\n",
       "  'trail_price': None,\n",
       "  'hwm': None,\n",
       "  'commission': '0',\n",
       "  'commission_type': 'notional',\n",
       "  'subtag': None,\n",
       "  'source': 'correspondent',\n",
       "  'expires_at': '2025-02-07T21:00:00Z'}]"
      ]
     },
     "execution_count": 69,
     "metadata": {},
     "output_type": "execute_result"
    }
   ],
   "source": [
    "get_list_of_orders(clients_account_id[\"client_1\"])"
   ]
  },
  {
   "cell_type": "code",
   "execution_count": 70,
   "metadata": {},
   "outputs": [
    {
     "name": "stdout",
     "output_type": "stream",
     "text": [
      "[{'asset_id': 'b6d1aa75-5c9c-4353-a305-9e2caa1925ab', 'symbol': 'MSFT', 'exchange': 'NASDAQ', 'asset_class': 'us_equity', 'asset_marginable': True, 'qty': '0.963086428', 'avg_entry_price': '415.331363', 'side': 'long', 'market_value': '396.753085', 'cost_basis': '399.999999', 'unrealized_pl': '-3.246914', 'unrealized_plpc': '-0.0081172850202932', 'unrealized_intraday_pl': '-3.246914', 'unrealized_intraday_plpc': '-0.0081172850202932', 'current_price': '411.96', 'lastday_price': '415.82', 'change_today': '-0.0092828627771632', 'qty_available': '0.963086428'}]\n"
     ]
    },
    {
     "data": {
      "text/plain": [
       "[{'asset_id': 'b6d1aa75-5c9c-4353-a305-9e2caa1925ab',\n",
       "  'symbol': 'MSFT',\n",
       "  'exchange': 'NASDAQ',\n",
       "  'asset_class': 'us_equity',\n",
       "  'asset_marginable': True,\n",
       "  'qty': '0.963086428',\n",
       "  'avg_entry_price': '415.331363',\n",
       "  'side': 'long',\n",
       "  'market_value': '396.753085',\n",
       "  'cost_basis': '399.999999',\n",
       "  'unrealized_pl': '-3.246914',\n",
       "  'unrealized_plpc': '-0.0081172850202932',\n",
       "  'unrealized_intraday_pl': '-3.246914',\n",
       "  'unrealized_intraday_plpc': '-0.0081172850202932',\n",
       "  'current_price': '411.96',\n",
       "  'lastday_price': '415.82',\n",
       "  'change_today': '-0.0092828627771632',\n",
       "  'qty_available': '0.963086428'}]"
      ]
     },
     "execution_count": 70,
     "metadata": {},
     "output_type": "execute_result"
    }
   ],
   "source": [
    "list_open_positions_by_client_id(clients_account_id[\"client_1\"])"
   ]
  },
  {
   "cell_type": "markdown",
   "metadata": {},
   "source": [
    "Check the open order"
   ]
  },
  {
   "cell_type": "code",
   "execution_count": 71,
   "metadata": {},
   "outputs": [
    {
     "name": "stdout",
     "output_type": "stream",
     "text": [
      "{'code': 40110000, 'message': 'request is not authorized'}\n"
     ]
    },
    {
     "data": {
      "text/plain": [
       "{'code': 40110000, 'message': 'request is not authorized'}"
      ]
     },
     "execution_count": 71,
     "metadata": {},
     "output_type": "execute_result"
    }
   ],
   "source": [
    "get_order_by_id(\"dcfbefb1-cbaa-4e60-9cef-9db801b8eb13\", \"e4d31b70-6ed8-4f61-8c2c-79d7ba769d94\")"
   ]
  },
  {
   "cell_type": "markdown",
   "metadata": {},
   "source": [
    "Query all orders, closed or open, for client:"
   ]
  },
  {
   "cell_type": "code",
   "execution_count": 72,
   "metadata": {},
   "outputs": [
    {
     "ename": "NameError",
     "evalue": "name 'client_id' is not defined",
     "output_type": "error",
     "traceback": [
      "\u001b[0;31m---------------------------------------------------------------------------\u001b[0m",
      "\u001b[0;31mNameError\u001b[0m                                 Traceback (most recent call last)",
      "Cell \u001b[0;32mIn[72], line 1\u001b[0m\n\u001b[0;32m----> 1\u001b[0m get_list_of_orders(\u001b[43mclient_id\u001b[49m, status\u001b[38;5;241m=\u001b[39m\u001b[38;5;124m\"\u001b[39m\u001b[38;5;124mall\u001b[39m\u001b[38;5;124m\"\u001b[39m)\n",
      "\u001b[0;31mNameError\u001b[0m: name 'client_id' is not defined"
     ]
    }
   ],
   "source": [
    "get_list_of_orders(client_id, status=\"all\")"
   ]
  },
  {
   "cell_type": "markdown",
   "metadata": {},
   "source": [
    "Query open orders:"
   ]
  },
  {
   "cell_type": "code",
   "execution_count": null,
   "metadata": {},
   "outputs": [
    {
     "data": {
      "text/plain": [
       "[]"
      ]
     },
     "execution_count": 116,
     "metadata": {},
     "output_type": "execute_result"
    }
   ],
   "source": [
    "get_list_of_orders(client_id, status=\"open\")"
   ]
  },
  {
   "cell_type": "markdown",
   "metadata": {},
   "source": [
    "Cancel open order by id:"
   ]
  },
  {
   "cell_type": "code",
   "execution_count": null,
   "metadata": {},
   "outputs": [
    {
     "name": "stdout",
     "output_type": "stream",
     "text": [
      "Request error.\n"
     ]
    }
   ],
   "source": [
    "cancel_open_order(client_id, order_created_response[\"id\"])"
   ]
  },
  {
   "cell_type": "markdown",
   "metadata": {},
   "source": [
    "Cancel all open orders:"
   ]
  },
  {
   "cell_type": "code",
   "execution_count": 73,
   "metadata": {},
   "outputs": [],
   "source": [
    "def cancel_all_open_orders(account_id):\n",
    "    url = f\"https://broker-api.sandbox.alpaca.markets/v1/trading/accounts/{account_id}/orders\"\n",
    "\n",
    "    response = requests.delete(url, headers=headers)\n",
    "\n",
    "    if response.status_code == 207:\n",
    "        succesful_cancellations = [order[\"id\"] for order in response.json() if order[\"status\"] == 200]\n",
    "        unsuccesful_cancellations = [order[\"id\"] for order in response.json() if order[\"status\"] != 200]\n",
    "\n",
    "        print(f\"The following orders were cancelled: {', '.join(succesful_cancellations)}.\")\n",
    "\n",
    "        print(f\"\\nUnsuccesful cancellations: {', '.join(unsuccesful_cancellations)}.\")\n",
    "\n",
    "        return response.json()"
   ]
  },
  {
   "cell_type": "markdown",
   "metadata": {},
   "source": [
    "Close an open position by id:"
   ]
  },
  {
   "cell_type": "markdown",
   "metadata": {},
   "source": [
    "Open a position and close it after 7 days.\n",
    "1. Open order. Register date.\n",
    "2. Add to \"positions_to_close\" table.\n",
    "3. Everyday, check \"positions_to_close\" table to check if there are any positions to close today. \n",
    "4. Issue position close order.\n",
    "5. (Bonus) Monitor fullfilled price at market open and decide wether a limit price should be issued."
   ]
  },
  {
   "cell_type": "markdown",
   "metadata": {},
   "source": [
    "Monitor orders and positions. For the specific case of opening and closing positions everyday at closed market:\n",
    "1. Have a table with order_id, order_date, close_date, status, intent_price, notional_amount, fulfilled_date, position_id, fulfilled_price, currency.\n",
    "2. Place order. Register order_id, order_date, intent_price (that day's close price if market, or limit_price), notional_amount, status == pending.\n",
    "3. Every day, check_status of non-definitive status (pending) orders and if open, then update to open and update fulfilled_date and fulfilled_price.\n",
    "4. Every day, check planned_close_date == today() and status==open and close orders.\n",
    "5. Start locally, but this table should be uploaded to MongoDB.\n",
    " "
   ]
  },
  {
   "cell_type": "code",
   "execution_count": 74,
   "metadata": {},
   "outputs": [],
   "source": [
    "import sys\n",
    "sys.path.append(\"..\")\n",
    "\n",
    "# CAMBIAR POR PARÁMETROS AWS\n",
    "\n",
    "db_user = os.environ.get(\"MONGO_DB_USER\")\n",
    "db_pass = os.environ.get(\"MONGO_DB_PASS\")\n",
    "db_host = os.environ.get(\"MONGO_HOST\")\n",
    "database = os.environ.get(\"MONGO_DB_NAME\")\n",
    "mongodb_options = os.environ.get(\"MONGO_OPTIONS\")\n",
    "\n",
    "from src.support.data_load import MongoDBHandler"
   ]
  },
  {
   "cell_type": "code",
   "execution_count": 75,
   "metadata": {},
   "outputs": [
    {
     "name": "stdout",
     "output_type": "stream",
     "text": [
      "Pinged your deployment. You successfully connected to MongoDB!\n"
     ]
    }
   ],
   "source": [
    "db_handle = MongoDBHandler(db_user=db_user, db_pass=db_pass, host=db_host, options=mongodb_options)\n",
    "\n",
    "db_handle.connect_to_database(database)"
   ]
  },
  {
   "cell_type": "code",
   "execution_count": 76,
   "metadata": {},
   "outputs": [
    {
     "name": "stdout",
     "output_type": "stream",
     "text": [
      "Collection existent\n"
     ]
    }
   ],
   "source": [
    "collection = db_handle.check_create_collection(\"trades\")"
   ]
  },
  {
   "cell_type": "markdown",
   "metadata": {},
   "source": [
    "### Encontrar información en MongoDB"
   ]
  },
  {
   "cell_type": "markdown",
   "metadata": {},
   "source": [
    "De la colección, encontrar todo"
   ]
  },
  {
   "cell_type": "code",
   "execution_count": 122,
   "metadata": {},
   "outputs": [
    {
     "name": "stdout",
     "output_type": "stream",
     "text": [
      "Hay 0 órdenes en la colección:\n",
      "[]\n"
     ]
    }
   ],
   "source": [
    "collection.find()\n",
    "\n",
    "# para convertir el cursor en información valiosa para nosotros podemos convertirlo a lista, como vemos a continuación\n",
    "resultado_find_list = list(collection.find())\n",
    "print(f\"Hay {len(resultado_find_list)} órdenes en la colección:\")\n",
    "print(resultado_find_list[:2])"
   ]
  },
  {
   "cell_type": "markdown",
   "metadata": {},
   "source": [
    "Meter información de una orden"
   ]
  },
  {
   "cell_type": "code",
   "execution_count": 123,
   "metadata": {},
   "outputs": [],
   "source": [
    "# order_id, order_date, planned_close_date, status, intent_price, notional_amount, fulfilled_date, position_id, fulfilled_price, currency.\n",
    "\n",
    "mock_order = [{\"content\": {\n",
    "    \"alpaca_order_id\": \"order_12345\",\n",
    "    \"order_date\": \"2025-01-18T20:00:00tz...\",\n",
    "    \"alpaca_account_id\": \"account_12345\",\n",
    "    \"planned_close_date\": \"2025-01-25T20:00:00tz...\",\n",
    "    \"status\": \"PENDING\",\n",
    "    \"intent_price\": \"10\",\n",
    "    \"notional_amount\": \"100\",\n",
    "    \"fulfilled_date\": None,\n",
    "    \"position_id\": None,\n",
    "    \"fulfilled_price\": None,\n",
    "    \"currency\": \"USD\"\n",
    "}}]"
   ]
  },
  {
   "cell_type": "code",
   "execution_count": 124,
   "metadata": {},
   "outputs": [
    {
     "data": {
      "text/plain": [
       "InsertManyResult([ObjectId('67a6131126a7af951a0bf025')], acknowledged=True)"
      ]
     },
     "execution_count": 124,
     "metadata": {},
     "output_type": "execute_result"
    }
   ],
   "source": [
    "db_handle.insert_documents(collection_name=\"trades\", documents=mock_order)"
   ]
  },
  {
   "cell_type": "markdown",
   "metadata": {},
   "source": [
    "## Gestionar órdenes de la estrategia"
   ]
  },
  {
   "cell_type": "markdown",
   "metadata": {},
   "source": [
    "1. **Crear orden**: Crearla en alpaca y registrarla en mongoDB.\n",
    "2. **Actualizar estado de órdenes**: Comprobar estado en Alpaca y si es distinto actualizar en MongoDB.\n",
    "3. **Cerrar órdenes**: Comprobar en MongoDB, cerrarlas en Alpaca, comprobar que el cierre ha sido exitoso y actualizar en MongoDB. Hacer la función de comprobación y cierre flexible y atómica en cuanto a input para poder reutilizarla a modo de demo sin que sea diario por la noche. "
   ]
  },
  {
   "cell_type": "code",
   "execution_count": 125,
   "metadata": {},
   "outputs": [
    {
     "data": {
      "text/plain": [
       "{'id': 'ccfc806b-8340-4881-aed5-e76482ac2293',\n",
       " 'client_order_id': 'ddd938b9-e18f-489e-a077-28195fea5c9c',\n",
       " 'created_at': '2025-02-07T14:05:03.40040977Z',\n",
       " 'updated_at': '2025-02-07T14:05:03.40284877Z',\n",
       " 'submitted_at': '2025-02-07T14:05:03.40040977Z',\n",
       " 'filled_at': None,\n",
       " 'expired_at': None,\n",
       " 'canceled_at': None,\n",
       " 'failed_at': None,\n",
       " 'replaced_at': None,\n",
       " 'replaced_by': None,\n",
       " 'replaces': None,\n",
       " 'asset_id': 'b6d1aa75-5c9c-4353-a305-9e2caa1925ab',\n",
       " 'symbol': 'MSFT',\n",
       " 'asset_class': 'us_equity',\n",
       " 'notional': '100',\n",
       " 'qty': None,\n",
       " 'filled_qty': '0',\n",
       " 'filled_avg_price': None,\n",
       " 'order_class': 'simple',\n",
       " 'order_type': 'market',\n",
       " 'type': 'market',\n",
       " 'side': 'buy',\n",
       " 'position_intent': 'buy_to_open',\n",
       " 'time_in_force': 'day',\n",
       " 'limit_price': None,\n",
       " 'stop_price': None,\n",
       " 'status': 'accepted',\n",
       " 'extended_hours': False,\n",
       " 'legs': None,\n",
       " 'trail_percent': None,\n",
       " 'trail_price': None,\n",
       " 'hwm': None,\n",
       " 'commission': '0',\n",
       " 'commission_type': 'notional',\n",
       " 'subtag': None,\n",
       " 'source': None,\n",
       " 'expires_at': '2025-02-07T21:00:00Z'}"
      ]
     },
     "execution_count": 125,
     "metadata": {},
     "output_type": "execute_result"
    }
   ],
   "source": [
    "order_created_response"
   ]
  },
  {
   "cell_type": "markdown",
   "metadata": {},
   "source": [
    "1 - Crear y registrar orden"
   ]
  },
  {
   "cell_type": "code",
   "execution_count": null,
   "metadata": {},
   "outputs": [
    {
     "name": "stdout",
     "output_type": "stream",
     "text": [
      "2025-01-24 00:10:06.272064+00:00\n"
     ]
    }
   ],
   "source": [
    "from dateutil import parser\n",
    "\n",
    "# Example string\n",
    "date_string = '2025-01-23T12:10:06.272064904Z'\n",
    "\n",
    "# Parse the string\n",
    "parsed_date = parser.isoparse(date_string)\n",
    "print(parsed_date)"
   ]
  },
  {
   "cell_type": "code",
   "execution_count": 81,
   "metadata": {},
   "outputs": [],
   "source": [
    "def create_and_register_order(account_id: str,\n",
    "                                symbol: str,\n",
    "                                notional_amount: Union[str, float],\n",
    "                                intent_open_price: float,\n",
    "                                position_intent: str,\n",
    "                                closure_date: datetime,\n",
    "                                tp_sl: Dict,\n",
    "                                # **argumentos_adicionales\n",
    "                                ):\n",
    "    \n",
    "    order_response = create_order_for_client(account_id=account_id, symbol=symbol, notional=notional_amount, position_intent=position_intent) #, **argumentos_adicionales) # Could need additional parameters\n",
    "\n",
    "    if order_response.get(\"id\",None) == None:\n",
    "        print(f\"Order could not be placed due to {order_response.get('message', '_missing message_')}:\")\n",
    "        print(order_response)\n",
    "\n",
    "    order_mongodb_record = [{\"content\": {\n",
    "        \"alpaca_order_id_open\": order_response[\"id\"],\n",
    "        \"alpaca_order_id_close\": None,\n",
    "        \"TP_SL\": tp_sl,\n",
    "        \"alpaca_account_id\": account_id,\n",
    "        \"asset_id\": order_response[\"asset_id\"],\n",
    "        \"order_creation_date\": parser.isoparse(order_response[\"created_at\"]),\n",
    "        \"planned_close_date\": closure_date,\n",
    "        \"planned_tp_sl_change_date\": parser.isoparse(order_response[\"created_at\"]) + pd.DateOffset(hours=12),\n",
    "        \"symbol\": symbol,\n",
    "        \"position_intent\": position_intent,\n",
    "        \"status_open\": \"PENDING\",\n",
    "        \"status_close\": None,\n",
    "        \"outcome\": None,\n",
    "        \"intent_open_price\": intent_open_price,\n",
    "        \"notional_amount\": notional_amount,\n",
    "        \"qty\": None,\n",
    "        \"fulfilled_open_date\": None,\n",
    "        \"fulfilled_open_price\": None,\n",
    "        \"fulfilled_close_date\": None,\n",
    "        \"fulfilled_close_price\": None,\n",
    "        \"pct_profit_trade\": None,\n",
    "        \"currency\": \"USD\"\n",
    "    }}]\n",
    "\n",
    "    insertion_result = db_handle.insert_documents(collection_name=\"trades\", documents=order_mongodb_record)\n",
    "\n",
    "    if insertion_result.inserted_ids:\n",
    "        print(\"Document inserted successfully with _id:\", insertion_result.inserted_ids)\n",
    "    else:\n",
    "        print(\"Insertion failed.\")\n",
    "    \n",
    "    return insertion_result.inserted_ids, order_mongodb_record[0]"
   ]
  },
  {
   "cell_type": "code",
   "execution_count": 128,
   "metadata": {},
   "outputs": [
    {
     "data": {
      "text/plain": [
       "{'client_1': 'dcfbefb1-cbaa-4e60-9cef-9db801b8eb13',\n",
       " 'client_2': 'edafa6db-b501-4d69-95c8-b92793a3680c',\n",
       " 'client_3': 'b4363824-8773-4f6f-96d3-e24c1e80e208'}"
      ]
     },
     "execution_count": 128,
     "metadata": {},
     "output_type": "execute_result"
    }
   ],
   "source": [
    "clients_account_id"
   ]
  },
  {
   "cell_type": "markdown",
   "metadata": {},
   "source": [
    "- NOTA IMPORTANTE: habría que ajustar bien la asignación de fecha-hora de cierre. Lo ideal para este caso es cuando el precio no se mueva. Tener función de comprobación del cierre de mercado (a lo mejor es un detalle de next steps.)"
   ]
  },
  {
   "cell_type": "code",
   "execution_count": 87,
   "metadata": {},
   "outputs": [
    {
     "ename": "NameError",
     "evalue": "name 'order_response' is not defined",
     "output_type": "error",
     "traceback": [
      "\u001b[0;31m---------------------------------------------------------------------------\u001b[0m",
      "\u001b[0;31mNameError\u001b[0m                                 Traceback (most recent call last)",
      "Cell \u001b[0;32mIn[87], line 4\u001b[0m\n\u001b[1;32m      1\u001b[0m closure_date\u001b[38;5;241m=\u001b[39m(datetime\u001b[38;5;241m.\u001b[39mtoday() \u001b[38;5;241m+\u001b[39m timedelta(days\u001b[38;5;241m=\u001b[39m\u001b[38;5;241m7\u001b[39m))\u001b[38;5;241m.\u001b[39mreplace(tzinfo\u001b[38;5;241m=\u001b[39mtimezone\u001b[38;5;241m.\u001b[39mutc)\n\u001b[1;32m      2\u001b[0m closure_date\u001b[38;5;241m.\u001b[39mdate()\n\u001b[0;32m----> 4\u001b[0m parser\u001b[38;5;241m.\u001b[39misoparse(\u001b[43morder_response\u001b[49m[\u001b[38;5;124m\"\u001b[39m\u001b[38;5;124mcreated_at\u001b[39m\u001b[38;5;124m\"\u001b[39m])\n",
      "\u001b[0;31mNameError\u001b[0m: name 'order_response' is not defined"
     ]
    }
   ],
   "source": [
    "closure_date=(datetime.today() + timedelta(days=7)).replace(tzinfo=timezone.utc)\n",
    "closure_date.date()\n",
    "\n",
    "parser.isoparse(order_response[\"created_at\"])"
   ]
  },
  {
   "cell_type": "code",
   "execution_count": 83,
   "metadata": {},
   "outputs": [
    {
     "data": {
      "text/plain": [
       "datetime.datetime(2025, 2, 14, 17, 26, 32, 931950, tzinfo=datetime.timezone.utc)"
      ]
     },
     "execution_count": 83,
     "metadata": {},
     "output_type": "execute_result"
    }
   ],
   "source": [
    "closure_date"
   ]
  },
  {
   "cell_type": "code",
   "execution_count": 130,
   "metadata": {},
   "outputs": [
    {
     "name": "stdout",
     "output_type": "stream",
     "text": [
      "Succesfully placed order 2b2092aa-c2db-4d57-802d-216ff95570de for buy_to_open of the symbol AAPL. See details in response.\n",
      "Document inserted successfully with _id: [ObjectId('67a6131226a7af951a0bf026')]\n"
     ]
    }
   ],
   "source": [
    "inserted_id, order_mongodb_record = create_and_register_order(clients_account_id[\"client_1\"], \n",
    "                                                              symbol=\"AAPL\", \n",
    "                                                              notional_amount=\"300\", \n",
    "                                                              intent_open_price=\"223.83\",\n",
    "                                                              position_intent=\"buy_to_open\",\n",
    "                                                              closure_date=closure_date)"
   ]
  },
  {
   "cell_type": "markdown",
   "metadata": {},
   "source": [
    "### Update order status and info in MongoDB"
   ]
  },
  {
   "cell_type": "markdown",
   "metadata": {},
   "source": [
    "1.1 - Consultar orden por id de Alpaca"
   ]
  },
  {
   "cell_type": "code",
   "execution_count": 49,
   "metadata": {},
   "outputs": [
    {
     "ename": "NameError",
     "evalue": "name 'collection' is not defined",
     "output_type": "error",
     "traceback": [
      "\u001b[0;31m---------------------------------------------------------------------------\u001b[0m",
      "\u001b[0;31mNameError\u001b[0m                                 Traceback (most recent call last)",
      "Cell \u001b[0;32mIn[49], line 3\u001b[0m\n\u001b[1;32m      1\u001b[0m \u001b[38;5;66;03m# These 2 are quivalent:\u001b[39;00m\n\u001b[1;32m      2\u001b[0m \u001b[38;5;66;03m# first mode\u001b[39;00m\n\u001b[0;32m----> 3\u001b[0m \u001b[43mcollection\u001b[49m\u001b[38;5;241m.\u001b[39mfind_one({\u001b[38;5;124m'\u001b[39m\u001b[38;5;124mcontent.alpaca_order_id_open\u001b[39m\u001b[38;5;124m'\u001b[39m: order_mongodb_record[\u001b[38;5;124m\"\u001b[39m\u001b[38;5;124mcontent\u001b[39m\u001b[38;5;124m\"\u001b[39m][\u001b[38;5;124m\"\u001b[39m\u001b[38;5;124malpaca_order_id_open\u001b[39m\u001b[38;5;124m\"\u001b[39m]})\n\u001b[1;32m      5\u001b[0m \u001b[38;5;66;03m# explicit mode\u001b[39;00m\n\u001b[1;32m      6\u001b[0m collection\u001b[38;5;241m.\u001b[39mfind_one({\u001b[38;5;124m'\u001b[39m\u001b[38;5;124mcontent.alpaca_order_id_open\u001b[39m\u001b[38;5;124m'\u001b[39m: {\u001b[38;5;124m\"\u001b[39m\u001b[38;5;124m$eq\u001b[39m\u001b[38;5;124m\"\u001b[39m:order_mongodb_record[\u001b[38;5;124m\"\u001b[39m\u001b[38;5;124mcontent\u001b[39m\u001b[38;5;124m\"\u001b[39m][\u001b[38;5;124m\"\u001b[39m\u001b[38;5;124malpaca_order_id_open\u001b[39m\u001b[38;5;124m\"\u001b[39m]}})\n",
      "\u001b[0;31mNameError\u001b[0m: name 'collection' is not defined"
     ]
    }
   ],
   "source": [
    "# These 2 are quivalent:\n",
    "# first mode\n",
    "collection.find_one({'content.alpaca_order_id_open': order_mongodb_record[\"content\"][\"alpaca_order_id_open\"]})\n",
    "\n",
    "# explicit mode\n",
    "collection.find_one({'content.alpaca_order_id_open': {\"$eq\":order_mongodb_record[\"content\"][\"alpaca_order_id_open\"]}})\n",
    "\n",
    "# # By MongoDB objectID it would be\n",
    "# list(collection.find({'_id':ObjectId(inserted_id)}))"
   ]
  },
  {
   "cell_type": "markdown",
   "metadata": {},
   "source": [
    "2 - Actualizar estado de la orden\n"
   ]
  },
  {
   "cell_type": "code",
   "execution_count": 132,
   "metadata": {},
   "outputs": [],
   "source": [
    "def update_order_field(direction:str, # this specifices which alpaca_order_id to use for update\n",
    "                       alpaca_order_id: str, field_to_update: str, new_field_value: str):\n",
    "    # update status\n",
    "    db_handle.db[\"trades\"].update_one(\n",
    "        {f'content.alpaca_order_id_{direction}': alpaca_order_id}, # Filter\n",
    "        {\"$set\": {f'content.{field_to_update}': new_field_value}}  # Update\n",
    "    )"
   ]
  },
  {
   "cell_type": "markdown",
   "metadata": {},
   "source": [
    "\n",
    "2.1 - Chequear orden en mongo: Lista de órdenes en PENDING"
   ]
  },
  {
   "cell_type": "code",
   "execution_count": 133,
   "metadata": {},
   "outputs": [
    {
     "data": {
      "text/plain": [
       "[{'_id': ObjectId('67a6131226a7af951a0bf026'),\n",
       "  'content': {'alpaca_order_id_open': '2b2092aa-c2db-4d57-802d-216ff95570de',\n",
       "   'alpaca_order_id_close': None,\n",
       "   'alpaca_account_id': 'dcfbefb1-cbaa-4e60-9cef-9db801b8eb13',\n",
       "   'asset_id': 'b0b6dd9d-8b9b-48a9-ba46-b9d54906e415',\n",
       "   'order_creation_date': datetime.datetime(2025, 2, 7, 14, 5, 6, 575000),\n",
       "   'planned_close_date': datetime.datetime(2025, 2, 14, 15, 5, 5, 955000),\n",
       "   'symbol': 'AAPL',\n",
       "   'position_intent': 'buy_to_open',\n",
       "   'status_open': 'PENDING',\n",
       "   'status_close': None,\n",
       "   'intent_open_price': '223.83',\n",
       "   'notional_amount': '300',\n",
       "   'qty': None,\n",
       "   'fulfilled_open_date': None,\n",
       "   'fulfilled_open_price': None,\n",
       "   'fulfilled_close_date': None,\n",
       "   'fulfilled_close_price': None,\n",
       "   'pct_profit_trade': None,\n",
       "   'currency': 'USD'}}]"
      ]
     },
     "execution_count": 133,
     "metadata": {},
     "output_type": "execute_result"
    }
   ],
   "source": [
    "pending_orders = list(collection.find({'content.status_open':'PENDING'}))\n",
    "pending_orders"
   ]
  },
  {
   "cell_type": "markdown",
   "metadata": {},
   "source": [
    "2.2 - Actualizar ordenes pending por id"
   ]
  },
  {
   "cell_type": "code",
   "execution_count": 134,
   "metadata": {},
   "outputs": [],
   "source": [
    "def refresh_pending_status_open(account_id, alpaca_order_id):\n",
    "\n",
    "    # get order info from alpaca\n",
    "    order_in_alpaca = get_order_by_id(account_id, alpaca_order_id)\n",
    "    \n",
    "    # update status field\n",
    "    update_order_field(order_in_alpaca[\"id\"], \"status_open\", order_in_alpaca[\"status\"])\n",
    "\n",
    "    # if filled, update price, date and quantity\n",
    "    if order_in_alpaca[\"status\"] == \"filled\":\n",
    "        # update filled_price\n",
    "        update_order_field(direction=\"open\", \n",
    "                            alpaca_order_id=order_in_alpaca[\"id\"], \n",
    "                            field_to_update=\"fulfilled_open_price\", \n",
    "                            new_field_value=order_in_alpaca[\"filled_avg_price\"])\n",
    "        # update filled_date\n",
    "        update_order_field(direction=\"open\", \n",
    "                            alpaca_order_id=order_in_alpaca[\"id\"], \n",
    "                            field_to_update=\"fulfilled_open_date\", \n",
    "                            new_field_value=order_in_alpaca[\"filled_at\"])\n",
    "        # update qty\n",
    "        update_order_field(direction=\"open\", \n",
    "                            alpaca_order_id=order_in_alpaca[\"id\"], \n",
    "                            field_to_update=\"qty\", \n",
    "                            new_field_value=order_in_alpaca[\"filled_qty\"])"
   ]
  },
  {
   "cell_type": "code",
   "execution_count": 79,
   "metadata": {},
   "outputs": [
    {
     "data": {
      "text/plain": [
       "datetime.datetime(2025, 2, 14, 17, 26, 32, 931950, tzinfo=datetime.timezone.utc)"
      ]
     },
     "execution_count": 79,
     "metadata": {},
     "output_type": "execute_result"
    }
   ],
   "source": [
    "closure_date"
   ]
  },
  {
   "cell_type": "code",
   "execution_count": 90,
   "metadata": {},
   "outputs": [
    {
     "data": {
      "text/plain": [
       "datetime.datetime(2024, 1, 1, 0, 0)"
      ]
     },
     "execution_count": 90,
     "metadata": {},
     "output_type": "execute_result"
    }
   ],
   "source": [
    "parser.isoparse(\"2024-01-01\")"
   ]
  },
  {
   "cell_type": "code",
   "execution_count": 116,
   "metadata": {},
   "outputs": [
    {
     "name": "stdout",
     "output_type": "stream",
     "text": [
      "Succesfully placed order 59cc8618-f204-4c10-b18f-769bebcd4030 for buy_to_open of the symbol AAPL. See details in response.\n",
      "Document inserted successfully with _id: [ObjectId('67a63d8a1251622c825de7e6')]\n"
     ]
    }
   ],
   "source": [
    "tp_n_sl_1 = closure_date + pd.DateOffset(hours=12)\n",
    "tp_n_sl_2 = closure_date + pd.DateOffset(hours=36)\n",
    "tp_n_sl_3 = closure_date + pd.DateOffset(hours=60)\n",
    "tp_n_sl_4 = closure_date + pd.DateOffset(hours=84)\n",
    "tp_n_sl_5 = closure_date + pd.DateOffset(hours=108)\n",
    "date_format = \"%Y-%m-%dT%H:%M:%S\"\n",
    "\n",
    "\n",
    "inserted_id, order_mongodb_record = create_and_register_order(clients_account_id[\"client_1\"], \n",
    "                                                              symbol=\"AAPL\", \n",
    "                                                              notional_amount=\"1\", \n",
    "                                                              intent_open_price=\"223.83\",\n",
    "                                                              position_intent=\"buy_to_open\",\n",
    "                                                              closure_date=closure_date,\n",
    "                                                              tp_sl= {\n",
    "                                                                  \"TP\": {tp_n_sl_1.strftime(date_format): (\"223.83\", None),\n",
    "                                                                         tp_n_sl_2.strftime(date_format): (\"224.83\", None),\n",
    "                                                                         tp_n_sl_3.strftime(date_format): (\"225.83\", None),\n",
    "                                                                         tp_n_sl_4.strftime(date_format): (\"226.83\", None),\n",
    "                                                                         tp_n_sl_5.strftime(date_format): (\"227.83\", None)},\n",
    "                                                                  \"SL\": {tp_n_sl_1.strftime(date_format): (\"222.83\", None),\n",
    "                                                                         tp_n_sl_2.strftime(date_format): (\"221.83\", None),\n",
    "                                                                         tp_n_sl_3.strftime(date_format): (\"220.83\", None),\n",
    "                                                                         tp_n_sl_4.strftime(date_format): (\"219.83\", None),\n",
    "                                                                         tp_n_sl_5.strftime(date_format): (\"218.83\", None)}\n",
    "                                                              })"
   ]
  },
  {
   "cell_type": "markdown",
   "metadata": {},
   "source": [
    "Now, lets go through the workflow to post the first TP and the subsequent."
   ]
  },
  {
   "cell_type": "code",
   "execution_count": 118,
   "metadata": {},
   "outputs": [
    {
     "data": {
      "text/plain": [
       "{'_id': ObjectId('67a63d8a1251622c825de7e6'),\n",
       " 'content': {'alpaca_order_id_open': '59cc8618-f204-4c10-b18f-769bebcd4030',\n",
       "  'alpaca_order_id_close': None,\n",
       "  'TP_SL': {'TP': {'2025-02-15T05:37:19': ['223.83', None],\n",
       "    '2025-02-16T05:37:19': ['224.83', None],\n",
       "    '2025-02-17T05:37:19': ['225.83', None],\n",
       "    '2025-02-18T05:37:19': ['226.83', None],\n",
       "    '2025-02-19T05:37:19': ['227.83', None]},\n",
       "   'SL': {'2025-02-15T05:37:19': ['222.83', None],\n",
       "    '2025-02-16T05:37:19': ['221.83', None],\n",
       "    '2025-02-17T05:37:19': ['220.83', None],\n",
       "    '2025-02-18T05:37:19': ['219.83', None],\n",
       "    '2025-02-19T05:37:19': ['218.83', None]}},\n",
       "  'alpaca_account_id': 'b5284860-b133-458b-8140-8fb5e59d8439',\n",
       "  'asset_id': 'b0b6dd9d-8b9b-48a9-ba46-b9d54906e415',\n",
       "  'order_creation_date': datetime.datetime(2025, 2, 7, 17, 6, 18, 142000),\n",
       "  'planned_close_date': datetime.datetime(2025, 2, 14, 17, 37, 19, 967000),\n",
       "  'planned_tp_sl_change_date': datetime.datetime(2025, 2, 8, 5, 6, 18, 142000),\n",
       "  'symbol': 'AAPL',\n",
       "  'position_intent': 'buy_to_open',\n",
       "  'status_open': 'PENDING',\n",
       "  'status_close': None,\n",
       "  'outcome': None,\n",
       "  'intent_open_price': '223.83',\n",
       "  'notional_amount': '1',\n",
       "  'qty': None,\n",
       "  'fulfilled_open_date': None,\n",
       "  'fulfilled_open_price': None,\n",
       "  'fulfilled_close_date': None,\n",
       "  'fulfilled_close_price': None,\n",
       "  'pct_profit_trade': None,\n",
       "  'currency': 'USD'}}"
      ]
     },
     "execution_count": 118,
     "metadata": {},
     "output_type": "execute_result"
    }
   ],
   "source": [
    "order_mongodb_record = db_handle.db[\"trades\"].find_one({'content.alpaca_order_id_open': {\"$eq\":\"59cc8618-f204-4c10-b18f-769bebcd4030\"}}) \n",
    "order_mongodb_record"
   ]
  },
  {
   "cell_type": "code",
   "execution_count": 102,
   "metadata": {},
   "outputs": [
    {
     "data": {
      "text/plain": [
       "datetime.datetime(2024, 1, 1, 0, 0)"
      ]
     },
     "execution_count": 102,
     "metadata": {},
     "output_type": "execute_result"
    }
   ],
   "source": [
    "parser.isoparse(\"2024-01-01\")"
   ]
  },
  {
   "cell_type": "code",
   "execution_count": null,
   "metadata": {},
   "outputs": [
    {
     "data": {
      "text/plain": [
       "(datetime.datetime(2025, 2, 15, 5, 37, 19), '223.83')"
      ]
     },
     "execution_count": 114,
     "metadata": {},
     "output_type": "execute_result"
    }
   ],
   "source": [
    "# [(parser.isoparse(date), tp) for date, tp in order_mongodb_record[\"content\"][\"TP_SL\"][\"TP\"].items() if parser.isoparse(date) <= datetime.now()]\n",
    "\n",
    "datetime_now = datetime(2025,2,16)\n",
    "date_price_tuple_list_tp = [(parser.isoparse(date), tp) for date, tp in order_mongodb_record[\"content\"][\"TP_SL\"][\"TP\"].items() if parser.isoparse(date) <= datetime_now]"
   ]
  },
  {
   "cell_type": "code",
   "execution_count": null,
   "metadata": {},
   "outputs": [],
   "source": []
  },
  {
   "cell_type": "code",
   "execution_count": null,
   "metadata": {},
   "outputs": [],
   "source": []
  },
  {
   "cell_type": "code",
   "execution_count": null,
   "metadata": {},
   "outputs": [],
   "source": [
    "def refresh_pending_status(direction:str,account_id, alpaca_order_id):\n",
    "\n",
    "    # get order info from alpaca\n",
    "    order_in_alpaca = get_order_by_id(account_id, alpaca_order_id)\n",
    "    \n",
    "    # update status field\n",
    "    update_order_field(direction=direction,\n",
    "                       alpaca_order_id=order_in_alpaca[\"id\"], \n",
    "                       field_to_update=f\"status_{direction}\", \n",
    "                       new_field_value=order_in_alpaca[\"status\"])\n",
    "\n",
    "    # if filled, update price, date and quantity\n",
    "    if order_in_alpaca[\"status\"] == \"filled\":\n",
    "        # update filled_price\n",
    "        update_order_field(direction = direction, \n",
    "                            alpaca_order_id = order_in_alpaca[\"id\"], \n",
    "                            field_to_update = f\"fulfilled_{direction}_price\", \n",
    "                            new_field_value = order_in_alpaca[\"filled_avg_price\"])\n",
    "        # update filled_date\n",
    "        update_order_field(direction = direction, \n",
    "                            alpaca_order_id = order_in_alpaca[\"id\"], \n",
    "                            field_to_update = f\"fulfilled_{direction}_date\", \n",
    "                            new_field_value = order_in_alpaca[\"filled_at\"])\n",
    "        \n",
    "        if direction == \"open\":\n",
    "            # update qty\n",
    "            update_order_field(direction = direction, \n",
    "                                alpaca_order_id = order_in_alpaca[\"id\"], \n",
    "                                field_to_update =\"qty\", \n",
    "                                new_field_value = order_in_alpaca[\"filled_qty\"])\n",
    "            \n",
    "            # set_tp_n_sl()\n",
    "\n",
    "        else: # close\n",
    "            # update pct_profit\n",
    "            filled_open_price = float(db_handle.db[\"trades\"].find_one({f'content.alpaca_order_id_close': alpaca_order_id})[\"content\"][\"fulfilled_open_price\"])\n",
    "            filled_closed_price = float(order_in_alpaca[\"filled_avg_price\"])\n",
    "            pct_profit_trade = filled_closed_price / filled_open_price - 1\n",
    "            \n",
    "            update_order_field(direction = direction, \n",
    "                                alpaca_order_id = order_in_alpaca[\"id\"], \n",
    "                                field_to_update = \"pct_profit_trade\", \n",
    "                                new_field_value = pct_profit_trade)"
   ]
  },
  {
   "cell_type": "markdown",
   "metadata": {},
   "source": [
    "2.3 Pasar ids de funciones pending a la función de actualizar status pending"
   ]
  },
  {
   "cell_type": "code",
   "execution_count": 136,
   "metadata": {},
   "outputs": [],
   "source": [
    "def refresh_pending_statuses_open(account_id):\n",
    "    \n",
    "    pending_orders_mongodb = list(collection.find({'content.status_open':'PENDING'}))\n",
    "\n",
    "    for order in pending_orders_mongodb:\n",
    "        order = order[\"content\"]\n",
    "        refresh_pending_status_open(account_id, order[\"alpaca_order_id_open\"])"
   ]
  },
  {
   "cell_type": "code",
   "execution_count": 137,
   "metadata": {},
   "outputs": [],
   "source": [
    "def refresh_statuses(direction:str, account_id):\n",
    "    \n",
    "    pending_orders_mongodb = list(collection.find({\"$or\": \n",
    "                                                   [{f'content.status_{direction}':'PENDING'},\n",
    "                                                    {f'content.status_{direction}':'accepted'}]}))\n",
    "\n",
    "    for order in pending_orders_mongodb:\n",
    "        order = order[\"content\"]\n",
    "        refresh_pending_status(direction=direction, account_id=account_id, alpaca_order_id=order[f\"alpaca_order_id_{direction}\"])"
   ]
  },
  {
   "cell_type": "markdown",
   "metadata": {},
   "source": [
    "Comprobando:"
   ]
  },
  {
   "cell_type": "code",
   "execution_count": 138,
   "metadata": {},
   "outputs": [
    {
     "name": "stdout",
     "output_type": "stream",
     "text": [
      "{'id': '2b2092aa-c2db-4d57-802d-216ff95570de', 'client_order_id': '65b4583d-293f-42ce-bb33-9eeb75b0f110', 'created_at': '2025-02-07T14:05:06.575218435Z', 'updated_at': '2025-02-07T14:05:06.576262185Z', 'submitted_at': '2025-02-07T14:05:06.575218435Z', 'filled_at': None, 'expired_at': None, 'canceled_at': None, 'failed_at': None, 'replaced_at': None, 'replaced_by': None, 'replaces': None, 'asset_id': 'b0b6dd9d-8b9b-48a9-ba46-b9d54906e415', 'symbol': 'AAPL', 'asset_class': 'us_equity', 'notional': '300', 'qty': None, 'filled_qty': '0', 'filled_avg_price': None, 'order_class': 'simple', 'order_type': 'market', 'type': 'market', 'side': 'buy', 'position_intent': 'buy_to_open', 'time_in_force': 'day', 'limit_price': None, 'stop_price': None, 'status': 'accepted', 'extended_hours': False, 'legs': None, 'trail_percent': None, 'trail_price': None, 'hwm': None, 'commission': '0', 'commission_type': 'notional', 'subtag': None, 'source': None, 'expires_at': '2025-02-07T21:00:00Z'}\n"
     ]
    }
   ],
   "source": [
    "refresh_statuses(direction=\"open\", account_id=clients_account_id[\"client_1\"])"
   ]
  },
  {
   "cell_type": "code",
   "execution_count": 139,
   "metadata": {},
   "outputs": [],
   "source": [
    "# refresh_pending_statuses_open(clients_account_id[\"client_1\"])"
   ]
  },
  {
   "cell_type": "markdown",
   "metadata": {},
   "source": [
    "3. **Cerrar órdenes**: Comprobar en MongoDB, cerrarlas en Alpaca, comprobar que el cierre ha sido exitoso y actualizar en MongoDB. Hacer la función de comprobación y cierre flexible y atómica en cuanto a input para poder reutilizarla a modo de demo sin que sea diario por la noche. "
   ]
  },
  {
   "cell_type": "markdown",
   "metadata": {},
   "source": [
    "1 - Comprobar en Mongo qué órdenes o posiciones se deben cerrar (habría que ajustar bien la asignación de fecha-hora de cierre)"
   ]
  },
  {
   "cell_type": "code",
   "execution_count": null,
   "metadata": {},
   "outputs": [],
   "source": [
    "closing_datetime = datetime(2025, 1, 30)\n",
    "# Comprobar qué órdenes coinciden ya han pasado esa fecha y siguen abiertas\n",
    "def check_open_due_orders(closing_datetime: datetime):\n",
    "    due_order_list_mongodb = list(db_handle.db[\"trades\"].find(\n",
    "                {\"$and\":\n",
    "                [{'content.planned_close_date': {\"$lte\": closing_datetime}}, # After closing time filter\n",
    "                {'content.status_open': 'filled'}\n",
    "                ]}))\n",
    "    \n",
    "    due_order_list_mongodb = [due_order[\"content\"] for due_order in due_order_list_mongodb]\n",
    "    \n",
    "    return due_order_list_mongodb\n",
    "\n",
    "def check_open_due_orders_today():\n",
    "    due_order_list_mongodb = check_open_due_orders(closing_datetime = datetime.today())\n",
    "\n",
    "    return due_order_list_mongodb"
   ]
  },
  {
   "cell_type": "markdown",
   "metadata": {},
   "source": [
    "2.1 - Update status closed in database and close qty of position equal to quantity of closing order"
   ]
  },
  {
   "cell_type": "code",
   "execution_count": 141,
   "metadata": {},
   "outputs": [
    {
     "data": {
      "text/plain": [
       "datetime.date(2025, 2, 7)"
      ]
     },
     "execution_count": 141,
     "metadata": {},
     "output_type": "execute_result"
    }
   ],
   "source": [
    "datetime.today().date()"
   ]
  },
  {
   "cell_type": "code",
   "execution_count": 147,
   "metadata": {},
   "outputs": [],
   "source": [
    "mongodb_order_dict = db_handle.db[\"trades\"].find_one({\"content.alpaca_order_id_open\": \"2b2092aa-c2db-4d57-802d-216ff95570de\"})\n",
    "mongodb_order_dict = mongodb_order_dict[\"content\"]"
   ]
  },
  {
   "cell_type": "code",
   "execution_count": 144,
   "metadata": {},
   "outputs": [],
   "source": [
    "# response_close = close_symbol_position_client(account_id=mongodb_order_dict[\"alpaca_account_id\"],\n",
    "#                                  symbol=mongodb_order_dict[\"symbol\"], \n",
    "#                                  magnitude=mongodb_order_dict[\"qty\"], \n",
    "#                                  mode = \"qty\")"
   ]
  },
  {
   "cell_type": "code",
   "execution_count": 145,
   "metadata": {},
   "outputs": [
    {
     "ename": "TypeError",
     "evalue": "'NoneType' object is not subscriptable",
     "output_type": "error",
     "traceback": [
      "\u001b[0;31m---------------------------------------------------------------------------\u001b[0m",
      "\u001b[0;31mTypeError\u001b[0m                                 Traceback (most recent call last)",
      "Cell \u001b[0;32mIn[145], line 1\u001b[0m\n\u001b[0;32m----> 1\u001b[0m get_order_by_id(\u001b[43mmongodb_order_dict\u001b[49m\u001b[43m[\u001b[49m\u001b[38;5;124;43m\"\u001b[39;49m\u001b[38;5;124;43malpaca_account_id\u001b[39;49m\u001b[38;5;124;43m\"\u001b[39;49m\u001b[43m]\u001b[49m,\u001b[38;5;124m\"\u001b[39m\u001b[38;5;124m1bba1637-3e98-4846-9090-ef556ac6e571\u001b[39m\u001b[38;5;124m\"\u001b[39m)\n",
      "\u001b[0;31mTypeError\u001b[0m: 'NoneType' object is not subscriptable"
     ]
    }
   ],
   "source": [
    "get_order_by_id(mongodb_order_dict[\"alpaca_account_id\"],\"1bba1637-3e98-4846-9090-ef556ac6e571\")"
   ]
  },
  {
   "cell_type": "code",
   "execution_count": null,
   "metadata": {},
   "outputs": [],
   "source": [
    "def close_due_order_position(mongodb_order_dict: dict):\n",
    "    # close qty amount in corresponding asset position\n",
    "    response_close = close_symbol_position_client(account_id=mongodb_order_dict[\"alpaca_account_id\"],\n",
    "                                 symbol=mongodb_order_dict[\"symbol\"], \n",
    "                                 magnitude=mongodb_order_dict[\"qty\"], \n",
    "                                 mode = \"qty\")\n",
    "    \n",
    "    # initialize close order status\n",
    "    update_order_field(direction=\"open\", # IMPORTANT: direction=\"open\" to use alpaca_order_id_open\n",
    "                       alpaca_order_id = mongodb_order_dict[\"alpaca_order_id_open\"],\n",
    "                        field_to_update = \"status_close\", \n",
    "                        new_field_value = \"PENDING\")\n",
    "    \n",
    "    # update alpaca_order_id_close\n",
    "    update_order_field(direction=\"open\", # IMPORTANT: direction=\"open\" to use alpaca_order_id_open\n",
    "                       alpaca_order_id = mongodb_order_dict[\"alpaca_order_id_open\"],\n",
    "                        field_to_update = \"alpaca_order_id_close\", \n",
    "                        new_field_value = response_close[\"id\"])\n",
    "    \n",
    "    return response_close\n",
    "\n",
    "def cancel_open_order_mongodb(account_id, alpaca_order_id):    \n",
    "    cancel_open_order(account_id = account_id,\n",
    "                      order_id = alpaca_order_id)\n",
    "    \n",
    "    # initialize close order status\n",
    "    update_order_field(direction=\"open\", # IMPORTANT: direction=\"open\" to use alpaca_order_id_open\n",
    "                       alpaca_order_id = alpaca_order_id,\n",
    "                        field_to_update = \"status_open\", \n",
    "                        new_field_value = \"cancelled\")\n",
    "    \n",
    "\n",
    "    \n",
    "    "
   ]
  },
  {
   "cell_type": "code",
   "execution_count": null,
   "metadata": {},
   "outputs": [
    {
     "name": "stdout",
     "output_type": "stream",
     "text": [
      "Order '52477caf-d80a-4846-b5ee-ce7337637962' cancelled succesfully.\n"
     ]
    }
   ],
   "source": [
    "cancel_open_order_mongodb(\"dcfbefb1-cbaa-4e60-9cef-9db801b8eb13\", \"52477caf-d80a-4846-b5ee-ce7337637962\")"
   ]
  },
  {
   "cell_type": "code",
   "execution_count": null,
   "metadata": {},
   "outputs": [
    {
     "name": "stdout",
     "output_type": "stream",
     "text": [
      "{'id': '1bba1637-3e98-4846-9090-ef556ac6e571', 'client_order_id': '13e948c8-6f89-410f-a845-bfced31ef990', 'created_at': '2025-01-24T07:56:30.687347177Z', 'updated_at': '2025-01-24T07:56:30.687772617Z', 'submitted_at': '2025-01-24T07:56:30.687347177Z', 'filled_at': None, 'expired_at': None, 'canceled_at': None, 'failed_at': None, 'replaced_at': None, 'replaced_by': None, 'replaces': None, 'asset_id': 'b0b6dd9d-8b9b-48a9-ba46-b9d54906e415', 'symbol': 'AAPL', 'asset_class': 'us_equity', 'notional': None, 'qty': '1.338473069', 'filled_qty': '0', 'filled_avg_price': None, 'order_class': '', 'order_type': 'market', 'type': 'market', 'side': 'sell', 'position_intent': 'sell_to_close', 'time_in_force': 'day', 'limit_price': None, 'stop_price': None, 'status': 'accepted', 'extended_hours': False, 'legs': None, 'trail_percent': None, 'trail_price': None, 'hwm': None, 'subtag': None, 'source': None, 'expires_at': '2025-01-24T21:00:00Z'}\n"
     ]
    }
   ],
   "source": []
  },
  {
   "cell_type": "markdown",
   "metadata": {},
   "source": [
    "2.2 - Close order"
   ]
  },
  {
   "cell_type": "code",
   "execution_count": null,
   "metadata": {},
   "outputs": [
    {
     "name": "stdout",
     "output_type": "stream",
     "text": [
      "{'id': '1bba1637-3e98-4846-9090-ef556ac6e571', 'client_order_id': '13e948c8-6f89-410f-a845-bfced31ef990', 'created_at': '2025-01-24T07:56:30.687347177Z', 'updated_at': '2025-01-24T07:56:30.687772617Z', 'submitted_at': '2025-01-24T07:56:30.687347177Z', 'filled_at': None, 'expired_at': None, 'canceled_at': None, 'failed_at': None, 'replaced_at': None, 'replaced_by': None, 'replaces': None, 'asset_id': 'b0b6dd9d-8b9b-48a9-ba46-b9d54906e415', 'symbol': 'AAPL', 'asset_class': 'us_equity', 'notional': None, 'qty': '1.338473069', 'filled_qty': '0', 'filled_avg_price': None, 'order_class': '', 'order_type': 'market', 'type': 'market', 'side': 'sell', 'position_intent': 'sell_to_close', 'time_in_force': 'day', 'limit_price': None, 'stop_price': None, 'status': 'accepted', 'extended_hours': False, 'legs': None, 'trail_percent': None, 'trail_price': None, 'hwm': None, 'subtag': None, 'source': None, 'expires_at': '2025-01-24T21:00:00Z'}\n"
     ]
    }
   ],
   "source": [
    "response_close = close_due_order_position(mongodb_order_dict)"
   ]
  },
  {
   "cell_type": "markdown",
   "metadata": {},
   "source": [
    "2.3 - Refresh the state to the database"
   ]
  },
  {
   "cell_type": "code",
   "execution_count": null,
   "metadata": {},
   "outputs": [],
   "source": [
    "refresh_statuses(direction=\"close\", account_id=clients_account_id[\"client_1\"])"
   ]
  },
  {
   "cell_type": "markdown",
   "metadata": {},
   "source": [
    "### Create TP/SL and update them"
   ]
  },
  {
   "cell_type": "markdown",
   "metadata": {},
   "source": [
    "If a trade hits TP, give it outcome \"TP\". IF hits \"SL\", outcome \"SL\". Else \"close\"."
   ]
  },
  {
   "cell_type": "markdown",
   "metadata": {},
   "source": [
    "Opening a trade, will have as many TP and SL as upper and lower bounds will the prediction. Once order is filled, set up orders to close the position at"
   ]
  },
  {
   "cell_type": "code",
   "execution_count": null,
   "metadata": {},
   "outputs": [],
   "source": [
    "def check_open_due_orders(closing_datetime: datetime):\n",
    "    due_order_list_mongodb = list(db_handle.db[\"trades\"].find(\n",
    "                {\"$and\":\n",
    "                [{'content.planned_close_date': {\"$lte\": closing_datetime}}, # After closing time filter\n",
    "                {'content.status_open': 'filled'}\n",
    "                ]}))\n",
    "    \n",
    "    due_order_list_mongodb = [due_order[\"content\"] for due_order in due_order_list_mongodb]\n",
    "    \n",
    "    return due_order_list_mongodb"
   ]
  },
  {
   "cell_type": "code",
   "execution_count": null,
   "metadata": {},
   "outputs": [],
   "source": [
    "from pymongo import MongoClient\n",
    "\n",
    "# Connect to MongoDB\n",
    "client = MongoClient('mongodb://localhost:27017/')\n",
    "db = client['your_database']\n",
    "collection = db['your_collection']\n",
    "\n",
    "# Define the filter to find the document to update\n",
    "filter = {'_id': 12345}  # Use the document's identifier or any filter\n",
    "\n",
    "# Define the update operation\n",
    "update = {\n",
    "    '$set': {'field_name': 'new_value'}  # Specify the fields to update\n",
    "}\n",
    "\n",
    "# Update the document\n",
    "result = collection.update_one(filter, update)\n",
    "\n",
    "# Check the result\n",
    "print(f'Matched: {result.matched_count}, Modified: {result.modified_count}')\n"
   ]
  },
  {
   "cell_type": "code",
   "execution_count": null,
   "metadata": {},
   "outputs": [],
   "source": [
    "def get_tp_sl_date_price_list(tp_sl_dict, tp_sl_choice:str, qty: float, datetime_now: datetime = datetime.now()):\n",
    "    if not tp_sl_choice in [\"TP\",\"SL\"]:\n",
    "        raise ValueError(\"Type of TP/SL not implemented.\")\n",
    "    \n",
    "    date_price_tuple_list_tp = [(parser.isoparse(date), price) for date, (price, order_id) in tp_sl_dict[tp_sl_choice].items() if parser.isoparse(date) <= datetime_now]\n",
    "\n",
    "    latest_price = date_price_tuple_list_tp[0]\n",
    "\n",
    "    inserted_alpaca_id, _ = create_order_for_client(account_id=clients_account_id[\"client_1\"], symbol=\"MSFT\", qty=\"0.05\", side=\"sell\",type=\"limit\", limit_price=latest_price)\n",
    "    \n",
    "    return inserted_alpaca_id, "
   ]
  },
  {
   "cell_type": "code",
   "execution_count": null,
   "metadata": {},
   "outputs": [],
   "source": [
    "def set_tp_n_sl(direction, alpaca_order_id_open, datetime_now: datetime = datetime.now()):\n",
    "\n",
    "    # Get mongo db record info of trade\n",
    "    order_mongodb_record = db_handle.db[\"trades\"].find_one({'content.alpaca_order_id_open': {\"$eq\":alpaca_order_id_open}}) \n",
    "\n",
    "    tp_sl_dict = order_mongodb_record[\"content\"][\"TP_SL\"]\n",
    "    \n",
    "    # Create SL\n",
    "    stop_loss_list = get_tp_sl_date_price_list(tp_sl_dict, tp_sl_choice=\"SL\", datetime_now=datetime_now)\n",
    "    stop_loss_price = stop_loss_list[0]\n",
    "    create_order_for_client(account_id=clients_account_id[\"client_1\"], symbol=\"MSFT\", qty=\"0.05\", side=\"sell\",type=\"limit\", limit_price=stop_loss_price)\n",
    "\n",
    "    # Create TP\n",
    "    stop_loss_list = get_tp_sl_date_price_list(tp_sl_dict, tp_sl_choice=\"SL\", datetime_now=datetime_now)\n",
    "    stop_loss_price = stop_loss_list[0]\n",
    "    create_order_for_client(account_id=clients_account_id[\"client_1\"], symbol=\"MSFT\", qty=\"0.05\", side=\"sell\",type=\"limit\", limit_price=stop_loss_price)\n",
    "\n",
    "\n",
    "    update_order_field(direction = direction, \n",
    "                            alpaca_order_id = alpaca_order_id_open, \n",
    "                            field_to_update = \"planned_tp_sl_change_date\", \n",
    "                            new_field_value = order_mongodb_record[\"planned_tp_sl_change_date\"] + pd.DateOffset(hours=24))"
   ]
  },
  {
   "cell_type": "markdown",
   "metadata": {},
   "source": [
    "## Workflow"
   ]
  },
  {
   "cell_type": "markdown",
   "metadata": {},
   "source": [
    "Sabado por la noche se generan predicciones.\n",
    "\n",
    "#### A la apertura de los mercados se consulta en MongoDB los stocks que tienen predicciones para los mercados abiertos. \n",
    "#### At market open, stocks that operate in those markets are queried to check their predictions "
   ]
  },
  {
   "cell_type": "code",
   "execution_count": 119,
   "metadata": {},
   "outputs": [
    {
     "name": "stdout",
     "output_type": "stream",
     "text": [
      "Pinged your deployment. You successfully connected to MongoDB!\n",
      "There 32 trades predicted in the collection:\n",
      "[{'_id': ObjectId('67a5f8478c19b8c7ba9eabfa'), 'symbol': 'AAPL', 'forecast_horizon_start': datetime.datetime(2025, 2, 3, 0, 0), 'mean_upper_bound': 241.1686881567026, 'mean_lower_bound': 231.00618293187918, 'open_price_for_rrr': 235.62550348861706, 'adj_open_price_for_rrr': 235.15519310241223, 'mean_pot_profit_pct': 0.003964371058871988, 'forecast_creation': '2025-02-07', 'target_risk_reward': 2.5, 'comission_rate': 0.002, 'bounds': {'2025-02-03': {'forecast_day': 1, 'upper_bound': 238.39220277715108, 'lower_bound': 233.58717790450936}, '2025-02-04': {'forecast_day': 2, 'upper_bound': 239.8073237985267, 'lower_bound': 231.89004029777902}, '2025-02-05': {'forecast_day': 3, 'upper_bound': 241.54761136439447, 'lower_bound': 230.96673499501046}, '2025-02-06': {'forecast_day': 4, 'upper_bound': 242.4898937161684, 'lower_bound': 229.80083659916093}, '2025-02-07': {'forecast_day': 5, 'upper_bound': 243.60640912727246, 'lower_bound': 228.7861248629361}}}, {'_id': ObjectId('67a5f8478c19b8c7ba9eabfb'), 'symbol': 'ACN', 'forecast_horizon_start': datetime.datetime(2025, 2, 3, 0, 0), 'mean_upper_bound': 393.4886588288851, 'mean_lower_bound': 377.57822611254505, 'open_price_for_rrr': 384.8102409836087, 'adj_open_price_for_rrr': 384.0421566702681, 'mean_pot_profit_pct': 0.003883130470302272, 'forecast_creation': '2025-02-07', 'target_risk_reward': 2.5, 'comission_rate': 0.002, 'bounds': {'2025-02-03': {'forecast_day': 1, 'upper_bound': 389.0869378806306, 'lower_bound': 381.30309128070525}, '2025-02-04': {'forecast_day': 2, 'upper_bound': 391.71334129960087, 'lower_bound': 379.04085453676123}, '2025-02-05': {'forecast_day': 3, 'upper_bound': 393.75610922490057, 'lower_bound': 376.96884670641685}, '2025-02-06': {'forecast_day': 4, 'upper_bound': 395.52127331594403, 'lower_bound': 376.00367766592274}, '2025-02-07': {'forecast_day': 5, 'upper_bound': 397.3656324233494, 'lower_bound': 374.5746603729194}}}]\n"
     ]
    }
   ],
   "source": [
    "# First, have market opening dict for tickers\n",
    "\n",
    "# Second, have a cron and .sh file programmed for those hours\n",
    "\n",
    "# Third, check those tickers open requirements\n",
    "db_handle = MongoDBHandler(db_user=db_user, db_pass=db_pass, host=db_host, options=mongodb_options)\n",
    "\n",
    "db_handle.connect_to_database(database)\n",
    "\n",
    "collection = db_handle.db[\"stocks_predictions\"]\n",
    "\n",
    "result_find_list = list(collection.find())\n",
    "print(f\"There {len(result_find_list)} trades predicted in the collection:\")\n",
    "print(result_find_list[:2])\n"
   ]
  },
  {
   "cell_type": "markdown",
   "metadata": {},
   "source": [
    "Find those with dates predicted for tomorrow, taking the example of AAPL and NVDA:"
   ]
  },
  {
   "cell_type": "code",
   "execution_count": 83,
   "metadata": {},
   "outputs": [
    {
     "data": {
      "text/plain": [
       "[{'_id': ObjectId('67a5f8478c19b8c7ba9eabfa'),\n",
       "  'symbol': 'AAPL',\n",
       "  'forecast_horizon_start': datetime.datetime(2025, 2, 3, 0, 0),\n",
       "  'mean_upper_bound': 241.1686881567026,\n",
       "  'mean_lower_bound': 231.00618293187918,\n",
       "  'open_price_for_rrr': 235.62550348861706,\n",
       "  'adj_open_price_for_rrr': 235.15519310241223,\n",
       "  'mean_pot_profit_pct': 0.003964371058871988,\n",
       "  'forecast_creation': '2025-02-07',\n",
       "  'target_risk_reward': 2.5,\n",
       "  'comission_rate': 0.002,\n",
       "  'bounds': {'2025-02-03': {'forecast_day': 1,\n",
       "    'upper_bound': 238.39220277715108,\n",
       "    'lower_bound': 233.58717790450936},\n",
       "   '2025-02-04': {'forecast_day': 2,\n",
       "    'upper_bound': 239.8073237985267,\n",
       "    'lower_bound': 231.89004029777902},\n",
       "   '2025-02-05': {'forecast_day': 3,\n",
       "    'upper_bound': 241.54761136439447,\n",
       "    'lower_bound': 230.96673499501046},\n",
       "   '2025-02-06': {'forecast_day': 4,\n",
       "    'upper_bound': 242.4898937161684,\n",
       "    'lower_bound': 229.80083659916093},\n",
       "   '2025-02-07': {'forecast_day': 5,\n",
       "    'upper_bound': 243.60640912727246,\n",
       "    'lower_bound': 228.7861248629361}}},\n",
       " {'_id': ObjectId('67a5f8478c19b8c7ba9eac0f'),\n",
       "  'symbol': 'NVDA',\n",
       "  'forecast_horizon_start': datetime.datetime(2025, 2, 3, 0, 0),\n",
       "  'mean_upper_bound': 127.65687976408876,\n",
       "  'mean_lower_bound': 117.04927334699798,\n",
       "  'open_price_for_rrr': 121.87091262749378,\n",
       "  'adj_open_price_for_rrr': 121.62765731286804,\n",
       "  'mean_pot_profit_pct': 0.005964262230335508,\n",
       "  'forecast_creation': '2025-02-07',\n",
       "  'target_risk_reward': 2.5,\n",
       "  'comission_rate': 0.002,\n",
       "  'bounds': {'2025-02-03': {'forecast_day': 1,\n",
       "    'upper_bound': 123.50943984582905,\n",
       "    'lower_bound': 118.28565821132852},\n",
       "   '2025-02-04': {'forecast_day': 2,\n",
       "    'upper_bound': 127.33651696978217,\n",
       "    'lower_bound': 118.98429004762636},\n",
       "   '2025-02-05': {'forecast_day': 3,\n",
       "    'upper_bound': 128.1245557805781,\n",
       "    'lower_bound': 116.89583340459676},\n",
       "   '2025-02-06': {'forecast_day': 4,\n",
       "    'upper_bound': 129.27165491147366,\n",
       "    'lower_bound': 116.15360578799479},\n",
       "   '2025-02-07': {'forecast_day': 5,\n",
       "    'upper_bound': 130.04223131278084,\n",
       "    'lower_bound': 114.92697928344354}}}]"
      ]
     },
     "execution_count": 83,
     "metadata": {},
     "output_type": "execute_result"
    }
   ],
   "source": [
    "tickers_list = [\"AAPL\",\"NVDA\"]\n",
    "date_simulation = datetime(2025, 2, 3)\n",
    "tickers_today = list(collection.find({\"$and\": [{\"forecast_horizon_start\": date_simulation},{\"symbol\": {\"$in\": tickers_list}}]}))\n",
    "tickers_today"
   ]
  },
  {
   "cell_type": "markdown",
   "metadata": {},
   "source": [
    "Build the conditions dataframe for trade opening:"
   ]
  },
  {
   "cell_type": "code",
   "execution_count": 86,
   "metadata": {},
   "outputs": [
    {
     "data": {
      "text/html": [
       "<div>\n",
       "<style scoped>\n",
       "    .dataframe tbody tr th:only-of-type {\n",
       "        vertical-align: middle;\n",
       "    }\n",
       "\n",
       "    .dataframe tbody tr th {\n",
       "        vertical-align: top;\n",
       "    }\n",
       "\n",
       "    .dataframe thead th {\n",
       "        text-align: right;\n",
       "    }\n",
       "</style>\n",
       "<table border=\"1\" class=\"dataframe\">\n",
       "  <thead>\n",
       "    <tr style=\"text-align: right;\">\n",
       "      <th></th>\n",
       "      <th>symbol</th>\n",
       "      <th>adj_open_price_for_rrr</th>\n",
       "      <th>upper_bound_TP</th>\n",
       "      <th>lower_bound_SL</th>\n",
       "    </tr>\n",
       "  </thead>\n",
       "  <tbody>\n",
       "    <tr>\n",
       "      <th>0</th>\n",
       "      <td>AAPL</td>\n",
       "      <td>235.155193</td>\n",
       "      <td>238.392203</td>\n",
       "      <td>233.587178</td>\n",
       "    </tr>\n",
       "    <tr>\n",
       "      <th>1</th>\n",
       "      <td>NVDA</td>\n",
       "      <td>121.627657</td>\n",
       "      <td>123.509440</td>\n",
       "      <td>118.285658</td>\n",
       "    </tr>\n",
       "  </tbody>\n",
       "</table>\n",
       "</div>"
      ],
      "text/plain": [
       "  symbol  adj_open_price_for_rrr  upper_bound_TP  lower_bound_SL\n",
       "0   AAPL              235.155193      238.392203      233.587178\n",
       "1   NVDA              121.627657      123.509440      118.285658"
      ]
     },
     "execution_count": 86,
     "metadata": {},
     "output_type": "execute_result"
    }
   ],
   "source": [
    "def get_evaluation_trade_open(mongo_collection: object, symbols_list: List[str], date: datetime = datetime.today()):\n",
    "    tickers_list = list(mongo_collection.find({\"$and\": [{\"forecast_horizon_start\": date},{\"symbol\": {\"$in\": symbols_list}}]}))\n",
    "\n",
    "    trade_evaluation_open_dict = {\"symbol\": [],\n",
    "                                  \"adj_open_price_for_rrr\": [],\n",
    "                                  \"upper_bound_TP\": [],\n",
    "                                  \"lower_bound_SL\": []}\n",
    "    \n",
    "    \n",
    "    for ticker in tickers_list:\n",
    "        trade_evaluation_open_dict[\"symbol\"].append(ticker[\"symbol\"])\n",
    "        trade_evaluation_open_dict[\"adj_open_price_for_rrr\"].append(ticker[\"adj_open_price_for_rrr\"])\n",
    "        trade_evaluation_open_dict[\"upper_bound_TP\"].append(ticker[\"bounds\"][date.strftime(\"%Y-%m-%d\")][\"upper_bound\"])\n",
    "        trade_evaluation_open_dict[\"lower_bound_SL\"].append(ticker[\"bounds\"][date.strftime(\"%Y-%m-%d\")][\"lower_bound\"])\n",
    "\n",
    "\n",
    "    return pd.DataFrame(trade_evaluation_open_dict)\n",
    "\n",
    "tickers_required_price = get_evaluation_trade_open(collection, symbols_list=tickers_list, date=date_simulation)\n",
    "tickers_required_price"
   ]
  },
  {
   "cell_type": "markdown",
   "metadata": {},
   "source": [
    "#### If its current price is below the required, open trade:\n",
    "- Note: With a limit set up by the exposure and other conditions. I am going to open 10 for this PoC"
   ]
  },
  {
   "cell_type": "code",
   "execution_count": 93,
   "metadata": {},
   "outputs": [
    {
     "data": {
      "text/html": [
       "<div>\n",
       "<style scoped>\n",
       "    .dataframe tbody tr th:only-of-type {\n",
       "        vertical-align: middle;\n",
       "    }\n",
       "\n",
       "    .dataframe tbody tr th {\n",
       "        vertical-align: top;\n",
       "    }\n",
       "\n",
       "    .dataframe thead th {\n",
       "        text-align: right;\n",
       "    }\n",
       "</style>\n",
       "<table border=\"1\" class=\"dataframe\">\n",
       "  <thead>\n",
       "    <tr style=\"text-align: right;\">\n",
       "      <th></th>\n",
       "      <th>symbol</th>\n",
       "      <th>adj_open_price_for_rrr</th>\n",
       "      <th>upper_bound_TP</th>\n",
       "      <th>lower_bound_SL</th>\n",
       "      <th>last_price</th>\n",
       "      <th>open_trade</th>\n",
       "    </tr>\n",
       "  </thead>\n",
       "  <tbody>\n",
       "    <tr>\n",
       "      <th>0</th>\n",
       "      <td>AAPL</td>\n",
       "      <td>235.155193</td>\n",
       "      <td>238.392203</td>\n",
       "      <td>233.587178</td>\n",
       "      <td>233.03</td>\n",
       "      <td>1</td>\n",
       "    </tr>\n",
       "    <tr>\n",
       "      <th>1</th>\n",
       "      <td>NVDA</td>\n",
       "      <td>121.627657</td>\n",
       "      <td>123.509440</td>\n",
       "      <td>118.285658</td>\n",
       "      <td>128.14</td>\n",
       "      <td>0</td>\n",
       "    </tr>\n",
       "  </tbody>\n",
       "</table>\n",
       "</div>"
      ],
      "text/plain": [
       "  symbol  adj_open_price_for_rrr  upper_bound_TP  lower_bound_SL  last_price  \\\n",
       "0   AAPL              235.155193      238.392203      233.587178      233.03   \n",
       "1   NVDA              121.627657      123.509440      118.285658      128.14   \n",
       "\n",
       "   open_trade  \n",
       "0           1  \n",
       "1           0  "
      ]
     },
     "execution_count": 93,
     "metadata": {},
     "output_type": "execute_result"
    }
   ],
   "source": [
    "ALPHA_VANTAGE_API_KEY = os.environ.get(\"ALPHA_VANTAGE_API_KEY\")\n",
    "\n",
    "def get_last_ticker_value(ticker_symbol: str, api_key: str):\n",
    "    url = f'https://www.alphavantage.co/query?function=TIME_SERIES_INTRADAY&symbol={ticker_symbol}&interval=5min&apikey={api_key}'\n",
    "    r = requests.get(url)\n",
    "    data = r.json()\n",
    "    last_close = float( next( iter( data['Time Series (5min)'].values() ) )['4. close'] )\n",
    "\n",
    "    return last_close\n",
    "\n",
    "tickers_required_price[\"last_price\"] = tickers_required_price[\"symbol\"].apply(lambda symbol: get_last_ticker_value(symbol, ALPHA_VANTAGE_API_KEY))\n",
    "tickers_required_price[\"open_trade\"] = np.where(tickers_required_price[\"last_price\"] < tickers_required_price[\"adj_open_price_for_rrr\"], 1 ,0)\n",
    "tickers_required_price"
   ]
  },
  {
   "cell_type": "code",
   "execution_count": null,
   "metadata": {},
   "outputs": [],
   "source": [
    "create_and_register_order()"
   ]
  },
  {
   "cell_type": "markdown",
   "metadata": {},
   "source": []
  },
  {
   "cell_type": "markdown",
   "metadata": {},
   "source": []
  },
  {
   "cell_type": "code",
   "execution_count": null,
   "metadata": {},
   "outputs": [],
   "source": []
  },
  {
   "cell_type": "code",
   "execution_count": null,
   "metadata": {},
   "outputs": [],
   "source": []
  },
  {
   "cell_type": "code",
   "execution_count": null,
   "metadata": {},
   "outputs": [],
   "source": []
  },
  {
   "cell_type": "code",
   "execution_count": null,
   "metadata": {},
   "outputs": [],
   "source": []
  }
 ],
 "metadata": {
  "kernelspec": {
   "display_name": "algorithmic_trading",
   "language": "python",
   "name": "algorithmic_trading"
  },
  "language_info": {
   "codemirror_mode": {
    "name": "ipython",
    "version": 3
   },
   "file_extension": ".py",
   "mimetype": "text/x-python",
   "name": "python",
   "nbconvert_exporter": "python",
   "pygments_lexer": "ipython3",
   "version": "3.10.12"
  }
 },
 "nbformat": 4,
 "nbformat_minor": 2
}
